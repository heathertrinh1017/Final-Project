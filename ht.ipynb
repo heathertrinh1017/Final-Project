{
 "cells": [
  {
   "cell_type": "code",
   "execution_count": 1,
   "metadata": {},
   "outputs": [],
   "source": [
    "import pandas as pd\n",
    "import numpy as np\n",
    "import matplotlib.pyplot as plt\n",
    "from sklearn.model_selection import train_test_split\n"
   ]
  },
  {
   "cell_type": "code",
   "execution_count": 2,
   "metadata": {},
   "outputs": [
    {
     "data": {
      "text/html": [
       "<div>\n",
       "<style scoped>\n",
       "    .dataframe tbody tr th:only-of-type {\n",
       "        vertical-align: middle;\n",
       "    }\n",
       "\n",
       "    .dataframe tbody tr th {\n",
       "        vertical-align: top;\n",
       "    }\n",
       "\n",
       "    .dataframe thead th {\n",
       "        text-align: right;\n",
       "    }\n",
       "</style>\n",
       "<table border=\"1\" class=\"dataframe\">\n",
       "  <thead>\n",
       "    <tr style=\"text-align: right;\">\n",
       "      <th></th>\n",
       "      <th>Hospital Number</th>\n",
       "      <th>Admit Age In Years</th>\n",
       "      <th>Gender Title</th>\n",
       "      <th>Race - Version 1</th>\n",
       "      <th>Length Of Stay</th>\n",
       "      <th>Total Ped Expected LOS</th>\n",
       "      <th>Discharge Mortality Flag</th>\n",
       "      <th>Mechanical Vent Flag</th>\n",
       "      <th>ECMO Flag</th>\n",
       "      <th>Infection Flag</th>\n",
       "      <th>Medical Complication Flag</th>\n",
       "      <th>Surgical Complication Flag</th>\n",
       "      <th>Post Operative LOS</th>\n",
       "      <th>RACHS Score</th>\n",
       "      <th>Principal Dx (ICD)</th>\n",
       "      <th>Principal Dx Code - Title (ICD)</th>\n",
       "      <th>Risk Of Mortality Title</th>\n",
       "      <th>Total Ped Expected Mortalities</th>\n",
       "      <th>Total Days In ICU</th>\n",
       "    </tr>\n",
       "  </thead>\n",
       "  <tbody>\n",
       "    <tr>\n",
       "      <th>19763</th>\n",
       "      <td>2029</td>\n",
       "      <td>16</td>\n",
       "      <td>0</td>\n",
       "      <td>1</td>\n",
       "      <td>5</td>\n",
       "      <td>1.72</td>\n",
       "      <td>0</td>\n",
       "      <td>0</td>\n",
       "      <td>0</td>\n",
       "      <td>0</td>\n",
       "      <td>0</td>\n",
       "      <td>0</td>\n",
       "      <td>2</td>\n",
       "      <td>1</td>\n",
       "      <td>42732</td>\n",
       "      <td>42732 - Atrial flutter</td>\n",
       "      <td>0</td>\n",
       "      <td>0.0000</td>\n",
       "      <td>4.0</td>\n",
       "    </tr>\n",
       "    <tr>\n",
       "      <th>19764</th>\n",
       "      <td>2029</td>\n",
       "      <td>0</td>\n",
       "      <td>0</td>\n",
       "      <td>1</td>\n",
       "      <td>8</td>\n",
       "      <td>5.64</td>\n",
       "      <td>0</td>\n",
       "      <td>1</td>\n",
       "      <td>0</td>\n",
       "      <td>0</td>\n",
       "      <td>0</td>\n",
       "      <td>0</td>\n",
       "      <td>8</td>\n",
       "      <td>2</td>\n",
       "      <td>7454</td>\n",
       "      <td>7454 - Ventricular sept defect</td>\n",
       "      <td>0</td>\n",
       "      <td>0.0011</td>\n",
       "      <td>6.0</td>\n",
       "    </tr>\n",
       "    <tr>\n",
       "      <th>19765</th>\n",
       "      <td>2029</td>\n",
       "      <td>3</td>\n",
       "      <td>1</td>\n",
       "      <td>1</td>\n",
       "      <td>1</td>\n",
       "      <td>3.01</td>\n",
       "      <td>0</td>\n",
       "      <td>0</td>\n",
       "      <td>0</td>\n",
       "      <td>1</td>\n",
       "      <td>0</td>\n",
       "      <td>0</td>\n",
       "      <td>0</td>\n",
       "      <td>1</td>\n",
       "      <td>4644</td>\n",
       "      <td>4644 - Croup</td>\n",
       "      <td>1</td>\n",
       "      <td>0.0011</td>\n",
       "      <td>1.0</td>\n",
       "    </tr>\n",
       "    <tr>\n",
       "      <th>19766</th>\n",
       "      <td>2029</td>\n",
       "      <td>11</td>\n",
       "      <td>1</td>\n",
       "      <td>1</td>\n",
       "      <td>8</td>\n",
       "      <td>6.65</td>\n",
       "      <td>0</td>\n",
       "      <td>0</td>\n",
       "      <td>0</td>\n",
       "      <td>1</td>\n",
       "      <td>0</td>\n",
       "      <td>0</td>\n",
       "      <td>0</td>\n",
       "      <td>1</td>\n",
       "      <td>29689</td>\n",
       "      <td>29689 - Bipolar disorder NEC</td>\n",
       "      <td>1</td>\n",
       "      <td>0.0000</td>\n",
       "      <td>0.0</td>\n",
       "    </tr>\n",
       "    <tr>\n",
       "      <th>19767</th>\n",
       "      <td>2037</td>\n",
       "      <td>0</td>\n",
       "      <td>1</td>\n",
       "      <td>1</td>\n",
       "      <td>19</td>\n",
       "      <td>32.57</td>\n",
       "      <td>0</td>\n",
       "      <td>0</td>\n",
       "      <td>0</td>\n",
       "      <td>0</td>\n",
       "      <td>0</td>\n",
       "      <td>0</td>\n",
       "      <td>17</td>\n",
       "      <td>1</td>\n",
       "      <td>V3001</td>\n",
       "      <td>V3001 - Single LB-hospital by CD</td>\n",
       "      <td>1</td>\n",
       "      <td>0.0396</td>\n",
       "      <td>NaN</td>\n",
       "    </tr>\n",
       "  </tbody>\n",
       "</table>\n",
       "</div>"
      ],
      "text/plain": [
       "       Hospital Number  Admit Age In Years  Gender Title  Race - Version 1  \\\n",
       "19763             2029                  16             0                 1   \n",
       "19764             2029                   0             0                 1   \n",
       "19765             2029                   3             1                 1   \n",
       "19766             2029                  11             1                 1   \n",
       "19767             2037                   0             1                 1   \n",
       "\n",
       "      Length Of Stay  Total Ped Expected LOS  Discharge Mortality Flag  \\\n",
       "19763              5                    1.72                         0   \n",
       "19764              8                    5.64                         0   \n",
       "19765              1                    3.01                         0   \n",
       "19766              8                    6.65                         0   \n",
       "19767             19                   32.57                         0   \n",
       "\n",
       "       Mechanical Vent Flag  ECMO Flag  Infection Flag  \\\n",
       "19763                     0          0               0   \n",
       "19764                     1          0               0   \n",
       "19765                     0          0               1   \n",
       "19766                     0          0               1   \n",
       "19767                     0          0               0   \n",
       "\n",
       "       Medical Complication Flag  Surgical Complication Flag  \\\n",
       "19763                          0                           0   \n",
       "19764                          0                           0   \n",
       "19765                          0                           0   \n",
       "19766                          0                           0   \n",
       "19767                          0                           0   \n",
       "\n",
       "      Post Operative LOS  RACHS Score Principal Dx (ICD)  \\\n",
       "19763                  2            1              42732   \n",
       "19764                  8            2               7454   \n",
       "19765                  0            1               4644   \n",
       "19766                  0            1              29689   \n",
       "19767                 17            1              V3001   \n",
       "\n",
       "        Principal Dx Code - Title (ICD)  Risk Of Mortality Title  \\\n",
       "19763            42732 - Atrial flutter                        0   \n",
       "19764    7454 - Ventricular sept defect                        0   \n",
       "19765                      4644 - Croup                        1   \n",
       "19766      29689 - Bipolar disorder NEC                        1   \n",
       "19767  V3001 - Single LB-hospital by CD                        1   \n",
       "\n",
       "       Total Ped Expected Mortalities  Total Days In ICU  \n",
       "19763                          0.0000                4.0  \n",
       "19764                          0.0011                6.0  \n",
       "19765                          0.0011                1.0  \n",
       "19766                          0.0000                0.0  \n",
       "19767                          0.0396                NaN  "
      ]
     },
     "execution_count": 2,
     "metadata": {},
     "output_type": "execute_result"
    }
   ],
   "source": [
    "# thyroid demographics with omitted columns\n",
    "thyroid_demographics = pd.read_csv('data/thyroid_demographics_cln.csv')\n",
    "\n",
    "thyroid_demographics.tail()"
   ]
  },
  {
   "cell_type": "code",
   "execution_count": 3,
   "metadata": {},
   "outputs": [
    {
     "data": {
      "text/html": [
       "<div>\n",
       "<style scoped>\n",
       "    .dataframe tbody tr th:only-of-type {\n",
       "        vertical-align: middle;\n",
       "    }\n",
       "\n",
       "    .dataframe tbody tr th {\n",
       "        vertical-align: top;\n",
       "    }\n",
       "\n",
       "    .dataframe thead th {\n",
       "        text-align: right;\n",
       "    }\n",
       "</style>\n",
       "<table border=\"1\" class=\"dataframe\">\n",
       "  <thead>\n",
       "    <tr style=\"text-align: right;\">\n",
       "      <th></th>\n",
       "      <th>Hospital Number</th>\n",
       "      <th>Admit Age In Years</th>\n",
       "      <th>Gender Title</th>\n",
       "      <th>Race - Version 1</th>\n",
       "      <th>Length Of Stay</th>\n",
       "      <th>Total Ped Expected LOS</th>\n",
       "      <th>Discharge Mortality Flag</th>\n",
       "      <th>Mechanical Vent Flag</th>\n",
       "      <th>ECMO Flag</th>\n",
       "      <th>Infection Flag</th>\n",
       "      <th>Medical Complication Flag</th>\n",
       "      <th>Surgical Complication Flag</th>\n",
       "      <th>Post Operative LOS</th>\n",
       "      <th>RACHS Score</th>\n",
       "      <th>Principal Dx (ICD)</th>\n",
       "      <th>Principal Dx Code - Title (ICD)</th>\n",
       "      <th>Risk Of Mortality Title</th>\n",
       "      <th>Total Ped Expected Mortalities</th>\n",
       "      <th>Total Days In ICU</th>\n",
       "    </tr>\n",
       "  </thead>\n",
       "  <tbody>\n",
       "    <tr>\n",
       "      <th>0</th>\n",
       "      <td>2037</td>\n",
       "      <td>0</td>\n",
       "      <td>0</td>\n",
       "      <td>2</td>\n",
       "      <td>7</td>\n",
       "      <td>8.19</td>\n",
       "      <td>0</td>\n",
       "      <td>1</td>\n",
       "      <td>0</td>\n",
       "      <td>0</td>\n",
       "      <td>0</td>\n",
       "      <td>0</td>\n",
       "      <td>6</td>\n",
       "      <td>1</td>\n",
       "      <td>2762</td>\n",
       "      <td>2762 - Acidosis</td>\n",
       "      <td>1</td>\n",
       "      <td>0.0000</td>\n",
       "      <td>4.0</td>\n",
       "    </tr>\n",
       "    <tr>\n",
       "      <th>1</th>\n",
       "      <td>2037</td>\n",
       "      <td>0</td>\n",
       "      <td>1</td>\n",
       "      <td>6</td>\n",
       "      <td>85</td>\n",
       "      <td>94.13</td>\n",
       "      <td>0</td>\n",
       "      <td>1</td>\n",
       "      <td>0</td>\n",
       "      <td>0</td>\n",
       "      <td>0</td>\n",
       "      <td>1</td>\n",
       "      <td>65</td>\n",
       "      <td>6</td>\n",
       "      <td>V3001</td>\n",
       "      <td>V3001 - Single LB-hospital by CD</td>\n",
       "      <td>3</td>\n",
       "      <td>0.0794</td>\n",
       "      <td>61.0</td>\n",
       "    </tr>\n",
       "    <tr>\n",
       "      <th>2</th>\n",
       "      <td>2037</td>\n",
       "      <td>1</td>\n",
       "      <td>0</td>\n",
       "      <td>6</td>\n",
       "      <td>9</td>\n",
       "      <td>3.20</td>\n",
       "      <td>0</td>\n",
       "      <td>0</td>\n",
       "      <td>0</td>\n",
       "      <td>1</td>\n",
       "      <td>0</td>\n",
       "      <td>0</td>\n",
       "      <td>9</td>\n",
       "      <td>1</td>\n",
       "      <td>49391</td>\n",
       "      <td>49391 - Asthma w status asth</td>\n",
       "      <td>1</td>\n",
       "      <td>0.0007</td>\n",
       "      <td>4.0</td>\n",
       "    </tr>\n",
       "    <tr>\n",
       "      <th>4</th>\n",
       "      <td>2037</td>\n",
       "      <td>0</td>\n",
       "      <td>1</td>\n",
       "      <td>6</td>\n",
       "      <td>25</td>\n",
       "      <td>25.32</td>\n",
       "      <td>0</td>\n",
       "      <td>1</td>\n",
       "      <td>0</td>\n",
       "      <td>1</td>\n",
       "      <td>0</td>\n",
       "      <td>0</td>\n",
       "      <td>25</td>\n",
       "      <td>1</td>\n",
       "      <td>769</td>\n",
       "      <td>769 - Resp distress syndrome</td>\n",
       "      <td>3</td>\n",
       "      <td>0.3899</td>\n",
       "      <td>0.0</td>\n",
       "    </tr>\n",
       "    <tr>\n",
       "      <th>5</th>\n",
       "      <td>2037</td>\n",
       "      <td>1</td>\n",
       "      <td>0</td>\n",
       "      <td>6</td>\n",
       "      <td>2</td>\n",
       "      <td>4.85</td>\n",
       "      <td>0</td>\n",
       "      <td>0</td>\n",
       "      <td>0</td>\n",
       "      <td>1</td>\n",
       "      <td>0</td>\n",
       "      <td>0</td>\n",
       "      <td>2</td>\n",
       "      <td>1</td>\n",
       "      <td>4280</td>\n",
       "      <td>4280 - CHF NOS</td>\n",
       "      <td>1</td>\n",
       "      <td>0.0099</td>\n",
       "      <td>0.0</td>\n",
       "    </tr>\n",
       "  </tbody>\n",
       "</table>\n",
       "</div>"
      ],
      "text/plain": [
       "   Hospital Number  Admit Age In Years  Gender Title  Race - Version 1  \\\n",
       "0             2037                   0             0                 2   \n",
       "1             2037                   0             1                 6   \n",
       "2             2037                   1             0                 6   \n",
       "4             2037                   0             1                 6   \n",
       "5             2037                   1             0                 6   \n",
       "\n",
       "  Length Of Stay  Total Ped Expected LOS  Discharge Mortality Flag  \\\n",
       "0              7                    8.19                         0   \n",
       "1             85                   94.13                         0   \n",
       "2              9                    3.20                         0   \n",
       "4             25                   25.32                         0   \n",
       "5              2                    4.85                         0   \n",
       "\n",
       "   Mechanical Vent Flag  ECMO Flag  Infection Flag  Medical Complication Flag  \\\n",
       "0                     1          0               0                          0   \n",
       "1                     1          0               0                          0   \n",
       "2                     0          0               1                          0   \n",
       "4                     1          0               1                          0   \n",
       "5                     0          0               1                          0   \n",
       "\n",
       "   Surgical Complication Flag Post Operative LOS  RACHS Score  \\\n",
       "0                           0                  6            1   \n",
       "1                           1                 65            6   \n",
       "2                           0                  9            1   \n",
       "4                           0                 25            1   \n",
       "5                           0                  2            1   \n",
       "\n",
       "  Principal Dx (ICD)   Principal Dx Code - Title (ICD)  \\\n",
       "0               2762                   2762 - Acidosis   \n",
       "1              V3001  V3001 - Single LB-hospital by CD   \n",
       "2              49391      49391 - Asthma w status asth   \n",
       "4                769      769 - Resp distress syndrome   \n",
       "5               4280                    4280 - CHF NOS   \n",
       "\n",
       "   Risk Of Mortality Title  Total Ped Expected Mortalities  Total Days In ICU  \n",
       "0                        1                          0.0000                4.0  \n",
       "1                        3                          0.0794               61.0  \n",
       "2                        1                          0.0007                4.0  \n",
       "4                        3                          0.3899                0.0  \n",
       "5                        1                          0.0099                0.0  "
      ]
     },
     "execution_count": 3,
     "metadata": {},
     "output_type": "execute_result"
    }
   ],
   "source": [
    "thyroid_demographics = thyroid_demographics.dropna(how='any')\n",
    "thyroid_demographics.head()"
   ]
  },
  {
   "cell_type": "code",
   "execution_count": 4,
   "metadata": {},
   "outputs": [
    {
     "data": {
      "text/plain": [
       "(16564,)"
      ]
     },
     "execution_count": 4,
     "metadata": {},
     "output_type": "execute_result"
    }
   ],
   "source": [
    "thyroid_demographics['Hospital Number'].shape"
   ]
  },
  {
   "cell_type": "code",
   "execution_count": 5,
   "metadata": {},
   "outputs": [
    {
     "data": {
      "text/html": [
       "<div>\n",
       "<style scoped>\n",
       "    .dataframe tbody tr th:only-of-type {\n",
       "        vertical-align: middle;\n",
       "    }\n",
       "\n",
       "    .dataframe tbody tr th {\n",
       "        vertical-align: top;\n",
       "    }\n",
       "\n",
       "    .dataframe thead th {\n",
       "        text-align: right;\n",
       "    }\n",
       "</style>\n",
       "<table border=\"1\" class=\"dataframe\">\n",
       "  <thead>\n",
       "    <tr style=\"text-align: right;\">\n",
       "      <th></th>\n",
       "      <th>Hospital Number</th>\n",
       "      <th>Admit Age In Years</th>\n",
       "      <th>Gender Title</th>\n",
       "      <th>Race - Version 1</th>\n",
       "      <th>Length Of Stay</th>\n",
       "      <th>Total Ped Expected LOS</th>\n",
       "      <th>Discharge Mortality Flag</th>\n",
       "      <th>Mechanical Vent Flag</th>\n",
       "      <th>ECMO Flag</th>\n",
       "      <th>Infection Flag</th>\n",
       "      <th>Medical Complication Flag</th>\n",
       "      <th>Surgical Complication Flag</th>\n",
       "      <th>Post Operative LOS</th>\n",
       "      <th>RACHS Score</th>\n",
       "      <th>Principal Dx (ICD)</th>\n",
       "      <th>Risk Of Mortality Title</th>\n",
       "      <th>Total Ped Expected Mortalities</th>\n",
       "      <th>Total Days In ICU</th>\n",
       "    </tr>\n",
       "  </thead>\n",
       "  <tbody>\n",
       "    <tr>\n",
       "      <th>0</th>\n",
       "      <td>2037</td>\n",
       "      <td>0</td>\n",
       "      <td>0</td>\n",
       "      <td>2</td>\n",
       "      <td>7</td>\n",
       "      <td>8.19</td>\n",
       "      <td>0</td>\n",
       "      <td>1</td>\n",
       "      <td>0</td>\n",
       "      <td>0</td>\n",
       "      <td>0</td>\n",
       "      <td>0</td>\n",
       "      <td>6</td>\n",
       "      <td>1</td>\n",
       "      <td>2762</td>\n",
       "      <td>1</td>\n",
       "      <td>0.0000</td>\n",
       "      <td>4.0</td>\n",
       "    </tr>\n",
       "    <tr>\n",
       "      <th>1</th>\n",
       "      <td>2037</td>\n",
       "      <td>0</td>\n",
       "      <td>1</td>\n",
       "      <td>6</td>\n",
       "      <td>85</td>\n",
       "      <td>94.13</td>\n",
       "      <td>0</td>\n",
       "      <td>1</td>\n",
       "      <td>0</td>\n",
       "      <td>0</td>\n",
       "      <td>0</td>\n",
       "      <td>1</td>\n",
       "      <td>65</td>\n",
       "      <td>6</td>\n",
       "      <td>V3001</td>\n",
       "      <td>3</td>\n",
       "      <td>0.0794</td>\n",
       "      <td>61.0</td>\n",
       "    </tr>\n",
       "    <tr>\n",
       "      <th>2</th>\n",
       "      <td>2037</td>\n",
       "      <td>1</td>\n",
       "      <td>0</td>\n",
       "      <td>6</td>\n",
       "      <td>9</td>\n",
       "      <td>3.20</td>\n",
       "      <td>0</td>\n",
       "      <td>0</td>\n",
       "      <td>0</td>\n",
       "      <td>1</td>\n",
       "      <td>0</td>\n",
       "      <td>0</td>\n",
       "      <td>9</td>\n",
       "      <td>1</td>\n",
       "      <td>49391</td>\n",
       "      <td>1</td>\n",
       "      <td>0.0007</td>\n",
       "      <td>4.0</td>\n",
       "    </tr>\n",
       "    <tr>\n",
       "      <th>4</th>\n",
       "      <td>2037</td>\n",
       "      <td>0</td>\n",
       "      <td>1</td>\n",
       "      <td>6</td>\n",
       "      <td>25</td>\n",
       "      <td>25.32</td>\n",
       "      <td>0</td>\n",
       "      <td>1</td>\n",
       "      <td>0</td>\n",
       "      <td>1</td>\n",
       "      <td>0</td>\n",
       "      <td>0</td>\n",
       "      <td>25</td>\n",
       "      <td>1</td>\n",
       "      <td>769</td>\n",
       "      <td>3</td>\n",
       "      <td>0.3899</td>\n",
       "      <td>0.0</td>\n",
       "    </tr>\n",
       "    <tr>\n",
       "      <th>5</th>\n",
       "      <td>2037</td>\n",
       "      <td>1</td>\n",
       "      <td>0</td>\n",
       "      <td>6</td>\n",
       "      <td>2</td>\n",
       "      <td>4.85</td>\n",
       "      <td>0</td>\n",
       "      <td>0</td>\n",
       "      <td>0</td>\n",
       "      <td>1</td>\n",
       "      <td>0</td>\n",
       "      <td>0</td>\n",
       "      <td>2</td>\n",
       "      <td>1</td>\n",
       "      <td>4280</td>\n",
       "      <td>1</td>\n",
       "      <td>0.0099</td>\n",
       "      <td>0.0</td>\n",
       "    </tr>\n",
       "  </tbody>\n",
       "</table>\n",
       "</div>"
      ],
      "text/plain": [
       "   Hospital Number  Admit Age In Years  Gender Title  Race - Version 1  \\\n",
       "0             2037                   0             0                 2   \n",
       "1             2037                   0             1                 6   \n",
       "2             2037                   1             0                 6   \n",
       "4             2037                   0             1                 6   \n",
       "5             2037                   1             0                 6   \n",
       "\n",
       "  Length Of Stay  Total Ped Expected LOS  Discharge Mortality Flag  \\\n",
       "0              7                    8.19                         0   \n",
       "1             85                   94.13                         0   \n",
       "2              9                    3.20                         0   \n",
       "4             25                   25.32                         0   \n",
       "5              2                    4.85                         0   \n",
       "\n",
       "   Mechanical Vent Flag  ECMO Flag  Infection Flag  Medical Complication Flag  \\\n",
       "0                     1          0               0                          0   \n",
       "1                     1          0               0                          0   \n",
       "2                     0          0               1                          0   \n",
       "4                     1          0               1                          0   \n",
       "5                     0          0               1                          0   \n",
       "\n",
       "   Surgical Complication Flag Post Operative LOS  RACHS Score  \\\n",
       "0                           0                  6            1   \n",
       "1                           1                 65            6   \n",
       "2                           0                  9            1   \n",
       "4                           0                 25            1   \n",
       "5                           0                  2            1   \n",
       "\n",
       "  Principal Dx (ICD)  Risk Of Mortality Title  Total Ped Expected Mortalities  \\\n",
       "0               2762                        1                          0.0000   \n",
       "1              V3001                        3                          0.0794   \n",
       "2              49391                        1                          0.0007   \n",
       "4                769                        3                          0.3899   \n",
       "5               4280                        1                          0.0099   \n",
       "\n",
       "   Total Days In ICU  \n",
       "0                4.0  \n",
       "1               61.0  \n",
       "2                4.0  \n",
       "4                0.0  \n",
       "5                0.0  "
      ]
     },
     "execution_count": 5,
     "metadata": {},
     "output_type": "execute_result"
    }
   ],
   "source": [
    "thyroid_demographics =thyroid_demographics.drop(\"Principal Dx Code - Title (ICD)\",axis=1)\n",
    "thyroid_demographics.head()"
   ]
  },
  {
   "cell_type": "code",
   "execution_count": 6,
   "metadata": {},
   "outputs": [
    {
     "data": {
      "text/html": [
       "<div>\n",
       "<style scoped>\n",
       "    .dataframe tbody tr th:only-of-type {\n",
       "        vertical-align: middle;\n",
       "    }\n",
       "\n",
       "    .dataframe tbody tr th {\n",
       "        vertical-align: top;\n",
       "    }\n",
       "\n",
       "    .dataframe thead th {\n",
       "        text-align: right;\n",
       "    }\n",
       "</style>\n",
       "<table border=\"1\" class=\"dataframe\">\n",
       "  <thead>\n",
       "    <tr style=\"text-align: right;\">\n",
       "      <th></th>\n",
       "      <th>Hospital Number</th>\n",
       "      <th>Admit Age In Years</th>\n",
       "      <th>Gender Title</th>\n",
       "      <th>Race - Version 1</th>\n",
       "      <th>Length Of Stay</th>\n",
       "      <th>Total Ped Expected LOS</th>\n",
       "      <th>Discharge Mortality Flag</th>\n",
       "      <th>Mechanical Vent Flag</th>\n",
       "      <th>ECMO Flag</th>\n",
       "      <th>Infection Flag</th>\n",
       "      <th>Medical Complication Flag</th>\n",
       "      <th>Surgical Complication Flag</th>\n",
       "      <th>Post Operative LOS</th>\n",
       "      <th>RACHS Score</th>\n",
       "      <th>Risk Of Mortality Title</th>\n",
       "      <th>Total Ped Expected Mortalities</th>\n",
       "      <th>Total Days In ICU</th>\n",
       "    </tr>\n",
       "  </thead>\n",
       "  <tbody>\n",
       "    <tr>\n",
       "      <th>0</th>\n",
       "      <td>2037</td>\n",
       "      <td>0</td>\n",
       "      <td>0</td>\n",
       "      <td>2</td>\n",
       "      <td>7</td>\n",
       "      <td>8.19</td>\n",
       "      <td>0</td>\n",
       "      <td>1</td>\n",
       "      <td>0</td>\n",
       "      <td>0</td>\n",
       "      <td>0</td>\n",
       "      <td>0</td>\n",
       "      <td>6</td>\n",
       "      <td>1</td>\n",
       "      <td>1</td>\n",
       "      <td>0.0000</td>\n",
       "      <td>4.0</td>\n",
       "    </tr>\n",
       "    <tr>\n",
       "      <th>1</th>\n",
       "      <td>2037</td>\n",
       "      <td>0</td>\n",
       "      <td>1</td>\n",
       "      <td>6</td>\n",
       "      <td>85</td>\n",
       "      <td>94.13</td>\n",
       "      <td>0</td>\n",
       "      <td>1</td>\n",
       "      <td>0</td>\n",
       "      <td>0</td>\n",
       "      <td>0</td>\n",
       "      <td>1</td>\n",
       "      <td>65</td>\n",
       "      <td>6</td>\n",
       "      <td>3</td>\n",
       "      <td>0.0794</td>\n",
       "      <td>61.0</td>\n",
       "    </tr>\n",
       "    <tr>\n",
       "      <th>2</th>\n",
       "      <td>2037</td>\n",
       "      <td>1</td>\n",
       "      <td>0</td>\n",
       "      <td>6</td>\n",
       "      <td>9</td>\n",
       "      <td>3.20</td>\n",
       "      <td>0</td>\n",
       "      <td>0</td>\n",
       "      <td>0</td>\n",
       "      <td>1</td>\n",
       "      <td>0</td>\n",
       "      <td>0</td>\n",
       "      <td>9</td>\n",
       "      <td>1</td>\n",
       "      <td>1</td>\n",
       "      <td>0.0007</td>\n",
       "      <td>4.0</td>\n",
       "    </tr>\n",
       "    <tr>\n",
       "      <th>4</th>\n",
       "      <td>2037</td>\n",
       "      <td>0</td>\n",
       "      <td>1</td>\n",
       "      <td>6</td>\n",
       "      <td>25</td>\n",
       "      <td>25.32</td>\n",
       "      <td>0</td>\n",
       "      <td>1</td>\n",
       "      <td>0</td>\n",
       "      <td>1</td>\n",
       "      <td>0</td>\n",
       "      <td>0</td>\n",
       "      <td>25</td>\n",
       "      <td>1</td>\n",
       "      <td>3</td>\n",
       "      <td>0.3899</td>\n",
       "      <td>0.0</td>\n",
       "    </tr>\n",
       "    <tr>\n",
       "      <th>5</th>\n",
       "      <td>2037</td>\n",
       "      <td>1</td>\n",
       "      <td>0</td>\n",
       "      <td>6</td>\n",
       "      <td>2</td>\n",
       "      <td>4.85</td>\n",
       "      <td>0</td>\n",
       "      <td>0</td>\n",
       "      <td>0</td>\n",
       "      <td>1</td>\n",
       "      <td>0</td>\n",
       "      <td>0</td>\n",
       "      <td>2</td>\n",
       "      <td>1</td>\n",
       "      <td>1</td>\n",
       "      <td>0.0099</td>\n",
       "      <td>0.0</td>\n",
       "    </tr>\n",
       "  </tbody>\n",
       "</table>\n",
       "</div>"
      ],
      "text/plain": [
       "   Hospital Number  Admit Age In Years  Gender Title  Race - Version 1  \\\n",
       "0             2037                   0             0                 2   \n",
       "1             2037                   0             1                 6   \n",
       "2             2037                   1             0                 6   \n",
       "4             2037                   0             1                 6   \n",
       "5             2037                   1             0                 6   \n",
       "\n",
       "  Length Of Stay  Total Ped Expected LOS  Discharge Mortality Flag  \\\n",
       "0              7                    8.19                         0   \n",
       "1             85                   94.13                         0   \n",
       "2              9                    3.20                         0   \n",
       "4             25                   25.32                         0   \n",
       "5              2                    4.85                         0   \n",
       "\n",
       "   Mechanical Vent Flag  ECMO Flag  Infection Flag  Medical Complication Flag  \\\n",
       "0                     1          0               0                          0   \n",
       "1                     1          0               0                          0   \n",
       "2                     0          0               1                          0   \n",
       "4                     1          0               1                          0   \n",
       "5                     0          0               1                          0   \n",
       "\n",
       "   Surgical Complication Flag Post Operative LOS  RACHS Score  \\\n",
       "0                           0                  6            1   \n",
       "1                           1                 65            6   \n",
       "2                           0                  9            1   \n",
       "4                           0                 25            1   \n",
       "5                           0                  2            1   \n",
       "\n",
       "   Risk Of Mortality Title  Total Ped Expected Mortalities  Total Days In ICU  \n",
       "0                        1                          0.0000                4.0  \n",
       "1                        3                          0.0794               61.0  \n",
       "2                        1                          0.0007                4.0  \n",
       "4                        3                          0.3899                0.0  \n",
       "5                        1                          0.0099                0.0  "
      ]
     },
     "execution_count": 6,
     "metadata": {},
     "output_type": "execute_result"
    }
   ],
   "source": [
    "thyroid_demographics = thyroid_demographics.drop(\"Principal Dx (ICD)\",axis=1)\n",
    "thyroid_demographics.head()"
   ]
  },
  {
   "cell_type": "code",
   "execution_count": 7,
   "metadata": {},
   "outputs": [],
   "source": [
    "# target = thyroid_demographics[\"Discharge Mortality Flag\"]\n",
    "# target_names = [\"live\",\"die\"]"
   ]
  },
  {
   "cell_type": "code",
   "execution_count": 8,
   "metadata": {},
   "outputs": [],
   "source": [
    "data = thyroid_demographics.drop(\"Discharge Mortality Flag\", axis=1)\n",
    "feature_names = data.columns"
   ]
  },
  {
   "cell_type": "code",
   "execution_count": 9,
   "metadata": {
    "scrolled": true
   },
   "outputs": [
    {
     "data": {
      "text/plain": [
       "Hospital Number                     int64\n",
       "Admit Age In Years                  int64\n",
       "Gender Title                        int64\n",
       "Race - Version 1                    int64\n",
       "Length Of Stay                     object\n",
       "Total Ped Expected LOS            float64\n",
       "Mechanical Vent Flag                int64\n",
       "ECMO Flag                           int64\n",
       "Infection Flag                      int64\n",
       "Medical Complication Flag           int64\n",
       "Surgical Complication Flag          int64\n",
       "Post Operative LOS                 object\n",
       "RACHS Score                         int64\n",
       "Risk Of Mortality Title             int64\n",
       "Total Ped Expected Mortalities    float64\n",
       "Total Days In ICU                 float64\n",
       "dtype: object"
      ]
     },
     "execution_count": 9,
     "metadata": {},
     "output_type": "execute_result"
    }
   ],
   "source": [
    "data.dtypes"
   ]
  },
  {
   "cell_type": "code",
   "execution_count": 10,
   "metadata": {},
   "outputs": [
    {
     "data": {
      "text/plain": [
       "Hospital Number                     int64\n",
       "Admit Age In Years                  int64\n",
       "Gender Title                        int64\n",
       "Race - Version 1                    int64\n",
       "Length Of Stay                    float64\n",
       "Total Ped Expected LOS            float64\n",
       "Mechanical Vent Flag                int64\n",
       "ECMO Flag                           int64\n",
       "Infection Flag                      int64\n",
       "Medical Complication Flag           int64\n",
       "Surgical Complication Flag          int64\n",
       "Post Operative LOS                 object\n",
       "RACHS Score                         int64\n",
       "Risk Of Mortality Title             int64\n",
       "Total Ped Expected Mortalities    float64\n",
       "Total Days In ICU                 float64\n",
       "dtype: object"
      ]
     },
     "execution_count": 10,
     "metadata": {},
     "output_type": "execute_result"
    }
   ],
   "source": [
    "data['Length Of Stay'] = pd.to_numeric(data['Length Of Stay'],errors='coerce')\n",
    "data.dtypes"
   ]
  },
  {
   "cell_type": "code",
   "execution_count": 11,
   "metadata": {},
   "outputs": [
    {
     "data": {
      "text/plain": [
       "Hospital Number                     int64\n",
       "Admit Age In Years                  int64\n",
       "Gender Title                        int64\n",
       "Race - Version 1                    int64\n",
       "Length Of Stay                    float64\n",
       "Total Ped Expected LOS            float64\n",
       "Mechanical Vent Flag                int64\n",
       "ECMO Flag                           int64\n",
       "Infection Flag                      int64\n",
       "Medical Complication Flag           int64\n",
       "Surgical Complication Flag          int64\n",
       "Post Operative LOS                float64\n",
       "RACHS Score                         int64\n",
       "Risk Of Mortality Title             int64\n",
       "Total Ped Expected Mortalities    float64\n",
       "Total Days In ICU                 float64\n",
       "dtype: object"
      ]
     },
     "execution_count": 11,
     "metadata": {},
     "output_type": "execute_result"
    }
   ],
   "source": [
    "data['Post Operative LOS'] = pd.to_numeric(data['Post Operative LOS'],errors='coerce')\n",
    "data.dtypes"
   ]
  },
  {
   "cell_type": "code",
   "execution_count": 12,
   "metadata": {},
   "outputs": [
    {
     "data": {
      "text/html": [
       "<div>\n",
       "<style scoped>\n",
       "    .dataframe tbody tr th:only-of-type {\n",
       "        vertical-align: middle;\n",
       "    }\n",
       "\n",
       "    .dataframe tbody tr th {\n",
       "        vertical-align: top;\n",
       "    }\n",
       "\n",
       "    .dataframe thead th {\n",
       "        text-align: right;\n",
       "    }\n",
       "</style>\n",
       "<table border=\"1\" class=\"dataframe\">\n",
       "  <thead>\n",
       "    <tr style=\"text-align: right;\">\n",
       "      <th></th>\n",
       "      <th>Hospital Number</th>\n",
       "      <th>Admit Age In Years</th>\n",
       "      <th>Gender Title</th>\n",
       "      <th>Race - Version 1</th>\n",
       "      <th>Length Of Stay</th>\n",
       "      <th>Total Ped Expected LOS</th>\n",
       "      <th>Mechanical Vent Flag</th>\n",
       "      <th>ECMO Flag</th>\n",
       "      <th>Infection Flag</th>\n",
       "      <th>Medical Complication Flag</th>\n",
       "      <th>Surgical Complication Flag</th>\n",
       "      <th>Post Operative LOS</th>\n",
       "      <th>RACHS Score</th>\n",
       "      <th>Risk Of Mortality Title</th>\n",
       "      <th>Total Ped Expected Mortalities</th>\n",
       "      <th>Total Days In ICU</th>\n",
       "    </tr>\n",
       "  </thead>\n",
       "  <tbody>\n",
       "    <tr>\n",
       "      <th>0</th>\n",
       "      <td>2037</td>\n",
       "      <td>0</td>\n",
       "      <td>0</td>\n",
       "      <td>2</td>\n",
       "      <td>7.0</td>\n",
       "      <td>8.19</td>\n",
       "      <td>1</td>\n",
       "      <td>0</td>\n",
       "      <td>0</td>\n",
       "      <td>0</td>\n",
       "      <td>0</td>\n",
       "      <td>6.0</td>\n",
       "      <td>1</td>\n",
       "      <td>1</td>\n",
       "      <td>0.0000</td>\n",
       "      <td>4.0</td>\n",
       "    </tr>\n",
       "    <tr>\n",
       "      <th>1</th>\n",
       "      <td>2037</td>\n",
       "      <td>0</td>\n",
       "      <td>1</td>\n",
       "      <td>6</td>\n",
       "      <td>85.0</td>\n",
       "      <td>94.13</td>\n",
       "      <td>1</td>\n",
       "      <td>0</td>\n",
       "      <td>0</td>\n",
       "      <td>0</td>\n",
       "      <td>1</td>\n",
       "      <td>65.0</td>\n",
       "      <td>6</td>\n",
       "      <td>3</td>\n",
       "      <td>0.0794</td>\n",
       "      <td>61.0</td>\n",
       "    </tr>\n",
       "    <tr>\n",
       "      <th>2</th>\n",
       "      <td>2037</td>\n",
       "      <td>1</td>\n",
       "      <td>0</td>\n",
       "      <td>6</td>\n",
       "      <td>9.0</td>\n",
       "      <td>3.20</td>\n",
       "      <td>0</td>\n",
       "      <td>0</td>\n",
       "      <td>1</td>\n",
       "      <td>0</td>\n",
       "      <td>0</td>\n",
       "      <td>9.0</td>\n",
       "      <td>1</td>\n",
       "      <td>1</td>\n",
       "      <td>0.0007</td>\n",
       "      <td>4.0</td>\n",
       "    </tr>\n",
       "    <tr>\n",
       "      <th>4</th>\n",
       "      <td>2037</td>\n",
       "      <td>0</td>\n",
       "      <td>1</td>\n",
       "      <td>6</td>\n",
       "      <td>25.0</td>\n",
       "      <td>25.32</td>\n",
       "      <td>1</td>\n",
       "      <td>0</td>\n",
       "      <td>1</td>\n",
       "      <td>0</td>\n",
       "      <td>0</td>\n",
       "      <td>25.0</td>\n",
       "      <td>1</td>\n",
       "      <td>3</td>\n",
       "      <td>0.3899</td>\n",
       "      <td>0.0</td>\n",
       "    </tr>\n",
       "    <tr>\n",
       "      <th>5</th>\n",
       "      <td>2037</td>\n",
       "      <td>1</td>\n",
       "      <td>0</td>\n",
       "      <td>6</td>\n",
       "      <td>2.0</td>\n",
       "      <td>4.85</td>\n",
       "      <td>0</td>\n",
       "      <td>0</td>\n",
       "      <td>1</td>\n",
       "      <td>0</td>\n",
       "      <td>0</td>\n",
       "      <td>2.0</td>\n",
       "      <td>1</td>\n",
       "      <td>1</td>\n",
       "      <td>0.0099</td>\n",
       "      <td>0.0</td>\n",
       "    </tr>\n",
       "  </tbody>\n",
       "</table>\n",
       "</div>"
      ],
      "text/plain": [
       "   Hospital Number  Admit Age In Years  Gender Title  Race - Version 1  \\\n",
       "0             2037                   0             0                 2   \n",
       "1             2037                   0             1                 6   \n",
       "2             2037                   1             0                 6   \n",
       "4             2037                   0             1                 6   \n",
       "5             2037                   1             0                 6   \n",
       "\n",
       "   Length Of Stay  Total Ped Expected LOS  Mechanical Vent Flag  ECMO Flag  \\\n",
       "0             7.0                    8.19                     1          0   \n",
       "1            85.0                   94.13                     1          0   \n",
       "2             9.0                    3.20                     0          0   \n",
       "4            25.0                   25.32                     1          0   \n",
       "5             2.0                    4.85                     0          0   \n",
       "\n",
       "   Infection Flag  Medical Complication Flag  Surgical Complication Flag  \\\n",
       "0               0                          0                           0   \n",
       "1               0                          0                           1   \n",
       "2               1                          0                           0   \n",
       "4               1                          0                           0   \n",
       "5               1                          0                           0   \n",
       "\n",
       "   Post Operative LOS  RACHS Score  Risk Of Mortality Title  \\\n",
       "0                 6.0            1                        1   \n",
       "1                65.0            6                        3   \n",
       "2                 9.0            1                        1   \n",
       "4                25.0            1                        3   \n",
       "5                 2.0            1                        1   \n",
       "\n",
       "   Total Ped Expected Mortalities  Total Days In ICU  \n",
       "0                          0.0000                4.0  \n",
       "1                          0.0794               61.0  \n",
       "2                          0.0007                4.0  \n",
       "4                          0.3899                0.0  \n",
       "5                          0.0099                0.0  "
      ]
     },
     "execution_count": 12,
     "metadata": {},
     "output_type": "execute_result"
    }
   ],
   "source": [
    "# data =data.drop(\"Principal Dx Code - Title (ICD)\",axis=1)\n",
    "data.head()"
   ]
  },
  {
   "cell_type": "code",
   "execution_count": 13,
   "metadata": {},
   "outputs": [
    {
     "data": {
      "text/plain": [
       "(16564, 16)"
      ]
     },
     "execution_count": 13,
     "metadata": {},
     "output_type": "execute_result"
    }
   ],
   "source": [
    "data.shape"
   ]
  },
  {
   "cell_type": "code",
   "execution_count": 14,
   "metadata": {},
   "outputs": [
    {
     "data": {
      "text/html": [
       "<div>\n",
       "<style scoped>\n",
       "    .dataframe tbody tr th:only-of-type {\n",
       "        vertical-align: middle;\n",
       "    }\n",
       "\n",
       "    .dataframe tbody tr th {\n",
       "        vertical-align: top;\n",
       "    }\n",
       "\n",
       "    .dataframe thead th {\n",
       "        text-align: right;\n",
       "    }\n",
       "</style>\n",
       "<table border=\"1\" class=\"dataframe\">\n",
       "  <thead>\n",
       "    <tr style=\"text-align: right;\">\n",
       "      <th></th>\n",
       "      <th>Admit Age In Years</th>\n",
       "      <th>Gender Title</th>\n",
       "      <th>ECMO Flag</th>\n",
       "    </tr>\n",
       "  </thead>\n",
       "  <tbody>\n",
       "    <tr>\n",
       "      <th>0</th>\n",
       "      <td>0</td>\n",
       "      <td>0</td>\n",
       "      <td>0</td>\n",
       "    </tr>\n",
       "    <tr>\n",
       "      <th>1</th>\n",
       "      <td>0</td>\n",
       "      <td>1</td>\n",
       "      <td>0</td>\n",
       "    </tr>\n",
       "    <tr>\n",
       "      <th>2</th>\n",
       "      <td>1</td>\n",
       "      <td>0</td>\n",
       "      <td>0</td>\n",
       "    </tr>\n",
       "    <tr>\n",
       "      <th>4</th>\n",
       "      <td>0</td>\n",
       "      <td>1</td>\n",
       "      <td>0</td>\n",
       "    </tr>\n",
       "    <tr>\n",
       "      <th>5</th>\n",
       "      <td>1</td>\n",
       "      <td>0</td>\n",
       "      <td>0</td>\n",
       "    </tr>\n",
       "  </tbody>\n",
       "</table>\n",
       "</div>"
      ],
      "text/plain": [
       "   Admit Age In Years  Gender Title  ECMO Flag\n",
       "0                   0             0          0\n",
       "1                   0             1          0\n",
       "2                   1             0          0\n",
       "4                   0             1          0\n",
       "5                   1             0          0"
      ]
     },
     "execution_count": 14,
     "metadata": {},
     "output_type": "execute_result"
    }
   ],
   "source": [
    "data2  = data[['Admit Age In Years','Gender Title','ECMO Flag']]\n",
    "data2.head()"
   ]
  },
  {
   "cell_type": "code",
   "execution_count": 15,
   "metadata": {},
   "outputs": [
    {
     "data": {
      "text/html": [
       "<div>\n",
       "<style scoped>\n",
       "    .dataframe tbody tr th:only-of-type {\n",
       "        vertical-align: middle;\n",
       "    }\n",
       "\n",
       "    .dataframe tbody tr th {\n",
       "        vertical-align: top;\n",
       "    }\n",
       "\n",
       "    .dataframe thead th {\n",
       "        text-align: right;\n",
       "    }\n",
       "</style>\n",
       "<table border=\"1\" class=\"dataframe\">\n",
       "  <thead>\n",
       "    <tr style=\"text-align: right;\">\n",
       "      <th></th>\n",
       "      <th>Hospital Number</th>\n",
       "      <th>Admit Age In Years</th>\n",
       "      <th>Gender Title</th>\n",
       "      <th>Race - Version 1</th>\n",
       "      <th>Length Of Stay</th>\n",
       "      <th>Total Ped Expected LOS</th>\n",
       "      <th>Mechanical Vent Flag</th>\n",
       "      <th>ECMO Flag</th>\n",
       "      <th>Infection Flag</th>\n",
       "      <th>Medical Complication Flag</th>\n",
       "      <th>Surgical Complication Flag</th>\n",
       "      <th>Post Operative LOS</th>\n",
       "      <th>RACHS Score</th>\n",
       "      <th>Risk Of Mortality Title</th>\n",
       "      <th>Total Ped Expected Mortalities</th>\n",
       "      <th>Total Days In ICU</th>\n",
       "    </tr>\n",
       "  </thead>\n",
       "  <tbody>\n",
       "    <tr>\n",
       "      <th>0</th>\n",
       "      <td>2037</td>\n",
       "      <td>0</td>\n",
       "      <td>0</td>\n",
       "      <td>2</td>\n",
       "      <td>7.0</td>\n",
       "      <td>8.19</td>\n",
       "      <td>1</td>\n",
       "      <td>0</td>\n",
       "      <td>0</td>\n",
       "      <td>0</td>\n",
       "      <td>0</td>\n",
       "      <td>6.0</td>\n",
       "      <td>1</td>\n",
       "      <td>1</td>\n",
       "      <td>0.0000</td>\n",
       "      <td>4.0</td>\n",
       "    </tr>\n",
       "    <tr>\n",
       "      <th>1</th>\n",
       "      <td>2037</td>\n",
       "      <td>0</td>\n",
       "      <td>1</td>\n",
       "      <td>6</td>\n",
       "      <td>85.0</td>\n",
       "      <td>94.13</td>\n",
       "      <td>1</td>\n",
       "      <td>0</td>\n",
       "      <td>0</td>\n",
       "      <td>0</td>\n",
       "      <td>1</td>\n",
       "      <td>65.0</td>\n",
       "      <td>6</td>\n",
       "      <td>3</td>\n",
       "      <td>0.0794</td>\n",
       "      <td>61.0</td>\n",
       "    </tr>\n",
       "    <tr>\n",
       "      <th>2</th>\n",
       "      <td>2037</td>\n",
       "      <td>1</td>\n",
       "      <td>0</td>\n",
       "      <td>6</td>\n",
       "      <td>9.0</td>\n",
       "      <td>3.20</td>\n",
       "      <td>0</td>\n",
       "      <td>0</td>\n",
       "      <td>1</td>\n",
       "      <td>0</td>\n",
       "      <td>0</td>\n",
       "      <td>9.0</td>\n",
       "      <td>1</td>\n",
       "      <td>1</td>\n",
       "      <td>0.0007</td>\n",
       "      <td>4.0</td>\n",
       "    </tr>\n",
       "    <tr>\n",
       "      <th>4</th>\n",
       "      <td>2037</td>\n",
       "      <td>0</td>\n",
       "      <td>1</td>\n",
       "      <td>6</td>\n",
       "      <td>25.0</td>\n",
       "      <td>25.32</td>\n",
       "      <td>1</td>\n",
       "      <td>0</td>\n",
       "      <td>1</td>\n",
       "      <td>0</td>\n",
       "      <td>0</td>\n",
       "      <td>25.0</td>\n",
       "      <td>1</td>\n",
       "      <td>3</td>\n",
       "      <td>0.3899</td>\n",
       "      <td>0.0</td>\n",
       "    </tr>\n",
       "    <tr>\n",
       "      <th>5</th>\n",
       "      <td>2037</td>\n",
       "      <td>1</td>\n",
       "      <td>0</td>\n",
       "      <td>6</td>\n",
       "      <td>2.0</td>\n",
       "      <td>4.85</td>\n",
       "      <td>0</td>\n",
       "      <td>0</td>\n",
       "      <td>1</td>\n",
       "      <td>0</td>\n",
       "      <td>0</td>\n",
       "      <td>2.0</td>\n",
       "      <td>1</td>\n",
       "      <td>1</td>\n",
       "      <td>0.0099</td>\n",
       "      <td>0.0</td>\n",
       "    </tr>\n",
       "  </tbody>\n",
       "</table>\n",
       "</div>"
      ],
      "text/plain": [
       "   Hospital Number  Admit Age In Years  Gender Title  Race - Version 1  \\\n",
       "0             2037                   0             0                 2   \n",
       "1             2037                   0             1                 6   \n",
       "2             2037                   1             0                 6   \n",
       "4             2037                   0             1                 6   \n",
       "5             2037                   1             0                 6   \n",
       "\n",
       "   Length Of Stay  Total Ped Expected LOS  Mechanical Vent Flag  ECMO Flag  \\\n",
       "0             7.0                    8.19                     1          0   \n",
       "1            85.0                   94.13                     1          0   \n",
       "2             9.0                    3.20                     0          0   \n",
       "4            25.0                   25.32                     1          0   \n",
       "5             2.0                    4.85                     0          0   \n",
       "\n",
       "   Infection Flag  Medical Complication Flag  Surgical Complication Flag  \\\n",
       "0               0                          0                           0   \n",
       "1               0                          0                           1   \n",
       "2               1                          0                           0   \n",
       "4               1                          0                           0   \n",
       "5               1                          0                           0   \n",
       "\n",
       "   Post Operative LOS  RACHS Score  Risk Of Mortality Title  \\\n",
       "0                 6.0            1                        1   \n",
       "1                65.0            6                        3   \n",
       "2                 9.0            1                        1   \n",
       "4                25.0            1                        3   \n",
       "5                 2.0            1                        1   \n",
       "\n",
       "   Total Ped Expected Mortalities  Total Days In ICU  \n",
       "0                          0.0000                4.0  \n",
       "1                          0.0794               61.0  \n",
       "2                          0.0007                4.0  \n",
       "4                          0.3899                0.0  \n",
       "5                          0.0099                0.0  "
      ]
     },
     "execution_count": 15,
     "metadata": {},
     "output_type": "execute_result"
    }
   ],
   "source": [
    "# data = data.reset_index()\n",
    "data.head()"
   ]
  },
  {
   "cell_type": "code",
   "execution_count": 16,
   "metadata": {},
   "outputs": [
    {
     "data": {
      "text/plain": [
       "0    0\n",
       "1    0\n",
       "2    0\n",
       "4    0\n",
       "5    0\n",
       "Name: Discharge Mortality Flag, dtype: int64"
      ]
     },
     "execution_count": 16,
     "metadata": {},
     "output_type": "execute_result"
    }
   ],
   "source": [
    "target = thyroid_demographics[\"Discharge Mortality Flag\"]\n",
    "target_names = [\"you will live\",\"you will die\"]\n",
    "target.head()"
   ]
  },
  {
   "cell_type": "code",
   "execution_count": 17,
   "metadata": {},
   "outputs": [],
   "source": [
    "from sklearn.model_selection import train_test_split\n",
    "X_train, X_test, y_train, y_test = train_test_split(data2, target, random_state=42)"
   ]
  },
  {
   "cell_type": "code",
   "execution_count": 18,
   "metadata": {},
   "outputs": [
    {
     "data": {
      "text/plain": [
       "SVC(C=1.0, cache_size=200, class_weight=None, coef0=0.0,\n",
       "  decision_function_shape='ovr', degree=3, gamma='auto_deprecated',\n",
       "  kernel='linear', max_iter=-1, probability=False, random_state=None,\n",
       "  shrinking=True, tol=0.001, verbose=False)"
      ]
     },
     "execution_count": 18,
     "metadata": {},
     "output_type": "execute_result"
    }
   ],
   "source": [
    "from sklearn.svm import SVC \n",
    "model = SVC(kernel='linear')\n",
    "model.fit(X_train, y_train)"
   ]
  },
  {
   "cell_type": "code",
   "execution_count": 19,
   "metadata": {},
   "outputs": [
    {
     "name": "stdout",
     "output_type": "stream",
     "text": [
      "Test Acc: 0.888\n"
     ]
    }
   ],
   "source": [
    "print('Test Acc: %.3f' % model.score(X_test,y_test))"
   ]
  },
  {
   "cell_type": "code",
   "execution_count": 20,
   "metadata": {},
   "outputs": [],
   "source": [
    "svm_score= model.score(X_test,y_test)"
   ]
  },
  {
   "cell_type": "code",
   "execution_count": 21,
   "metadata": {},
   "outputs": [
    {
     "name": "stdout",
     "output_type": "stream",
     "text": [
      "               precision    recall  f1-score   support\n",
      "\n",
      "you will live       0.92      0.96      0.94      3652\n",
      " you will die       0.54      0.35      0.43       489\n",
      "\n",
      "    micro avg       0.89      0.89      0.89      4141\n",
      "    macro avg       0.73      0.66      0.68      4141\n",
      " weighted avg       0.87      0.89      0.88      4141\n",
      "\n"
     ]
    }
   ],
   "source": [
    "from sklearn.metrics import classification_report\n",
    "predictions= model.predict(X_test)\n",
    "print(classification_report(y_test, predictions, target_names=target_names))"
   ]
  },
  {
   "cell_type": "code",
   "execution_count": 22,
   "metadata": {},
   "outputs": [
    {
     "data": {
      "text/html": [
       "<div>\n",
       "<style scoped>\n",
       "    .dataframe tbody tr th:only-of-type {\n",
       "        vertical-align: middle;\n",
       "    }\n",
       "\n",
       "    .dataframe tbody tr th {\n",
       "        vertical-align: top;\n",
       "    }\n",
       "\n",
       "    .dataframe thead th {\n",
       "        text-align: right;\n",
       "    }\n",
       "</style>\n",
       "<table border=\"1\" class=\"dataframe\">\n",
       "  <thead>\n",
       "    <tr style=\"text-align: right;\">\n",
       "      <th></th>\n",
       "      <th>Hospital Number</th>\n",
       "      <th>Admit Age In Years</th>\n",
       "      <th>Gender Title</th>\n",
       "      <th>Race - Version 1</th>\n",
       "      <th>Length Of Stay</th>\n",
       "      <th>Total Ped Expected LOS</th>\n",
       "      <th>Mechanical Vent Flag</th>\n",
       "      <th>ECMO Flag</th>\n",
       "      <th>Infection Flag</th>\n",
       "      <th>Medical Complication Flag</th>\n",
       "      <th>Surgical Complication Flag</th>\n",
       "      <th>Post Operative LOS</th>\n",
       "      <th>RACHS Score</th>\n",
       "      <th>Risk Of Mortality Title</th>\n",
       "      <th>Total Ped Expected Mortalities</th>\n",
       "      <th>Total Days In ICU</th>\n",
       "    </tr>\n",
       "  </thead>\n",
       "  <tbody>\n",
       "    <tr>\n",
       "      <th>0</th>\n",
       "      <td>2037</td>\n",
       "      <td>0</td>\n",
       "      <td>0</td>\n",
       "      <td>2</td>\n",
       "      <td>7.0</td>\n",
       "      <td>8.19</td>\n",
       "      <td>1</td>\n",
       "      <td>0</td>\n",
       "      <td>0</td>\n",
       "      <td>0</td>\n",
       "      <td>0</td>\n",
       "      <td>6.0</td>\n",
       "      <td>1</td>\n",
       "      <td>1</td>\n",
       "      <td>0.0000</td>\n",
       "      <td>4.0</td>\n",
       "    </tr>\n",
       "    <tr>\n",
       "      <th>1</th>\n",
       "      <td>2037</td>\n",
       "      <td>0</td>\n",
       "      <td>1</td>\n",
       "      <td>6</td>\n",
       "      <td>85.0</td>\n",
       "      <td>94.13</td>\n",
       "      <td>1</td>\n",
       "      <td>0</td>\n",
       "      <td>0</td>\n",
       "      <td>0</td>\n",
       "      <td>1</td>\n",
       "      <td>65.0</td>\n",
       "      <td>6</td>\n",
       "      <td>3</td>\n",
       "      <td>0.0794</td>\n",
       "      <td>61.0</td>\n",
       "    </tr>\n",
       "    <tr>\n",
       "      <th>2</th>\n",
       "      <td>2037</td>\n",
       "      <td>1</td>\n",
       "      <td>0</td>\n",
       "      <td>6</td>\n",
       "      <td>9.0</td>\n",
       "      <td>3.20</td>\n",
       "      <td>0</td>\n",
       "      <td>0</td>\n",
       "      <td>1</td>\n",
       "      <td>0</td>\n",
       "      <td>0</td>\n",
       "      <td>9.0</td>\n",
       "      <td>1</td>\n",
       "      <td>1</td>\n",
       "      <td>0.0007</td>\n",
       "      <td>4.0</td>\n",
       "    </tr>\n",
       "    <tr>\n",
       "      <th>4</th>\n",
       "      <td>2037</td>\n",
       "      <td>0</td>\n",
       "      <td>1</td>\n",
       "      <td>6</td>\n",
       "      <td>25.0</td>\n",
       "      <td>25.32</td>\n",
       "      <td>1</td>\n",
       "      <td>0</td>\n",
       "      <td>1</td>\n",
       "      <td>0</td>\n",
       "      <td>0</td>\n",
       "      <td>25.0</td>\n",
       "      <td>1</td>\n",
       "      <td>3</td>\n",
       "      <td>0.3899</td>\n",
       "      <td>0.0</td>\n",
       "    </tr>\n",
       "    <tr>\n",
       "      <th>5</th>\n",
       "      <td>2037</td>\n",
       "      <td>1</td>\n",
       "      <td>0</td>\n",
       "      <td>6</td>\n",
       "      <td>2.0</td>\n",
       "      <td>4.85</td>\n",
       "      <td>0</td>\n",
       "      <td>0</td>\n",
       "      <td>1</td>\n",
       "      <td>0</td>\n",
       "      <td>0</td>\n",
       "      <td>2.0</td>\n",
       "      <td>1</td>\n",
       "      <td>1</td>\n",
       "      <td>0.0099</td>\n",
       "      <td>0.0</td>\n",
       "    </tr>\n",
       "  </tbody>\n",
       "</table>\n",
       "</div>"
      ],
      "text/plain": [
       "   Hospital Number  Admit Age In Years  Gender Title  Race - Version 1  \\\n",
       "0             2037                   0             0                 2   \n",
       "1             2037                   0             1                 6   \n",
       "2             2037                   1             0                 6   \n",
       "4             2037                   0             1                 6   \n",
       "5             2037                   1             0                 6   \n",
       "\n",
       "   Length Of Stay  Total Ped Expected LOS  Mechanical Vent Flag  ECMO Flag  \\\n",
       "0             7.0                    8.19                     1          0   \n",
       "1            85.0                   94.13                     1          0   \n",
       "2             9.0                    3.20                     0          0   \n",
       "4            25.0                   25.32                     1          0   \n",
       "5             2.0                    4.85                     0          0   \n",
       "\n",
       "   Infection Flag  Medical Complication Flag  Surgical Complication Flag  \\\n",
       "0               0                          0                           0   \n",
       "1               0                          0                           1   \n",
       "2               1                          0                           0   \n",
       "4               1                          0                           0   \n",
       "5               1                          0                           0   \n",
       "\n",
       "   Post Operative LOS  RACHS Score  Risk Of Mortality Title  \\\n",
       "0                 6.0            1                        1   \n",
       "1                65.0            6                        3   \n",
       "2                 9.0            1                        1   \n",
       "4                25.0            1                        3   \n",
       "5                 2.0            1                        1   \n",
       "\n",
       "   Total Ped Expected Mortalities  Total Days In ICU  \n",
       "0                          0.0000                4.0  \n",
       "1                          0.0794               61.0  \n",
       "2                          0.0007                4.0  \n",
       "4                          0.3899                0.0  \n",
       "5                          0.0099                0.0  "
      ]
     },
     "execution_count": 22,
     "metadata": {},
     "output_type": "execute_result"
    }
   ],
   "source": [
    "data.head()"
   ]
  },
  {
   "cell_type": "code",
   "execution_count": 23,
   "metadata": {},
   "outputs": [
    {
     "data": {
      "text/html": [
       "<div>\n",
       "<style scoped>\n",
       "    .dataframe tbody tr th:only-of-type {\n",
       "        vertical-align: middle;\n",
       "    }\n",
       "\n",
       "    .dataframe tbody tr th {\n",
       "        vertical-align: top;\n",
       "    }\n",
       "\n",
       "    .dataframe thead th {\n",
       "        text-align: right;\n",
       "    }\n",
       "</style>\n",
       "<table border=\"1\" class=\"dataframe\">\n",
       "  <thead>\n",
       "    <tr style=\"text-align: right;\">\n",
       "      <th></th>\n",
       "      <th>Admit Age In Years</th>\n",
       "      <th>Gender Title</th>\n",
       "      <th>ECMO Flag</th>\n",
       "      <th>Mechanical Vent Flag</th>\n",
       "      <th>Infection Flag</th>\n",
       "      <th>Medical Complication Flag</th>\n",
       "    </tr>\n",
       "  </thead>\n",
       "  <tbody>\n",
       "    <tr>\n",
       "      <th>0</th>\n",
       "      <td>0</td>\n",
       "      <td>0</td>\n",
       "      <td>0</td>\n",
       "      <td>1</td>\n",
       "      <td>0</td>\n",
       "      <td>0</td>\n",
       "    </tr>\n",
       "    <tr>\n",
       "      <th>1</th>\n",
       "      <td>0</td>\n",
       "      <td>1</td>\n",
       "      <td>0</td>\n",
       "      <td>1</td>\n",
       "      <td>0</td>\n",
       "      <td>0</td>\n",
       "    </tr>\n",
       "    <tr>\n",
       "      <th>2</th>\n",
       "      <td>1</td>\n",
       "      <td>0</td>\n",
       "      <td>0</td>\n",
       "      <td>0</td>\n",
       "      <td>1</td>\n",
       "      <td>0</td>\n",
       "    </tr>\n",
       "    <tr>\n",
       "      <th>4</th>\n",
       "      <td>0</td>\n",
       "      <td>1</td>\n",
       "      <td>0</td>\n",
       "      <td>1</td>\n",
       "      <td>1</td>\n",
       "      <td>0</td>\n",
       "    </tr>\n",
       "    <tr>\n",
       "      <th>5</th>\n",
       "      <td>1</td>\n",
       "      <td>0</td>\n",
       "      <td>0</td>\n",
       "      <td>0</td>\n",
       "      <td>1</td>\n",
       "      <td>0</td>\n",
       "    </tr>\n",
       "  </tbody>\n",
       "</table>\n",
       "</div>"
      ],
      "text/plain": [
       "   Admit Age In Years  Gender Title  ECMO Flag  Mechanical Vent Flag  \\\n",
       "0                   0             0          0                     1   \n",
       "1                   0             1          0                     1   \n",
       "2                   1             0          0                     0   \n",
       "4                   0             1          0                     1   \n",
       "5                   1             0          0                     0   \n",
       "\n",
       "   Infection Flag  Medical Complication Flag  \n",
       "0               0                          0  \n",
       "1               0                          0  \n",
       "2               1                          0  \n",
       "4               1                          0  \n",
       "5               1                          0  "
      ]
     },
     "execution_count": 23,
     "metadata": {},
     "output_type": "execute_result"
    }
   ],
   "source": [
    "data3  = data[['Admit Age In Years','Gender Title','ECMO Flag','Mechanical Vent Flag','Infection Flag','Medical Complication Flag']]\n",
    "data3.head()"
   ]
  },
  {
   "cell_type": "code",
   "execution_count": 24,
   "metadata": {},
   "outputs": [],
   "source": [
    "from sklearn import tree\n",
    "import os"
   ]
  },
  {
   "cell_type": "code",
   "execution_count": 25,
   "metadata": {},
   "outputs": [],
   "source": [
    "\n",
    "X_train, X_test, y_train, y_test = train_test_split(data3, target, random_state=42)"
   ]
  },
  {
   "cell_type": "code",
   "execution_count": 26,
   "metadata": {},
   "outputs": [],
   "source": [
    "feature_names = data3.columns"
   ]
  },
  {
   "cell_type": "code",
   "execution_count": 27,
   "metadata": {},
   "outputs": [],
   "source": [
    "clf = tree.DecisionTreeClassifier(min_samples_leaf=50)\n",
    "clf = clf.fit(X_train, y_train)"
   ]
  },
  {
   "cell_type": "code",
   "execution_count": 28,
   "metadata": {},
   "outputs": [
    {
     "ename": "ModuleNotFoundError",
     "evalue": "No module named 'graphviz'",
     "output_type": "error",
     "traceback": [
      "\u001b[0;31m---------------------------------------------------------------------------\u001b[0m",
      "\u001b[0;31mModuleNotFoundError\u001b[0m                       Traceback (most recent call last)",
      "\u001b[0;32m<ipython-input-28-0f142bdd376a>\u001b[0m in \u001b[0;36m<module>\u001b[0;34m\u001b[0m\n\u001b[0;32m----> 1\u001b[0;31m \u001b[0;32mimport\u001b[0m \u001b[0mgraphviz\u001b[0m\u001b[0;34m\u001b[0m\u001b[0;34m\u001b[0m\u001b[0m\n\u001b[0m\u001b[1;32m      2\u001b[0m \u001b[0;34m\u001b[0m\u001b[0m\n\u001b[1;32m      3\u001b[0m dot_data=tree.export_graphviz(\n\u001b[1;32m      4\u001b[0m clf, out_file = None, feature_names =feature_names,class_names=target_names,filled=True, rounded=True)\n",
      "\u001b[0;31mModuleNotFoundError\u001b[0m: No module named 'graphviz'"
     ]
    }
   ],
   "source": [
    "import graphviz\n",
    "\n",
    "dot_data=tree.export_graphviz(\n",
    "clf, out_file = None, feature_names =feature_names,class_names=target_names,filled=True, rounded=True)"
   ]
  },
  {
   "cell_type": "code",
   "execution_count": 29,
   "metadata": {},
   "outputs": [
    {
     "ename": "ModuleNotFoundError",
     "evalue": "No module named 'pydotplus'",
     "output_type": "error",
     "traceback": [
      "\u001b[0;31m---------------------------------------------------------------------------\u001b[0m",
      "\u001b[0;31mModuleNotFoundError\u001b[0m                       Traceback (most recent call last)",
      "\u001b[0;32m<ipython-input-29-e8ed40036db5>\u001b[0m in \u001b[0;36m<module>\u001b[0;34m\u001b[0m\n\u001b[0;32m----> 1\u001b[0;31m \u001b[0;32mimport\u001b[0m \u001b[0mpydotplus\u001b[0m\u001b[0;34m\u001b[0m\u001b[0;34m\u001b[0m\u001b[0m\n\u001b[0m\u001b[1;32m      2\u001b[0m \u001b[0mgraph\u001b[0m \u001b[0;34m=\u001b[0m \u001b[0mpydotplus\u001b[0m\u001b[0;34m.\u001b[0m\u001b[0mgraph_from_dot_data\u001b[0m\u001b[0;34m(\u001b[0m\u001b[0mdot_data\u001b[0m\u001b[0;34m)\u001b[0m\u001b[0;34m\u001b[0m\u001b[0;34m\u001b[0m\u001b[0m\n\u001b[1;32m      3\u001b[0m \u001b[0mgraph\u001b[0m\u001b[0;34m.\u001b[0m\u001b[0mwrite_png\u001b[0m\u001b[0;34m(\u001b[0m\u001b[0;34m'test.png'\u001b[0m\u001b[0;34m)\u001b[0m\u001b[0;34m\u001b[0m\u001b[0;34m\u001b[0m\u001b[0m\n\u001b[1;32m      4\u001b[0m \u001b[0mgraph\u001b[0m\u001b[0;34m=\u001b[0m \u001b[0mgraphviz\u001b[0m\u001b[0;34m.\u001b[0m\u001b[0mSource\u001b[0m\u001b[0;34m(\u001b[0m\u001b[0mdot_data\u001b[0m\u001b[0;34m)\u001b[0m\u001b[0;34m\u001b[0m\u001b[0;34m\u001b[0m\u001b[0m\n\u001b[1;32m      5\u001b[0m \u001b[0mgraph\u001b[0m\u001b[0;34m\u001b[0m\u001b[0;34m\u001b[0m\u001b[0m\n",
      "\u001b[0;31mModuleNotFoundError\u001b[0m: No module named 'pydotplus'"
     ]
    }
   ],
   "source": [
    "import pydotplus\n",
    "graph = pydotplus.graph_from_dot_data(dot_data)\n",
    "graph.write_png('test.png')\n",
    "graph= graphviz.Source(dot_data)\n",
    "graph"
   ]
  },
  {
   "cell_type": "code",
   "execution_count": 30,
   "metadata": {},
   "outputs": [
    {
     "data": {
      "text/plain": [
       "Index(['Admit Age In Years', 'Gender Title', 'ECMO Flag',\n",
       "       'Mechanical Vent Flag', 'Infection Flag', 'Medical Complication Flag'],\n",
       "      dtype='object')"
      ]
     },
     "execution_count": 30,
     "metadata": {},
     "output_type": "execute_result"
    }
   ],
   "source": [
    "feature_names"
   ]
  },
  {
   "cell_type": "code",
   "execution_count": 31,
   "metadata": {},
   "outputs": [],
   "source": [
    "from sklearn.ensemble import RandomForestClassifier\n",
    "rf = RandomForestClassifier(n_estimators=20000)\n",
    "rf= rf.fit(X_train,y_train)\n",
    "rf_score=rf.score(X_test, y_test)"
   ]
  },
  {
   "cell_type": "code",
   "execution_count": 32,
   "metadata": {},
   "outputs": [
    {
     "data": {
      "text/plain": [
       "0.8910891089108911"
      ]
     },
     "execution_count": 32,
     "metadata": {},
     "output_type": "execute_result"
    }
   ],
   "source": [
    "from sklearn.ensemble import RandomForestClassifier\n",
    "rf = RandomForestClassifier(n_estimators=20)\n",
    "rf= rf.fit(X_train,y_train)\n",
    "rf.score(X_test, y_test)"
   ]
  },
  {
   "cell_type": "code",
   "execution_count": 33,
   "metadata": {},
   "outputs": [
    {
     "data": {
      "text/plain": [
       "[(0.5519842935700744, 'ECMO Flag'),\n",
       " (0.1878848140247107, 'Mechanical Vent Flag'),\n",
       " (0.16584021972212576, 'Admit Age In Years'),\n",
       " (0.0743098138652027, 'Infection Flag'),\n",
       " (0.011968240764040126, 'Gender Title'),\n",
       " (0.008012618053846317, 'Medical Complication Flag')]"
      ]
     },
     "execution_count": 33,
     "metadata": {},
     "output_type": "execute_result"
    }
   ],
   "source": [
    "sorted(zip(rf.feature_importances_,feature_names), reverse=True)"
   ]
  },
  {
   "cell_type": "code",
   "execution_count": null,
   "metadata": {},
   "outputs": [],
   "source": []
  },
  {
   "cell_type": "code",
   "execution_count": null,
   "metadata": {},
   "outputs": [],
   "source": []
  },
  {
   "cell_type": "code",
   "execution_count": 34,
   "metadata": {},
   "outputs": [
    {
     "data": {
      "text/plain": [
       "LogisticRegression(C=1.0, class_weight=None, dual=False, fit_intercept=True,\n",
       "          intercept_scaling=1, max_iter=100, multi_class='warn',\n",
       "          n_jobs=None, penalty='l2', random_state=None, solver='warn',\n",
       "          tol=0.0001, verbose=0, warm_start=False)"
      ]
     },
     "execution_count": 34,
     "metadata": {},
     "output_type": "execute_result"
    }
   ],
   "source": [
    "from sklearn.linear_model import LogisticRegression\n",
    "classifier = LogisticRegression()\n",
    "classifier"
   ]
  },
  {
   "cell_type": "code",
   "execution_count": 35,
   "metadata": {},
   "outputs": [
    {
     "name": "stderr",
     "output_type": "stream",
     "text": [
      "/Users/HeatherTrinh/anaconda3/lib/python3.7/site-packages/sklearn/linear_model/logistic.py:433: FutureWarning: Default solver will be changed to 'lbfgs' in 0.22. Specify a solver to silence this warning.\n",
      "  FutureWarning)\n"
     ]
    },
    {
     "data": {
      "text/plain": [
       "LogisticRegression(C=1.0, class_weight=None, dual=False, fit_intercept=True,\n",
       "          intercept_scaling=1, max_iter=100, multi_class='warn',\n",
       "          n_jobs=None, penalty='l2', random_state=None, solver='warn',\n",
       "          tol=0.0001, verbose=0, warm_start=False)"
      ]
     },
     "execution_count": 35,
     "metadata": {},
     "output_type": "execute_result"
    }
   ],
   "source": [
    "classifier.fit(X_train,y_train)"
   ]
  },
  {
   "cell_type": "code",
   "execution_count": 36,
   "metadata": {},
   "outputs": [],
   "source": [
    "lr_trainedscore=classifier.score(X_train, y_train)\n",
    "\n"
   ]
  },
  {
   "cell_type": "code",
   "execution_count": 37,
   "metadata": {},
   "outputs": [],
   "source": [
    "lr_testscore=classifier.score(X_test, y_test)"
   ]
  },
  {
   "cell_type": "code",
   "execution_count": 38,
   "metadata": {},
   "outputs": [],
   "source": [
    "predictions= classifier.predict(X_test)"
   ]
  },
  {
   "cell_type": "code",
   "execution_count": 39,
   "metadata": {},
   "outputs": [
    {
     "data": {
      "text/plain": [
       "array([0, 0, 0, 0, 0, 0, 0, 0, 0, 0])"
      ]
     },
     "execution_count": 39,
     "metadata": {},
     "output_type": "execute_result"
    }
   ],
   "source": [
    "predictions[:10]\n"
   ]
  },
  {
   "cell_type": "code",
   "execution_count": 40,
   "metadata": {},
   "outputs": [
    {
     "name": "stdout",
     "output_type": "stream",
     "text": [
      "[0 0 0 0 0 0 0 0 0 0]\n",
      "[0, 0, 0, 0, 0, 1, 0, 0, 0, 0]\n"
     ]
    }
   ],
   "source": [
    "print(predictions[:10])\n",
    "print(y_test[:10].tolist())"
   ]
  },
  {
   "cell_type": "code",
   "execution_count": 41,
   "metadata": {},
   "outputs": [
    {
     "data": {
      "text/html": [
       "<div>\n",
       "<style scoped>\n",
       "    .dataframe tbody tr th:only-of-type {\n",
       "        vertical-align: middle;\n",
       "    }\n",
       "\n",
       "    .dataframe tbody tr th {\n",
       "        vertical-align: top;\n",
       "    }\n",
       "\n",
       "    .dataframe thead th {\n",
       "        text-align: right;\n",
       "    }\n",
       "</style>\n",
       "<table border=\"1\" class=\"dataframe\">\n",
       "  <thead>\n",
       "    <tr style=\"text-align: right;\">\n",
       "      <th></th>\n",
       "      <th>Prediction</th>\n",
       "      <th>Actual</th>\n",
       "    </tr>\n",
       "  </thead>\n",
       "  <tbody>\n",
       "    <tr>\n",
       "      <th>0</th>\n",
       "      <td>0</td>\n",
       "      <td>0</td>\n",
       "    </tr>\n",
       "    <tr>\n",
       "      <th>1</th>\n",
       "      <td>0</td>\n",
       "      <td>0</td>\n",
       "    </tr>\n",
       "    <tr>\n",
       "      <th>2</th>\n",
       "      <td>0</td>\n",
       "      <td>0</td>\n",
       "    </tr>\n",
       "    <tr>\n",
       "      <th>3</th>\n",
       "      <td>0</td>\n",
       "      <td>0</td>\n",
       "    </tr>\n",
       "    <tr>\n",
       "      <th>4</th>\n",
       "      <td>0</td>\n",
       "      <td>0</td>\n",
       "    </tr>\n",
       "    <tr>\n",
       "      <th>5</th>\n",
       "      <td>0</td>\n",
       "      <td>1</td>\n",
       "    </tr>\n",
       "    <tr>\n",
       "      <th>6</th>\n",
       "      <td>0</td>\n",
       "      <td>0</td>\n",
       "    </tr>\n",
       "    <tr>\n",
       "      <th>7</th>\n",
       "      <td>0</td>\n",
       "      <td>0</td>\n",
       "    </tr>\n",
       "    <tr>\n",
       "      <th>8</th>\n",
       "      <td>0</td>\n",
       "      <td>0</td>\n",
       "    </tr>\n",
       "    <tr>\n",
       "      <th>9</th>\n",
       "      <td>0</td>\n",
       "      <td>0</td>\n",
       "    </tr>\n",
       "    <tr>\n",
       "      <th>10</th>\n",
       "      <td>0</td>\n",
       "      <td>0</td>\n",
       "    </tr>\n",
       "    <tr>\n",
       "      <th>11</th>\n",
       "      <td>0</td>\n",
       "      <td>0</td>\n",
       "    </tr>\n",
       "    <tr>\n",
       "      <th>12</th>\n",
       "      <td>0</td>\n",
       "      <td>0</td>\n",
       "    </tr>\n",
       "    <tr>\n",
       "      <th>13</th>\n",
       "      <td>0</td>\n",
       "      <td>0</td>\n",
       "    </tr>\n",
       "    <tr>\n",
       "      <th>14</th>\n",
       "      <td>0</td>\n",
       "      <td>0</td>\n",
       "    </tr>\n",
       "    <tr>\n",
       "      <th>15</th>\n",
       "      <td>0</td>\n",
       "      <td>0</td>\n",
       "    </tr>\n",
       "    <tr>\n",
       "      <th>16</th>\n",
       "      <td>0</td>\n",
       "      <td>0</td>\n",
       "    </tr>\n",
       "    <tr>\n",
       "      <th>17</th>\n",
       "      <td>0</td>\n",
       "      <td>0</td>\n",
       "    </tr>\n",
       "    <tr>\n",
       "      <th>18</th>\n",
       "      <td>0</td>\n",
       "      <td>1</td>\n",
       "    </tr>\n",
       "    <tr>\n",
       "      <th>19</th>\n",
       "      <td>0</td>\n",
       "      <td>0</td>\n",
       "    </tr>\n",
       "    <tr>\n",
       "      <th>20</th>\n",
       "      <td>0</td>\n",
       "      <td>0</td>\n",
       "    </tr>\n",
       "    <tr>\n",
       "      <th>21</th>\n",
       "      <td>0</td>\n",
       "      <td>0</td>\n",
       "    </tr>\n",
       "    <tr>\n",
       "      <th>22</th>\n",
       "      <td>0</td>\n",
       "      <td>0</td>\n",
       "    </tr>\n",
       "    <tr>\n",
       "      <th>23</th>\n",
       "      <td>0</td>\n",
       "      <td>1</td>\n",
       "    </tr>\n",
       "    <tr>\n",
       "      <th>24</th>\n",
       "      <td>0</td>\n",
       "      <td>0</td>\n",
       "    </tr>\n",
       "    <tr>\n",
       "      <th>25</th>\n",
       "      <td>0</td>\n",
       "      <td>0</td>\n",
       "    </tr>\n",
       "    <tr>\n",
       "      <th>26</th>\n",
       "      <td>0</td>\n",
       "      <td>0</td>\n",
       "    </tr>\n",
       "    <tr>\n",
       "      <th>27</th>\n",
       "      <td>0</td>\n",
       "      <td>0</td>\n",
       "    </tr>\n",
       "    <tr>\n",
       "      <th>28</th>\n",
       "      <td>0</td>\n",
       "      <td>0</td>\n",
       "    </tr>\n",
       "    <tr>\n",
       "      <th>29</th>\n",
       "      <td>0</td>\n",
       "      <td>0</td>\n",
       "    </tr>\n",
       "    <tr>\n",
       "      <th>...</th>\n",
       "      <td>...</td>\n",
       "      <td>...</td>\n",
       "    </tr>\n",
       "    <tr>\n",
       "      <th>4111</th>\n",
       "      <td>0</td>\n",
       "      <td>0</td>\n",
       "    </tr>\n",
       "    <tr>\n",
       "      <th>4112</th>\n",
       "      <td>0</td>\n",
       "      <td>0</td>\n",
       "    </tr>\n",
       "    <tr>\n",
       "      <th>4113</th>\n",
       "      <td>0</td>\n",
       "      <td>0</td>\n",
       "    </tr>\n",
       "    <tr>\n",
       "      <th>4114</th>\n",
       "      <td>1</td>\n",
       "      <td>1</td>\n",
       "    </tr>\n",
       "    <tr>\n",
       "      <th>4115</th>\n",
       "      <td>0</td>\n",
       "      <td>0</td>\n",
       "    </tr>\n",
       "    <tr>\n",
       "      <th>4116</th>\n",
       "      <td>0</td>\n",
       "      <td>1</td>\n",
       "    </tr>\n",
       "    <tr>\n",
       "      <th>4117</th>\n",
       "      <td>0</td>\n",
       "      <td>0</td>\n",
       "    </tr>\n",
       "    <tr>\n",
       "      <th>4118</th>\n",
       "      <td>0</td>\n",
       "      <td>1</td>\n",
       "    </tr>\n",
       "    <tr>\n",
       "      <th>4119</th>\n",
       "      <td>0</td>\n",
       "      <td>0</td>\n",
       "    </tr>\n",
       "    <tr>\n",
       "      <th>4120</th>\n",
       "      <td>0</td>\n",
       "      <td>0</td>\n",
       "    </tr>\n",
       "    <tr>\n",
       "      <th>4121</th>\n",
       "      <td>0</td>\n",
       "      <td>0</td>\n",
       "    </tr>\n",
       "    <tr>\n",
       "      <th>4122</th>\n",
       "      <td>0</td>\n",
       "      <td>1</td>\n",
       "    </tr>\n",
       "    <tr>\n",
       "      <th>4123</th>\n",
       "      <td>0</td>\n",
       "      <td>0</td>\n",
       "    </tr>\n",
       "    <tr>\n",
       "      <th>4124</th>\n",
       "      <td>0</td>\n",
       "      <td>0</td>\n",
       "    </tr>\n",
       "    <tr>\n",
       "      <th>4125</th>\n",
       "      <td>0</td>\n",
       "      <td>0</td>\n",
       "    </tr>\n",
       "    <tr>\n",
       "      <th>4126</th>\n",
       "      <td>0</td>\n",
       "      <td>0</td>\n",
       "    </tr>\n",
       "    <tr>\n",
       "      <th>4127</th>\n",
       "      <td>0</td>\n",
       "      <td>0</td>\n",
       "    </tr>\n",
       "    <tr>\n",
       "      <th>4128</th>\n",
       "      <td>0</td>\n",
       "      <td>0</td>\n",
       "    </tr>\n",
       "    <tr>\n",
       "      <th>4129</th>\n",
       "      <td>0</td>\n",
       "      <td>0</td>\n",
       "    </tr>\n",
       "    <tr>\n",
       "      <th>4130</th>\n",
       "      <td>0</td>\n",
       "      <td>0</td>\n",
       "    </tr>\n",
       "    <tr>\n",
       "      <th>4131</th>\n",
       "      <td>0</td>\n",
       "      <td>0</td>\n",
       "    </tr>\n",
       "    <tr>\n",
       "      <th>4132</th>\n",
       "      <td>0</td>\n",
       "      <td>0</td>\n",
       "    </tr>\n",
       "    <tr>\n",
       "      <th>4133</th>\n",
       "      <td>0</td>\n",
       "      <td>1</td>\n",
       "    </tr>\n",
       "    <tr>\n",
       "      <th>4134</th>\n",
       "      <td>0</td>\n",
       "      <td>0</td>\n",
       "    </tr>\n",
       "    <tr>\n",
       "      <th>4135</th>\n",
       "      <td>0</td>\n",
       "      <td>0</td>\n",
       "    </tr>\n",
       "    <tr>\n",
       "      <th>4136</th>\n",
       "      <td>0</td>\n",
       "      <td>0</td>\n",
       "    </tr>\n",
       "    <tr>\n",
       "      <th>4137</th>\n",
       "      <td>0</td>\n",
       "      <td>0</td>\n",
       "    </tr>\n",
       "    <tr>\n",
       "      <th>4138</th>\n",
       "      <td>0</td>\n",
       "      <td>0</td>\n",
       "    </tr>\n",
       "    <tr>\n",
       "      <th>4139</th>\n",
       "      <td>0</td>\n",
       "      <td>0</td>\n",
       "    </tr>\n",
       "    <tr>\n",
       "      <th>4140</th>\n",
       "      <td>0</td>\n",
       "      <td>0</td>\n",
       "    </tr>\n",
       "  </tbody>\n",
       "</table>\n",
       "<p>4141 rows × 2 columns</p>\n",
       "</div>"
      ],
      "text/plain": [
       "      Prediction  Actual\n",
       "0              0       0\n",
       "1              0       0\n",
       "2              0       0\n",
       "3              0       0\n",
       "4              0       0\n",
       "5              0       1\n",
       "6              0       0\n",
       "7              0       0\n",
       "8              0       0\n",
       "9              0       0\n",
       "10             0       0\n",
       "11             0       0\n",
       "12             0       0\n",
       "13             0       0\n",
       "14             0       0\n",
       "15             0       0\n",
       "16             0       0\n",
       "17             0       0\n",
       "18             0       1\n",
       "19             0       0\n",
       "20             0       0\n",
       "21             0       0\n",
       "22             0       0\n",
       "23             0       1\n",
       "24             0       0\n",
       "25             0       0\n",
       "26             0       0\n",
       "27             0       0\n",
       "28             0       0\n",
       "29             0       0\n",
       "...          ...     ...\n",
       "4111           0       0\n",
       "4112           0       0\n",
       "4113           0       0\n",
       "4114           1       1\n",
       "4115           0       0\n",
       "4116           0       1\n",
       "4117           0       0\n",
       "4118           0       1\n",
       "4119           0       0\n",
       "4120           0       0\n",
       "4121           0       0\n",
       "4122           0       1\n",
       "4123           0       0\n",
       "4124           0       0\n",
       "4125           0       0\n",
       "4126           0       0\n",
       "4127           0       0\n",
       "4128           0       0\n",
       "4129           0       0\n",
       "4130           0       0\n",
       "4131           0       0\n",
       "4132           0       0\n",
       "4133           0       1\n",
       "4134           0       0\n",
       "4135           0       0\n",
       "4136           0       0\n",
       "4137           0       0\n",
       "4138           0       0\n",
       "4139           0       0\n",
       "4140           0       0\n",
       "\n",
       "[4141 rows x 2 columns]"
      ]
     },
     "execution_count": 41,
     "metadata": {},
     "output_type": "execute_result"
    }
   ],
   "source": [
    "pd.DataFrame({'Prediction': predictions, \"Actual\": y_test}).reset_index(drop=True)"
   ]
  },
  {
   "cell_type": "code",
   "execution_count": 42,
   "metadata": {},
   "outputs": [
    {
     "data": {
      "text/plain": [
       "array([[3565,   87],\n",
       "       [ 376,  113]])"
      ]
     },
     "execution_count": 42,
     "metadata": {},
     "output_type": "execute_result"
    }
   ],
   "source": [
    "from sklearn.metrics import confusion_matrix,accuracy_score, precision_score, recall_score, f1_score\n",
    "confusion_matrix(y_test,predictions)"
   ]
  },
  {
   "cell_type": "code",
   "execution_count": 43,
   "metadata": {},
   "outputs": [
    {
     "data": {
      "text/html": [
       "<div>\n",
       "<style scoped>\n",
       "    .dataframe tbody tr th:only-of-type {\n",
       "        vertical-align: middle;\n",
       "    }\n",
       "\n",
       "    .dataframe tbody tr th {\n",
       "        vertical-align: top;\n",
       "    }\n",
       "\n",
       "    .dataframe thead th {\n",
       "        text-align: right;\n",
       "    }\n",
       "</style>\n",
       "<table border=\"1\" class=\"dataframe\">\n",
       "  <thead>\n",
       "    <tr style=\"text-align: right;\">\n",
       "      <th>Actual</th>\n",
       "      <th>0</th>\n",
       "      <th>1</th>\n",
       "    </tr>\n",
       "    <tr>\n",
       "      <th>Predictions</th>\n",
       "      <th></th>\n",
       "      <th></th>\n",
       "    </tr>\n",
       "  </thead>\n",
       "  <tbody>\n",
       "    <tr>\n",
       "      <th>0</th>\n",
       "      <td>3565</td>\n",
       "      <td>376</td>\n",
       "    </tr>\n",
       "    <tr>\n",
       "      <th>1</th>\n",
       "      <td>87</td>\n",
       "      <td>113</td>\n",
       "    </tr>\n",
       "  </tbody>\n",
       "</table>\n",
       "</div>"
      ],
      "text/plain": [
       "Actual          0    1\n",
       "Predictions           \n",
       "0            3565  376\n",
       "1              87  113"
      ]
     },
     "execution_count": 43,
     "metadata": {},
     "output_type": "execute_result"
    }
   ],
   "source": [
    "x = pd.DataFrame({'Predictions':predictions, 'Actual':y_test }).reset_index(drop=True)\n",
    "pd.crosstab(x['Predictions'],x['Actual'])"
   ]
  },
  {
   "cell_type": "code",
   "execution_count": 44,
   "metadata": {},
   "outputs": [
    {
     "data": {
      "text/plain": [
       "MultinomialNB(alpha=1.0, class_prior=None, fit_prior=True)"
      ]
     },
     "execution_count": 44,
     "metadata": {},
     "output_type": "execute_result"
    }
   ],
   "source": [
    "from sklearn.naive_bayes import MultinomialNB\n",
    "naive_bayes = MultinomialNB()\n",
    "naive_bayes.fit(data3, target)"
   ]
  },
  {
   "cell_type": "code",
   "execution_count": 45,
   "metadata": {},
   "outputs": [
    {
     "data": {
      "text/plain": [
       "array([0, 0, 0, ..., 0, 0, 0])"
      ]
     },
     "execution_count": 45,
     "metadata": {},
     "output_type": "execute_result"
    }
   ],
   "source": [
    "predictions_naive = naive_bayes.predict(data3)\n",
    "predictions_naive"
   ]
  },
  {
   "cell_type": "code",
   "execution_count": 46,
   "metadata": {},
   "outputs": [
    {
     "name": "stdout",
     "output_type": "stream",
     "text": [
      "Accuracy score: 0.8856556387346052\n",
      "Precision score: 0.5548561151079137\n",
      "Recall score: 0.3060515873015873\n",
      "F1 score: 0.3945012787723785\n"
     ]
    }
   ],
   "source": [
    "print( 'Accuracy score:', format(accuracy_score(target, predictions_naive)))\n",
    "print('Precision score:', format(precision_score(target, predictions_naive)))\n",
    "print('Recall score:', format(recall_score(target, predictions_naive)))\n",
    "print('F1 score:', format(f1_score(target, predictions_naive)))"
   ]
  },
  {
   "cell_type": "code",
   "execution_count": 47,
   "metadata": {},
   "outputs": [
    {
     "data": {
      "text/plain": [
       "0.8881912581502053"
      ]
     },
     "execution_count": 47,
     "metadata": {},
     "output_type": "execute_result"
    }
   ],
   "source": [
    "svm_score"
   ]
  },
  {
   "cell_type": "code",
   "execution_count": 48,
   "metadata": {},
   "outputs": [
    {
     "data": {
      "text/plain": [
       "0.8906061337841101"
      ]
     },
     "execution_count": 48,
     "metadata": {},
     "output_type": "execute_result"
    }
   ],
   "source": [
    "rf_score"
   ]
  },
  {
   "cell_type": "code",
   "execution_count": 49,
   "metadata": {},
   "outputs": [
    {
     "data": {
      "text/plain": [
       "0.8881912581502053"
      ]
     },
     "execution_count": 49,
     "metadata": {},
     "output_type": "execute_result"
    }
   ],
   "source": [
    "lr_testscore"
   ]
  },
  {
   "cell_type": "code",
   "execution_count": null,
   "metadata": {},
   "outputs": [],
   "source": []
  },
  {
   "cell_type": "code",
   "execution_count": 50,
   "metadata": {},
   "outputs": [],
   "source": [
    "import seaborn as sns"
   ]
  },
  {
   "cell_type": "code",
   "execution_count": 51,
   "metadata": {},
   "outputs": [
    {
     "name": "stderr",
     "output_type": "stream",
     "text": [
      "/Users/HeatherTrinh/anaconda3/lib/python3.7/site-packages/scipy/stats/stats.py:1713: FutureWarning: Using a non-tuple sequence for multidimensional indexing is deprecated; use `arr[tuple(seq)]` instead of `arr[seq]`. In the future this will be interpreted as an array index, `arr[np.array(seq)]`, which will result either in an error or a different result.\n",
      "  return np.add.reduce(sorted[indexer] * weights, axis=axis) / sumval\n"
     ]
    },
    {
     "data": {
      "image/png": "[encoded data removed]",
      "text/plain": [
       "<Figure size 432x288 with 1 Axes>"
      ]
     },
     "metadata": {
      "needs_background": "light"
     },
     "output_type": "display_data"
    }
   ],
   "source": [
    "x = np.random.normal(size=100)\n",
    "sns.distplot(x, kde=False, rug=True);\n",
    "sns.set_style('whitegrid')"
   ]
  },
  {
   "cell_type": "code",
   "execution_count": 52,
   "metadata": {},
   "outputs": [
    {
     "data": {
      "text/plain": [
       "<matplotlib.axes._subplots.AxesSubplot at 0x1a1d5542b0>"
      ]
     },
     "execution_count": 52,
     "metadata": {},
     "output_type": "execute_result"
    },
    {
     "data": {
      "image/png": "[encoded data removed]",
      "text/plain": [
       "<Figure size 432x288 with 1 Axes>"
      ]
     },
     "metadata": {},
     "output_type": "display_data"
    }
   ],
   "source": [
    "sns.set_style(\"darkgrid\")\n",
    "sns.distplot(x, bins=20, kde=False, rug=True)"
   ]
  },
  {
   "cell_type": "code",
   "execution_count": 53,
   "metadata": {},
   "outputs": [
    {
     "data": {
      "image/png": "[encoded data removed]",
      "text/plain": [
       "<Figure size 432x288 with 1 Axes>"
      ]
     },
     "metadata": {},
     "output_type": "display_data"
    }
   ],
   "source": [
    "sns.set(); np.random.seed(0)\n",
    "x=np.random.randn(100)\n",
    "ax=sns.distplot(x)"
   ]
  },
  {
   "cell_type": "code",
   "execution_count": 54,
   "metadata": {},
   "outputs": [
    {
     "data": {
      "image/png": "[encoded data removed]",
      "text/plain": [
       "<Figure size 432x288 with 1 Axes>"
      ]
     },
     "metadata": {},
     "output_type": "display_data"
    }
   ],
   "source": [
    "from scipy.stats import norm\n",
    "ax=sns.distplot(x,fit=norm,kde=False)"
   ]
  },
  {
   "cell_type": "code",
   "execution_count": 101,
   "metadata": {},
   "outputs": [
    {
     "data": {
      "image/png": "[encoded data removed]",
      "text/plain": [
       "<Figure size 504x576 with 1 Axes>"
      ]
     },
     "metadata": {},
     "output_type": "display_data"
    }
   ],
   "source": [
    "#CREATE PIE GRAPH OF GENDER\n",
    "male_count = np.sum(thyroid_demographics['Gender Title'] == 1)\n",
    "female_count = np.sum(thyroid_demographics['Gender Title'] == 0)\n",
    "gender = [male_count, female_count]\n",
    "gender_names=  ['Male', \"Female\"]\n",
    "explode = (0, 0.05)\n",
    "colors = ['skyblue', 'pink']\n",
    "plt.figure(figsize=(7,8))\n",
    "plt.pie(gender, labels=gender_names, explode=explode, textprops={'fontsize':20}, colors=colors, \n",
    "        startangle=90, autopct='%.1f%%', shadow=True)\n",
    "plt.title(\"Gender\", fontsize=20)\n",
    "\n",
    "\n",
    "plt.savefig(\"pics/gender_pie.png\")\n"
   ]
  },
  {
   "cell_type": "code",
   "execution_count": null,
   "metadata": {},
   "outputs": [],
   "source": []
  },
  {
   "cell_type": "code",
   "execution_count": 56,
   "metadata": {},
   "outputs": [
    {
     "data": {
      "text/plain": [
       "(50,)"
      ]
     },
     "execution_count": 56,
     "metadata": {},
     "output_type": "execute_result"
    }
   ],
   "source": [
    "#READ IN CITY DATA TO MERGE WITH HOSPITAL ID\n",
    "city= pd.read_csv('data/hosp_city.csv')\n",
    "city = city.dropna(how=\"any\")\n",
    "city = city.drop_duplicates()\n",
    "city['Hospital Number'].shape\n"
   ]
  },
  {
   "cell_type": "code",
   "execution_count": 93,
   "metadata": {},
   "outputs": [
    {
     "data": {
      "text/html": [
       "<div>\n",
       "<style scoped>\n",
       "    .dataframe tbody tr th:only-of-type {\n",
       "        vertical-align: middle;\n",
       "    }\n",
       "\n",
       "    .dataframe tbody tr th {\n",
       "        vertical-align: top;\n",
       "    }\n",
       "\n",
       "    .dataframe thead th {\n",
       "        text-align: right;\n",
       "    }\n",
       "</style>\n",
       "<table border=\"1\" class=\"dataframe\">\n",
       "  <thead>\n",
       "    <tr style=\"text-align: right;\">\n",
       "      <th></th>\n",
       "      <th>Hospital Number</th>\n",
       "      <th>Hospital City</th>\n",
       "    </tr>\n",
       "  </thead>\n",
       "  <tbody>\n",
       "    <tr>\n",
       "      <th>0</th>\n",
       "      <td>2037</td>\n",
       "      <td>Indianapolis</td>\n",
       "    </tr>\n",
       "    <tr>\n",
       "      <th>1</th>\n",
       "      <td>2037</td>\n",
       "      <td>Indianapolis</td>\n",
       "    </tr>\n",
       "    <tr>\n",
       "      <th>2</th>\n",
       "      <td>2037</td>\n",
       "      <td>Indianapolis</td>\n",
       "    </tr>\n",
       "    <tr>\n",
       "      <th>3</th>\n",
       "      <td>2037</td>\n",
       "      <td>Indianapolis</td>\n",
       "    </tr>\n",
       "    <tr>\n",
       "      <th>4</th>\n",
       "      <td>2037</td>\n",
       "      <td>Indianapolis</td>\n",
       "    </tr>\n",
       "    <tr>\n",
       "      <th>5</th>\n",
       "      <td>2037</td>\n",
       "      <td>Indianapolis</td>\n",
       "    </tr>\n",
       "    <tr>\n",
       "      <th>6</th>\n",
       "      <td>2037</td>\n",
       "      <td>Indianapolis</td>\n",
       "    </tr>\n",
       "    <tr>\n",
       "      <th>7</th>\n",
       "      <td>2037</td>\n",
       "      <td>Indianapolis</td>\n",
       "    </tr>\n",
       "    <tr>\n",
       "      <th>8</th>\n",
       "      <td>2037</td>\n",
       "      <td>Indianapolis</td>\n",
       "    </tr>\n",
       "    <tr>\n",
       "      <th>9</th>\n",
       "      <td>2037</td>\n",
       "      <td>Indianapolis</td>\n",
       "    </tr>\n",
       "  </tbody>\n",
       "</table>\n",
       "</div>"
      ],
      "text/plain": [
       "   Hospital Number Hospital City\n",
       "0             2037  Indianapolis\n",
       "1             2037  Indianapolis\n",
       "2             2037  Indianapolis\n",
       "3             2037  Indianapolis\n",
       "4             2037  Indianapolis\n",
       "5             2037  Indianapolis\n",
       "6             2037  Indianapolis\n",
       "7             2037  Indianapolis\n",
       "8             2037  Indianapolis\n",
       "9             2037  Indianapolis"
      ]
     },
     "execution_count": 93,
     "metadata": {},
     "output_type": "execute_result"
    }
   ],
   "source": [
    "#CREATE NEW DF WITH CITY NAME MERGED TO HOSP ID\n",
    "thyroid_city= thyroid_demographics.merge(city, on=\"Hospital Number\")\n",
    "thyroid_city = thyroid_city[['Hospital Number', 'Hospital City']]\n",
    "thyroid_city.head(10)"
   ]
  },
  {
   "cell_type": "code",
   "execution_count": 94,
   "metadata": {},
   "outputs": [
    {
     "data": {
      "text/html": [
       "<div>\n",
       "<style scoped>\n",
       "    .dataframe tbody tr th:only-of-type {\n",
       "        vertical-align: middle;\n",
       "    }\n",
       "\n",
       "    .dataframe tbody tr th {\n",
       "        vertical-align: top;\n",
       "    }\n",
       "\n",
       "    .dataframe thead th {\n",
       "        text-align: right;\n",
       "    }\n",
       "</style>\n",
       "<table border=\"1\" class=\"dataframe\">\n",
       "  <thead>\n",
       "    <tr style=\"text-align: right;\">\n",
       "      <th></th>\n",
       "      <th>Hospital Number</th>\n",
       "      <th>Counts</th>\n",
       "    </tr>\n",
       "  </thead>\n",
       "  <tbody>\n",
       "    <tr>\n",
       "      <th>0</th>\n",
       "      <td>2020</td>\n",
       "      <td>1065</td>\n",
       "    </tr>\n",
       "    <tr>\n",
       "      <th>1</th>\n",
       "      <td>2022</td>\n",
       "      <td>881</td>\n",
       "    </tr>\n",
       "    <tr>\n",
       "      <th>2</th>\n",
       "      <td>2030</td>\n",
       "      <td>875</td>\n",
       "    </tr>\n",
       "    <tr>\n",
       "      <th>3</th>\n",
       "      <td>1005</td>\n",
       "      <td>721</td>\n",
       "    </tr>\n",
       "    <tr>\n",
       "      <th>4</th>\n",
       "      <td>2027</td>\n",
       "      <td>711</td>\n",
       "    </tr>\n",
       "  </tbody>\n",
       "</table>\n",
       "</div>"
      ],
      "text/plain": [
       "   Hospital Number  Counts\n",
       "0             2020    1065\n",
       "1             2022     881\n",
       "2             2030     875\n",
       "3             1005     721\n",
       "4             2027     711"
      ]
     },
     "execution_count": 94,
     "metadata": {},
     "output_type": "execute_result"
    }
   ],
   "source": [
    "hospital_counts = pd.DataFrame(thyroid_city['Hospital Number'].value_counts())\n",
    "# unique_hosp.head()\n",
    "# unique_hosp=unique_hosp.reset_index().rename(columns={'Hospital Number':'Counts'})\n",
    "# unique_hosp\n",
    "# hosp_counts = unique_hosp.reset_index().rename(columns={'index':'Hospital Number'})\n",
    "hosp_counts=hospital_counts.reset_index().rename(columns={'index':'Hospital Number', 'Hospital Number':'Counts'})\n",
    "hosp_counts.head()"
   ]
  },
  {
   "cell_type": "code",
   "execution_count": 95,
   "metadata": {},
   "outputs": [
    {
     "data": {
      "text/html": [
       "<div>\n",
       "<style scoped>\n",
       "    .dataframe tbody tr th:only-of-type {\n",
       "        vertical-align: middle;\n",
       "    }\n",
       "\n",
       "    .dataframe tbody tr th {\n",
       "        vertical-align: top;\n",
       "    }\n",
       "\n",
       "    .dataframe thead th {\n",
       "        text-align: right;\n",
       "    }\n",
       "</style>\n",
       "<table border=\"1\" class=\"dataframe\">\n",
       "  <thead>\n",
       "    <tr style=\"text-align: right;\">\n",
       "      <th></th>\n",
       "      <th>Hospital Number</th>\n",
       "      <th>Hospital City</th>\n",
       "      <th>Counts</th>\n",
       "    </tr>\n",
       "  </thead>\n",
       "  <tbody>\n",
       "    <tr>\n",
       "      <th>0</th>\n",
       "      <td>2020</td>\n",
       "      <td>Atlanta</td>\n",
       "      <td>1065</td>\n",
       "    </tr>\n",
       "    <tr>\n",
       "      <th>1</th>\n",
       "      <td>2020</td>\n",
       "      <td>Atlanta</td>\n",
       "      <td>1065</td>\n",
       "    </tr>\n",
       "    <tr>\n",
       "      <th>2</th>\n",
       "      <td>2020</td>\n",
       "      <td>Atlanta</td>\n",
       "      <td>1065</td>\n",
       "    </tr>\n",
       "    <tr>\n",
       "      <th>3</th>\n",
       "      <td>2020</td>\n",
       "      <td>Atlanta</td>\n",
       "      <td>1065</td>\n",
       "    </tr>\n",
       "    <tr>\n",
       "      <th>4</th>\n",
       "      <td>2020</td>\n",
       "      <td>Atlanta</td>\n",
       "      <td>1065</td>\n",
       "    </tr>\n",
       "  </tbody>\n",
       "</table>\n",
       "</div>"
      ],
      "text/plain": [
       "   Hospital Number Hospital City  Counts\n",
       "0             2020       Atlanta    1065\n",
       "1             2020       Atlanta    1065\n",
       "2             2020       Atlanta    1065\n",
       "3             2020       Atlanta    1065\n",
       "4             2020       Atlanta    1065"
      ]
     },
     "execution_count": 95,
     "metadata": {},
     "output_type": "execute_result"
    }
   ],
   "source": [
    "hospital_counts = hosp_counts.merge(thyroid_city, on='Hospital Number')\n",
    "hospital_counts=hospital_counts[['Hospital Number','Hospital City','Counts']]\n",
    "hospital_counts.head()"
   ]
  },
  {
   "cell_type": "code",
   "execution_count": 96,
   "metadata": {},
   "outputs": [
    {
     "data": {
      "image/png": "[encoded data removed]",
      "text/plain": [
       "<Figure size 3600x72 with 1 Axes>"
      ]
     },
     "metadata": {},
     "output_type": "display_data"
    }
   ],
   "source": [
    "sequential_colors = sns.color_palette(\"BuPu_r\",50)\n",
    "sns.palplot(sequential_colors)"
   ]
  },
  {
   "cell_type": "code",
   "execution_count": 97,
   "metadata": {},
   "outputs": [
    {
     "data": {
      "image/png": "[encoded data removed]",
      "text/plain": [
       "<Figure size 720x1080 with 1 Axes>"
      ]
     },
     "metadata": {},
     "output_type": "display_data"
    }
   ],
   "source": [
    "#USE SEABORN TO CREATE HORIZONTAL BAR GRAPH\n",
    "x = hospital_counts['Counts']\n",
    "y=hospital_counts['Hospital City']\n",
    "plt.figure(figsize=(10,15))\n",
    "city_bar = sns.barplot(x=x,y=y,data=hospital_counts,palette=sequential_colors)\n",
    "\n",
    "plt.savefig(\"pics/city_bar.png\")"
   ]
  },
  {
   "cell_type": "code",
   "execution_count": 102,
   "metadata": {},
   "outputs": [
    {
     "data": {
      "image/png": "[encoded data removed]",
      "text/plain": [
       "<Figure size 504x576 with 1 Axes>"
      ]
     },
     "metadata": {},
     "output_type": "display_data"
    }
   ],
   "source": [
    "#CREATE DONUT GRAPH OF RACE\n",
    "white = np.sum(thyroid_demographics['Race - Version 1'] == 1)\n",
    "black = np.sum(thyroid_demographics['Race - Version 1'] == 2)\n",
    "asian = np.sum(thyroid_demographics['Race - Version 1'] == 3)\n",
    "american_indian = np.sum(thyroid_demographics['Race - Version 1'] == 4)\n",
    "hispanic = np.sum(thyroid_demographics['Race - Version 1'] == 5)\n",
    "other = np.sum(thyroid_demographics['Race - Version 1'] == 6)\n",
    "\n",
    "#race\n",
    "#0 = missing, 1= white, 2= Black, 3= Asian, 4= American Indian, 5= hispanic, 6= other\n",
    "\n",
    "\n",
    "race = [white, asian, black, american_indian, other, hispanic]\n",
    "race_names=  [\"White\", \"Asian\", \"Black\", \"American Indian\", \"Other\", \"Hispanic\"]\n",
    "colors = ['salmon', 'peru', 'bisque', 'wheat', 'mistyrose', 'red']\n",
    "plt.figure(figsize=(7,8))\n",
    "plt.pie(race, labels=race_names, textprops={'fontsize':15}, colors=colors, \n",
    "        startangle=90, autopct='%.1f%%')\n",
    "plt.title(\"Race\", fontsize=20)\n",
    "\n",
    "\n",
    "\n",
    "# add a circle at the center\n",
    "my_circle=plt.Circle( (0,0), 0.4, color='white')\n",
    "p=plt.gcf()\n",
    "p.gca().add_artist(my_circle)\n",
    "\n",
    "\n",
    "plt.savefig(\"pics/race_donut.png\")\n"
   ]
  },
  {
   "cell_type": "code",
   "execution_count": 91,
   "metadata": {},
   "outputs": [
    {
     "data": {
      "text/plain": [
       "<Figure size 432x288 with 0 Axes>"
      ]
     },
     "metadata": {},
     "output_type": "display_data"
    }
   ],
   "source": []
  },
  {
   "cell_type": "code",
   "execution_count": null,
   "metadata": {},
   "outputs": [],
   "source": []
  }
 ],
 "metadata": {
  "kernelspec": {
   "display_name": "Python 3",
   "language": "python",
   "name": "python3"
  },
  "language_info": {
   "codemirror_mode": {
    "name": "ipython",
    "version": 3
   },
   "file_extension": ".py",
   "mimetype": "text/x-python",
   "name": "python",
   "nbconvert_exporter": "python",
   "pygments_lexer": "ipython3",
   "version": "3.7.1"
  },
  "toc": {
   "base_numbering": 1,
   "nav_menu": {},
   "number_sections": false,
   "sideBar": false,
   "skip_h1_title": false,
   "title_cell": "Table of Contents",
   "title_sidebar": "Contents",
   "toc_cell": false,
   "toc_position": {},
   "toc_section_display": false,
   "toc_window_display": false
  }
 },
 "nbformat": 4,
 "nbformat_minor": 2
}
