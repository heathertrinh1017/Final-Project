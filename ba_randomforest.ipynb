{
 "cells": [
  {
   "cell_type": "code",
   "execution_count": 1,
   "metadata": {},
   "outputs": [],
   "source": [
    "#Random Forest-- Basheer Ahmed\n",
    "#7/22/19"
   ]
  },
  {
   "cell_type": "code",
   "execution_count": 2,
   "metadata": {},
   "outputs": [],
   "source": [
    "%matplotlib notebook"
   ]
  },
  {
   "cell_type": "code",
   "execution_count": 3,
   "metadata": {},
   "outputs": [],
   "source": [
    "import numpy as np\n",
    "import pandas as pd\n",
    "import matplotlib.pyplot as plt"
   ]
  },
  {
   "cell_type": "code",
   "execution_count": 10,
   "metadata": {
    "scrolled": true
   },
   "outputs": [
    {
     "data": {
      "text/html": [
       "<div>\n",
       "<style scoped>\n",
       "    .dataframe tbody tr th:only-of-type {\n",
       "        vertical-align: middle;\n",
       "    }\n",
       "\n",
       "    .dataframe tbody tr th {\n",
       "        vertical-align: top;\n",
       "    }\n",
       "\n",
       "    .dataframe thead th {\n",
       "        text-align: right;\n",
       "    }\n",
       "</style>\n",
       "<table border=\"1\" class=\"dataframe\">\n",
       "  <thead>\n",
       "    <tr style=\"text-align: right;\">\n",
       "      <th></th>\n",
       "      <th>Admit Age In Years</th>\n",
       "      <th>Gender Title</th>\n",
       "      <th>Ethnicity Title</th>\n",
       "      <th>Race - American Indian</th>\n",
       "      <th>Race - Asian</th>\n",
       "      <th>Race - Black</th>\n",
       "      <th>Race - Other</th>\n",
       "      <th>Race - Pacific Islander</th>\n",
       "      <th>Race - Version 1</th>\n",
       "      <th>Race Title - Version 1</th>\n",
       "      <th>...</th>\n",
       "      <th>Infection Flag</th>\n",
       "      <th>Medical Complication Flag</th>\n",
       "      <th>Surgical Complication Flag</th>\n",
       "      <th>Post Operative LOS</th>\n",
       "      <th>RACHS Score</th>\n",
       "      <th>Principal Dx (ICD)</th>\n",
       "      <th>Principal Dx Code - Title (ICD)</th>\n",
       "      <th>Risk Of Mortality Title</th>\n",
       "      <th>Total Ped Expected Mortalities</th>\n",
       "      <th>Total Days In ICU</th>\n",
       "    </tr>\n",
       "  </thead>\n",
       "  <tbody>\n",
       "    <tr>\n",
       "      <th>0</th>\n",
       "      <td>0.0</td>\n",
       "      <td>Female</td>\n",
       "      <td>Unknown</td>\n",
       "      <td>N</td>\n",
       "      <td>N</td>\n",
       "      <td>Y</td>\n",
       "      <td>N</td>\n",
       "      <td>N</td>\n",
       "      <td>0.0</td>\n",
       "      <td>Missing</td>\n",
       "      <td>...</td>\n",
       "      <td>N</td>\n",
       "      <td>N</td>\n",
       "      <td>N</td>\n",
       "      <td>6</td>\n",
       "      <td>-1.0</td>\n",
       "      <td>2762</td>\n",
       "      <td>2762 - Acidosis</td>\n",
       "      <td>Moderate</td>\n",
       "      <td>0.0000</td>\n",
       "      <td>4.0</td>\n",
       "    </tr>\n",
       "    <tr>\n",
       "      <th>1</th>\n",
       "      <td>0.0</td>\n",
       "      <td>Male</td>\n",
       "      <td>Unknown</td>\n",
       "      <td>N</td>\n",
       "      <td>N</td>\n",
       "      <td>N</td>\n",
       "      <td>N</td>\n",
       "      <td>N</td>\n",
       "      <td>0.0</td>\n",
       "      <td>Missing</td>\n",
       "      <td>...</td>\n",
       "      <td>N</td>\n",
       "      <td>N</td>\n",
       "      <td>Y</td>\n",
       "      <td>65</td>\n",
       "      <td>6.0</td>\n",
       "      <td>V3001</td>\n",
       "      <td>V3001 - Single LB-hospital by CD</td>\n",
       "      <td>Extreme</td>\n",
       "      <td>0.0794</td>\n",
       "      <td>61.0</td>\n",
       "    </tr>\n",
       "    <tr>\n",
       "      <th>2</th>\n",
       "      <td>1.0</td>\n",
       "      <td>Female</td>\n",
       "      <td>Unknown</td>\n",
       "      <td>N</td>\n",
       "      <td>N</td>\n",
       "      <td>N</td>\n",
       "      <td>N</td>\n",
       "      <td>N</td>\n",
       "      <td>0.0</td>\n",
       "      <td>Missing</td>\n",
       "      <td>...</td>\n",
       "      <td>Y</td>\n",
       "      <td>N</td>\n",
       "      <td>N</td>\n",
       "      <td>9</td>\n",
       "      <td>-1.0</td>\n",
       "      <td>49391</td>\n",
       "      <td>49391 - Asthma w status asth</td>\n",
       "      <td>Moderate</td>\n",
       "      <td>0.0007</td>\n",
       "      <td>4.0</td>\n",
       "    </tr>\n",
       "    <tr>\n",
       "      <th>3</th>\n",
       "      <td>7.0</td>\n",
       "      <td>Male</td>\n",
       "      <td>Unknown</td>\n",
       "      <td>N</td>\n",
       "      <td>N</td>\n",
       "      <td>Y</td>\n",
       "      <td>N</td>\n",
       "      <td>N</td>\n",
       "      <td>0.0</td>\n",
       "      <td>Missing</td>\n",
       "      <td>...</td>\n",
       "      <td>N</td>\n",
       "      <td>N</td>\n",
       "      <td>N</td>\n",
       "      <td>NaN</td>\n",
       "      <td>-1.0</td>\n",
       "      <td>49391</td>\n",
       "      <td>49391 - Asthma w status asth</td>\n",
       "      <td>Moderate</td>\n",
       "      <td>0.0007</td>\n",
       "      <td>0.0</td>\n",
       "    </tr>\n",
       "    <tr>\n",
       "      <th>4</th>\n",
       "      <td>0.0</td>\n",
       "      <td>Male</td>\n",
       "      <td>Unknown</td>\n",
       "      <td>N</td>\n",
       "      <td>N</td>\n",
       "      <td>N</td>\n",
       "      <td>N</td>\n",
       "      <td>N</td>\n",
       "      <td>0.0</td>\n",
       "      <td>Missing</td>\n",
       "      <td>...</td>\n",
       "      <td>Y</td>\n",
       "      <td>N</td>\n",
       "      <td>N</td>\n",
       "      <td>25</td>\n",
       "      <td>-1.0</td>\n",
       "      <td>769</td>\n",
       "      <td>769 - Resp distress syndrome</td>\n",
       "      <td>Extreme</td>\n",
       "      <td>0.3899</td>\n",
       "      <td>0.0</td>\n",
       "    </tr>\n",
       "  </tbody>\n",
       "</table>\n",
       "<p>5 rows × 25 columns</p>\n",
       "</div>"
      ],
      "text/plain": [
       "   Admit Age In Years Gender Title Ethnicity Title Race - American Indian  \\\n",
       "0                 0.0       Female         Unknown                      N   \n",
       "1                 0.0         Male         Unknown                      N   \n",
       "2                 1.0       Female         Unknown                      N   \n",
       "3                 7.0         Male         Unknown                      N   \n",
       "4                 0.0         Male         Unknown                      N   \n",
       "\n",
       "  Race - Asian Race - Black Race - Other Race - Pacific Islander  \\\n",
       "0            N            Y            N                       N   \n",
       "1            N            N            N                       N   \n",
       "2            N            N            N                       N   \n",
       "3            N            Y            N                       N   \n",
       "4            N            N            N                       N   \n",
       "\n",
       "   Race - Version 1 Race Title - Version 1        ...         Infection Flag  \\\n",
       "0               0.0   Missing                     ...                      N   \n",
       "1               0.0   Missing                     ...                      N   \n",
       "2               0.0   Missing                     ...                      Y   \n",
       "3               0.0   Missing                     ...                      N   \n",
       "4               0.0   Missing                     ...                      Y   \n",
       "\n",
       "   Medical Complication Flag Surgical Complication Flag Post Operative LOS  \\\n",
       "0                          N                          N                  6   \n",
       "1                          N                          Y                 65   \n",
       "2                          N                          N                  9   \n",
       "3                          N                          N                NaN   \n",
       "4                          N                          N                 25   \n",
       "\n",
       "  RACHS Score Principal Dx (ICD)   Principal Dx Code - Title (ICD)  \\\n",
       "0        -1.0               2762                   2762 - Acidosis   \n",
       "1         6.0              V3001  V3001 - Single LB-hospital by CD   \n",
       "2        -1.0              49391      49391 - Asthma w status asth   \n",
       "3        -1.0              49391      49391 - Asthma w status asth   \n",
       "4        -1.0                769      769 - Resp distress syndrome   \n",
       "\n",
       "  Risk Of Mortality Title Total Ped Expected Mortalities  Total Days In ICU  \n",
       "0                Moderate                         0.0000                4.0  \n",
       "1                 Extreme                         0.0794               61.0  \n",
       "2                Moderate                         0.0007                4.0  \n",
       "3                Moderate                         0.0007                0.0  \n",
       "4                 Extreme                         0.3899                0.0  \n",
       "\n",
       "[5 rows x 25 columns]"
      ]
     },
     "execution_count": 10,
     "metadata": {},
     "output_type": "execute_result"
    }
   ],
   "source": [
    "thyroid_data = pd.read_csv(\"data/thyroid_demographics.csv\")\n",
    "\n",
    "columns = ['Discharge ID', 'Medical Record Number', 'Discharge ID', 'Medical Record Number', 'Hospital Number']\n",
    "thyroid_data.drop(columns, inplace=True, axis=1)\n",
    "\n",
    "thyroid_data.head()"
   ]
  },
  {
   "cell_type": "code",
   "execution_count": 11,
   "metadata": {},
   "outputs": [
    {
     "data": {
      "text/plain": [
       "(19769, 25)"
      ]
     },
     "execution_count": 11,
     "metadata": {},
     "output_type": "execute_result"
    }
   ],
   "source": [
    "#explore data\n",
    "thyroid_data.shape"
   ]
  },
  {
   "cell_type": "code",
   "execution_count": 12,
   "metadata": {
    "scrolled": true
   },
   "outputs": [
    {
     "data": {
      "text/plain": [
       "Admit Age In Years                 float64\n",
       "Gender Title                        object\n",
       "Ethnicity Title                     object\n",
       "Race - American Indian              object\n",
       "Race - Asian                        object\n",
       "Race - Black                        object\n",
       "Race - Other                        object\n",
       "Race - Pacific Islander             object\n",
       "Race - Version 1                   float64\n",
       "Race Title - Version 1              object\n",
       "Length Of Stay                      object\n",
       "Total Ped Expected LOS             float64\n",
       "Discharge Mortality Flag            object\n",
       "Mechanical Vent Flag                object\n",
       "ECMO Flag                           object\n",
       "Infection Flag                      object\n",
       "Medical Complication Flag           object\n",
       "Surgical Complication Flag          object\n",
       "Post Operative LOS                  object\n",
       "RACHS Score                        float64\n",
       "Principal Dx (ICD)                  object\n",
       "Principal Dx Code - Title (ICD)     object\n",
       "Risk Of Mortality Title             object\n",
       "Total Ped Expected Mortalities     float64\n",
       "Total Days In ICU                  float64\n",
       "dtype: object"
      ]
     },
     "execution_count": 12,
     "metadata": {},
     "output_type": "execute_result"
    }
   ],
   "source": [
    "#explore data\n",
    "thyroid_data.dtypes"
   ]
  },
  {
   "cell_type": "code",
   "execution_count": null,
   "metadata": {},
   "outputs": [],
   "source": [
    "#race\n",
    "#0 = missing, 1= white, 2= Black, 3= Asian, 4= American Indian, 6= other"
   ]
  },
  {
   "cell_type": "code",
   "execution_count": null,
   "metadata": {},
   "outputs": [],
   "source": [
    "#risk of mort\n",
    "# 0=minor, 1-moderate, 2= major, 3= extreme, 4= no class specified"
   ]
  },
  {
   "cell_type": "code",
   "execution_count": null,
   "metadata": {},
   "outputs": [],
   "source": []
  }
 ],
 "metadata": {
  "kernelspec": {
   "display_name": "Python 3",
   "language": "python",
   "name": "python3"
  },
  "language_info": {
   "codemirror_mode": {
    "name": "ipython",
    "version": 3
   },
   "file_extension": ".py",
   "mimetype": "text/x-python",
   "name": "python",
   "nbconvert_exporter": "python",
   "pygments_lexer": "ipython3",
   "version": "3.7.1"
  }
 },
 "nbformat": 4,
 "nbformat_minor": 2
}
