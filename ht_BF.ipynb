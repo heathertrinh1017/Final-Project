{
 "cells": [
  {
   "cell_type": "code",
   "execution_count": 3,
   "metadata": {},
   "outputs": [
    {
     "name": "stderr",
     "output_type": "stream",
     "text": [
      "UsageError: Line magic function `%` not found.\n"
     ]
    }
   ],
   "source": [
    "\n",
    "import pandas as pd\n",
    "import numpy as np\n",
    "import matplotlib.pyplot as plt\n",
    "from sklearn.model_selection import train_test_split\n",
    "% matplotlib inline\n"
   ]
  },
  {
   "cell_type": "code",
   "execution_count": 4,
   "metadata": {},
   "outputs": [
    {
     "name": "stderr",
     "output_type": "stream",
     "text": [
      "UsageError: Line magic function `%` not found.\n"
     ]
    }
   ],
   "source": [
    "% matplotlib inline"
   ]
  },
  {
   "cell_type": "code",
   "execution_count": 5,
   "metadata": {},
   "outputs": [
    {
     "data": {
      "text/html": [
       "<div>\n",
       "<style scoped>\n",
       "    .dataframe tbody tr th:only-of-type {\n",
       "        vertical-align: middle;\n",
       "    }\n",
       "\n",
       "    .dataframe tbody tr th {\n",
       "        vertical-align: top;\n",
       "    }\n",
       "\n",
       "    .dataframe thead th {\n",
       "        text-align: right;\n",
       "    }\n",
       "</style>\n",
       "<table border=\"1\" class=\"dataframe\">\n",
       "  <thead>\n",
       "    <tr style=\"text-align: right;\">\n",
       "      <th></th>\n",
       "      <th>Hospital Number</th>\n",
       "      <th>Admit Age In Years</th>\n",
       "      <th>Gender Title</th>\n",
       "      <th>Race - Version 1</th>\n",
       "      <th>Length Of Stay</th>\n",
       "      <th>Total Ped Expected LOS</th>\n",
       "      <th>Discharge Mortality Flag</th>\n",
       "      <th>Mechanical Vent Flag</th>\n",
       "      <th>ECMO Flag</th>\n",
       "      <th>Infection Flag</th>\n",
       "      <th>Medical Complication Flag</th>\n",
       "      <th>Surgical Complication Flag</th>\n",
       "      <th>Post Operative LOS</th>\n",
       "      <th>RACHS Score</th>\n",
       "      <th>Principal Dx (ICD)</th>\n",
       "      <th>Principal Dx Code - Title (ICD)</th>\n",
       "      <th>Risk Of Mortality Title</th>\n",
       "      <th>Total Ped Expected Mortalities</th>\n",
       "      <th>Total Days In ICU</th>\n",
       "    </tr>\n",
       "  </thead>\n",
       "  <tbody>\n",
       "    <tr>\n",
       "      <th>19763</th>\n",
       "      <td>2029</td>\n",
       "      <td>16</td>\n",
       "      <td>0</td>\n",
       "      <td>1</td>\n",
       "      <td>5</td>\n",
       "      <td>1.72</td>\n",
       "      <td>0</td>\n",
       "      <td>0</td>\n",
       "      <td>0</td>\n",
       "      <td>0</td>\n",
       "      <td>0</td>\n",
       "      <td>0</td>\n",
       "      <td>2</td>\n",
       "      <td>1</td>\n",
       "      <td>42732</td>\n",
       "      <td>42732 - Atrial flutter</td>\n",
       "      <td>0</td>\n",
       "      <td>0.0000</td>\n",
       "      <td>4.0</td>\n",
       "    </tr>\n",
       "    <tr>\n",
       "      <th>19764</th>\n",
       "      <td>2029</td>\n",
       "      <td>0</td>\n",
       "      <td>0</td>\n",
       "      <td>1</td>\n",
       "      <td>8</td>\n",
       "      <td>5.64</td>\n",
       "      <td>0</td>\n",
       "      <td>1</td>\n",
       "      <td>0</td>\n",
       "      <td>0</td>\n",
       "      <td>0</td>\n",
       "      <td>0</td>\n",
       "      <td>8</td>\n",
       "      <td>2</td>\n",
       "      <td>7454</td>\n",
       "      <td>7454 - Ventricular sept defect</td>\n",
       "      <td>0</td>\n",
       "      <td>0.0011</td>\n",
       "      <td>6.0</td>\n",
       "    </tr>\n",
       "    <tr>\n",
       "      <th>19765</th>\n",
       "      <td>2029</td>\n",
       "      <td>3</td>\n",
       "      <td>1</td>\n",
       "      <td>1</td>\n",
       "      <td>1</td>\n",
       "      <td>3.01</td>\n",
       "      <td>0</td>\n",
       "      <td>0</td>\n",
       "      <td>0</td>\n",
       "      <td>1</td>\n",
       "      <td>0</td>\n",
       "      <td>0</td>\n",
       "      <td>0</td>\n",
       "      <td>1</td>\n",
       "      <td>4644</td>\n",
       "      <td>4644 - Croup</td>\n",
       "      <td>1</td>\n",
       "      <td>0.0011</td>\n",
       "      <td>1.0</td>\n",
       "    </tr>\n",
       "    <tr>\n",
       "      <th>19766</th>\n",
       "      <td>2029</td>\n",
       "      <td>11</td>\n",
       "      <td>1</td>\n",
       "      <td>1</td>\n",
       "      <td>8</td>\n",
       "      <td>6.65</td>\n",
       "      <td>0</td>\n",
       "      <td>0</td>\n",
       "      <td>0</td>\n",
       "      <td>1</td>\n",
       "      <td>0</td>\n",
       "      <td>0</td>\n",
       "      <td>0</td>\n",
       "      <td>1</td>\n",
       "      <td>29689</td>\n",
       "      <td>29689 - Bipolar disorder NEC</td>\n",
       "      <td>1</td>\n",
       "      <td>0.0000</td>\n",
       "      <td>0.0</td>\n",
       "    </tr>\n",
       "    <tr>\n",
       "      <th>19767</th>\n",
       "      <td>2037</td>\n",
       "      <td>0</td>\n",
       "      <td>1</td>\n",
       "      <td>1</td>\n",
       "      <td>19</td>\n",
       "      <td>32.57</td>\n",
       "      <td>0</td>\n",
       "      <td>0</td>\n",
       "      <td>0</td>\n",
       "      <td>0</td>\n",
       "      <td>0</td>\n",
       "      <td>0</td>\n",
       "      <td>17</td>\n",
       "      <td>1</td>\n",
       "      <td>V3001</td>\n",
       "      <td>V3001 - Single LB-hospital by CD</td>\n",
       "      <td>1</td>\n",
       "      <td>0.0396</td>\n",
       "      <td>NaN</td>\n",
       "    </tr>\n",
       "  </tbody>\n",
       "</table>\n",
       "</div>"
      ],
      "text/plain": [
       "       Hospital Number  Admit Age In Years  Gender Title  Race - Version 1  \\\n",
       "19763             2029                  16             0                 1   \n",
       "19764             2029                   0             0                 1   \n",
       "19765             2029                   3             1                 1   \n",
       "19766             2029                  11             1                 1   \n",
       "19767             2037                   0             1                 1   \n",
       "\n",
       "      Length Of Stay  Total Ped Expected LOS  Discharge Mortality Flag  \\\n",
       "19763              5                    1.72                         0   \n",
       "19764              8                    5.64                         0   \n",
       "19765              1                    3.01                         0   \n",
       "19766              8                    6.65                         0   \n",
       "19767             19                   32.57                         0   \n",
       "\n",
       "       Mechanical Vent Flag  ECMO Flag  Infection Flag  \\\n",
       "19763                     0          0               0   \n",
       "19764                     1          0               0   \n",
       "19765                     0          0               1   \n",
       "19766                     0          0               1   \n",
       "19767                     0          0               0   \n",
       "\n",
       "       Medical Complication Flag  Surgical Complication Flag  \\\n",
       "19763                          0                           0   \n",
       "19764                          0                           0   \n",
       "19765                          0                           0   \n",
       "19766                          0                           0   \n",
       "19767                          0                           0   \n",
       "\n",
       "      Post Operative LOS  RACHS Score Principal Dx (ICD)  \\\n",
       "19763                  2            1              42732   \n",
       "19764                  8            2               7454   \n",
       "19765                  0            1               4644   \n",
       "19766                  0            1              29689   \n",
       "19767                 17            1              V3001   \n",
       "\n",
       "        Principal Dx Code - Title (ICD)  Risk Of Mortality Title  \\\n",
       "19763            42732 - Atrial flutter                        0   \n",
       "19764    7454 - Ventricular sept defect                        0   \n",
       "19765                      4644 - Croup                        1   \n",
       "19766      29689 - Bipolar disorder NEC                        1   \n",
       "19767  V3001 - Single LB-hospital by CD                        1   \n",
       "\n",
       "       Total Ped Expected Mortalities  Total Days In ICU  \n",
       "19763                          0.0000                4.0  \n",
       "19764                          0.0011                6.0  \n",
       "19765                          0.0011                1.0  \n",
       "19766                          0.0000                0.0  \n",
       "19767                          0.0396                NaN  "
      ]
     },
     "execution_count": 5,
     "metadata": {},
     "output_type": "execute_result"
    }
   ],
   "source": [
    "# thyroid demographics with omitted columns\n",
    "thyroid_demographics = pd.read_csv('data/thyroid_demographics_cln.csv')\n",
    "\n",
    "thyroid_demographics.tail()"
   ]
  },
  {
   "cell_type": "code",
   "execution_count": 6,
   "metadata": {},
   "outputs": [
    {
     "data": {
      "text/html": [
       "<div>\n",
       "<style scoped>\n",
       "    .dataframe tbody tr th:only-of-type {\n",
       "        vertical-align: middle;\n",
       "    }\n",
       "\n",
       "    .dataframe tbody tr th {\n",
       "        vertical-align: top;\n",
       "    }\n",
       "\n",
       "    .dataframe thead th {\n",
       "        text-align: right;\n",
       "    }\n",
       "</style>\n",
       "<table border=\"1\" class=\"dataframe\">\n",
       "  <thead>\n",
       "    <tr style=\"text-align: right;\">\n",
       "      <th></th>\n",
       "      <th>Hospital Number</th>\n",
       "      <th>Admit Age In Years</th>\n",
       "      <th>Gender Title</th>\n",
       "      <th>Race - Version 1</th>\n",
       "      <th>Length Of Stay</th>\n",
       "      <th>Total Ped Expected LOS</th>\n",
       "      <th>Discharge Mortality Flag</th>\n",
       "      <th>Mechanical Vent Flag</th>\n",
       "      <th>ECMO Flag</th>\n",
       "      <th>Infection Flag</th>\n",
       "      <th>Medical Complication Flag</th>\n",
       "      <th>Surgical Complication Flag</th>\n",
       "      <th>Post Operative LOS</th>\n",
       "      <th>RACHS Score</th>\n",
       "      <th>Principal Dx (ICD)</th>\n",
       "      <th>Principal Dx Code - Title (ICD)</th>\n",
       "      <th>Risk Of Mortality Title</th>\n",
       "      <th>Total Ped Expected Mortalities</th>\n",
       "      <th>Total Days In ICU</th>\n",
       "    </tr>\n",
       "  </thead>\n",
       "  <tbody>\n",
       "    <tr>\n",
       "      <th>0</th>\n",
       "      <td>2037</td>\n",
       "      <td>0</td>\n",
       "      <td>0</td>\n",
       "      <td>2</td>\n",
       "      <td>7</td>\n",
       "      <td>8.19</td>\n",
       "      <td>0</td>\n",
       "      <td>1</td>\n",
       "      <td>0</td>\n",
       "      <td>0</td>\n",
       "      <td>0</td>\n",
       "      <td>0</td>\n",
       "      <td>6</td>\n",
       "      <td>1</td>\n",
       "      <td>2762</td>\n",
       "      <td>2762 - Acidosis</td>\n",
       "      <td>1</td>\n",
       "      <td>0.0000</td>\n",
       "      <td>4.0</td>\n",
       "    </tr>\n",
       "    <tr>\n",
       "      <th>1</th>\n",
       "      <td>2037</td>\n",
       "      <td>0</td>\n",
       "      <td>1</td>\n",
       "      <td>6</td>\n",
       "      <td>85</td>\n",
       "      <td>94.13</td>\n",
       "      <td>0</td>\n",
       "      <td>1</td>\n",
       "      <td>0</td>\n",
       "      <td>0</td>\n",
       "      <td>0</td>\n",
       "      <td>1</td>\n",
       "      <td>65</td>\n",
       "      <td>6</td>\n",
       "      <td>V3001</td>\n",
       "      <td>V3001 - Single LB-hospital by CD</td>\n",
       "      <td>3</td>\n",
       "      <td>0.0794</td>\n",
       "      <td>61.0</td>\n",
       "    </tr>\n",
       "    <tr>\n",
       "      <th>2</th>\n",
       "      <td>2037</td>\n",
       "      <td>1</td>\n",
       "      <td>0</td>\n",
       "      <td>6</td>\n",
       "      <td>9</td>\n",
       "      <td>3.20</td>\n",
       "      <td>0</td>\n",
       "      <td>0</td>\n",
       "      <td>0</td>\n",
       "      <td>1</td>\n",
       "      <td>0</td>\n",
       "      <td>0</td>\n",
       "      <td>9</td>\n",
       "      <td>1</td>\n",
       "      <td>49391</td>\n",
       "      <td>49391 - Asthma w status asth</td>\n",
       "      <td>1</td>\n",
       "      <td>0.0007</td>\n",
       "      <td>4.0</td>\n",
       "    </tr>\n",
       "    <tr>\n",
       "      <th>4</th>\n",
       "      <td>2037</td>\n",
       "      <td>0</td>\n",
       "      <td>1</td>\n",
       "      <td>6</td>\n",
       "      <td>25</td>\n",
       "      <td>25.32</td>\n",
       "      <td>0</td>\n",
       "      <td>1</td>\n",
       "      <td>0</td>\n",
       "      <td>1</td>\n",
       "      <td>0</td>\n",
       "      <td>0</td>\n",
       "      <td>25</td>\n",
       "      <td>1</td>\n",
       "      <td>769</td>\n",
       "      <td>769 - Resp distress syndrome</td>\n",
       "      <td>3</td>\n",
       "      <td>0.3899</td>\n",
       "      <td>0.0</td>\n",
       "    </tr>\n",
       "    <tr>\n",
       "      <th>5</th>\n",
       "      <td>2037</td>\n",
       "      <td>1</td>\n",
       "      <td>0</td>\n",
       "      <td>6</td>\n",
       "      <td>2</td>\n",
       "      <td>4.85</td>\n",
       "      <td>0</td>\n",
       "      <td>0</td>\n",
       "      <td>0</td>\n",
       "      <td>1</td>\n",
       "      <td>0</td>\n",
       "      <td>0</td>\n",
       "      <td>2</td>\n",
       "      <td>1</td>\n",
       "      <td>4280</td>\n",
       "      <td>4280 - CHF NOS</td>\n",
       "      <td>1</td>\n",
       "      <td>0.0099</td>\n",
       "      <td>0.0</td>\n",
       "    </tr>\n",
       "  </tbody>\n",
       "</table>\n",
       "</div>"
      ],
      "text/plain": [
       "   Hospital Number  Admit Age In Years  Gender Title  Race - Version 1  \\\n",
       "0             2037                   0             0                 2   \n",
       "1             2037                   0             1                 6   \n",
       "2             2037                   1             0                 6   \n",
       "4             2037                   0             1                 6   \n",
       "5             2037                   1             0                 6   \n",
       "\n",
       "  Length Of Stay  Total Ped Expected LOS  Discharge Mortality Flag  \\\n",
       "0              7                    8.19                         0   \n",
       "1             85                   94.13                         0   \n",
       "2              9                    3.20                         0   \n",
       "4             25                   25.32                         0   \n",
       "5              2                    4.85                         0   \n",
       "\n",
       "   Mechanical Vent Flag  ECMO Flag  Infection Flag  Medical Complication Flag  \\\n",
       "0                     1          0               0                          0   \n",
       "1                     1          0               0                          0   \n",
       "2                     0          0               1                          0   \n",
       "4                     1          0               1                          0   \n",
       "5                     0          0               1                          0   \n",
       "\n",
       "   Surgical Complication Flag Post Operative LOS  RACHS Score  \\\n",
       "0                           0                  6            1   \n",
       "1                           1                 65            6   \n",
       "2                           0                  9            1   \n",
       "4                           0                 25            1   \n",
       "5                           0                  2            1   \n",
       "\n",
       "  Principal Dx (ICD)   Principal Dx Code - Title (ICD)  \\\n",
       "0               2762                   2762 - Acidosis   \n",
       "1              V3001  V3001 - Single LB-hospital by CD   \n",
       "2              49391      49391 - Asthma w status asth   \n",
       "4                769      769 - Resp distress syndrome   \n",
       "5               4280                    4280 - CHF NOS   \n",
       "\n",
       "   Risk Of Mortality Title  Total Ped Expected Mortalities  Total Days In ICU  \n",
       "0                        1                          0.0000                4.0  \n",
       "1                        3                          0.0794               61.0  \n",
       "2                        1                          0.0007                4.0  \n",
       "4                        3                          0.3899                0.0  \n",
       "5                        1                          0.0099                0.0  "
      ]
     },
     "execution_count": 6,
     "metadata": {},
     "output_type": "execute_result"
    }
   ],
   "source": [
    "thyroid_demographics = thyroid_demographics.dropna(how='any')\n",
    "thyroid_demographics.head()"
   ]
  },
  {
   "cell_type": "code",
   "execution_count": null,
   "metadata": {},
   "outputs": [],
   "source": []
  },
  {
   "cell_type": "code",
   "execution_count": 7,
   "metadata": {},
   "outputs": [
    {
     "data": {
      "text/html": [
       "<div>\n",
       "<style scoped>\n",
       "    .dataframe tbody tr th:only-of-type {\n",
       "        vertical-align: middle;\n",
       "    }\n",
       "\n",
       "    .dataframe tbody tr th {\n",
       "        vertical-align: top;\n",
       "    }\n",
       "\n",
       "    .dataframe thead th {\n",
       "        text-align: right;\n",
       "    }\n",
       "</style>\n",
       "<table border=\"1\" class=\"dataframe\">\n",
       "  <thead>\n",
       "    <tr style=\"text-align: right;\">\n",
       "      <th></th>\n",
       "      <th>Hospital Number</th>\n",
       "      <th>Admit Age In Years</th>\n",
       "      <th>Gender Title</th>\n",
       "      <th>Race - Version 1</th>\n",
       "      <th>Length Of Stay</th>\n",
       "      <th>Total Ped Expected LOS</th>\n",
       "      <th>Discharge Mortality Flag</th>\n",
       "      <th>Mechanical Vent Flag</th>\n",
       "      <th>ECMO Flag</th>\n",
       "      <th>Infection Flag</th>\n",
       "      <th>Medical Complication Flag</th>\n",
       "      <th>Surgical Complication Flag</th>\n",
       "      <th>Post Operative LOS</th>\n",
       "      <th>RACHS Score</th>\n",
       "      <th>Principal Dx (ICD)</th>\n",
       "      <th>Risk Of Mortality Title</th>\n",
       "      <th>Total Ped Expected Mortalities</th>\n",
       "      <th>Total Days In ICU</th>\n",
       "    </tr>\n",
       "  </thead>\n",
       "  <tbody>\n",
       "    <tr>\n",
       "      <th>0</th>\n",
       "      <td>2037</td>\n",
       "      <td>0</td>\n",
       "      <td>0</td>\n",
       "      <td>2</td>\n",
       "      <td>7</td>\n",
       "      <td>8.19</td>\n",
       "      <td>0</td>\n",
       "      <td>1</td>\n",
       "      <td>0</td>\n",
       "      <td>0</td>\n",
       "      <td>0</td>\n",
       "      <td>0</td>\n",
       "      <td>6</td>\n",
       "      <td>1</td>\n",
       "      <td>2762</td>\n",
       "      <td>1</td>\n",
       "      <td>0.0000</td>\n",
       "      <td>4.0</td>\n",
       "    </tr>\n",
       "    <tr>\n",
       "      <th>1</th>\n",
       "      <td>2037</td>\n",
       "      <td>0</td>\n",
       "      <td>1</td>\n",
       "      <td>6</td>\n",
       "      <td>85</td>\n",
       "      <td>94.13</td>\n",
       "      <td>0</td>\n",
       "      <td>1</td>\n",
       "      <td>0</td>\n",
       "      <td>0</td>\n",
       "      <td>0</td>\n",
       "      <td>1</td>\n",
       "      <td>65</td>\n",
       "      <td>6</td>\n",
       "      <td>V3001</td>\n",
       "      <td>3</td>\n",
       "      <td>0.0794</td>\n",
       "      <td>61.0</td>\n",
       "    </tr>\n",
       "    <tr>\n",
       "      <th>2</th>\n",
       "      <td>2037</td>\n",
       "      <td>1</td>\n",
       "      <td>0</td>\n",
       "      <td>6</td>\n",
       "      <td>9</td>\n",
       "      <td>3.20</td>\n",
       "      <td>0</td>\n",
       "      <td>0</td>\n",
       "      <td>0</td>\n",
       "      <td>1</td>\n",
       "      <td>0</td>\n",
       "      <td>0</td>\n",
       "      <td>9</td>\n",
       "      <td>1</td>\n",
       "      <td>49391</td>\n",
       "      <td>1</td>\n",
       "      <td>0.0007</td>\n",
       "      <td>4.0</td>\n",
       "    </tr>\n",
       "    <tr>\n",
       "      <th>4</th>\n",
       "      <td>2037</td>\n",
       "      <td>0</td>\n",
       "      <td>1</td>\n",
       "      <td>6</td>\n",
       "      <td>25</td>\n",
       "      <td>25.32</td>\n",
       "      <td>0</td>\n",
       "      <td>1</td>\n",
       "      <td>0</td>\n",
       "      <td>1</td>\n",
       "      <td>0</td>\n",
       "      <td>0</td>\n",
       "      <td>25</td>\n",
       "      <td>1</td>\n",
       "      <td>769</td>\n",
       "      <td>3</td>\n",
       "      <td>0.3899</td>\n",
       "      <td>0.0</td>\n",
       "    </tr>\n",
       "    <tr>\n",
       "      <th>5</th>\n",
       "      <td>2037</td>\n",
       "      <td>1</td>\n",
       "      <td>0</td>\n",
       "      <td>6</td>\n",
       "      <td>2</td>\n",
       "      <td>4.85</td>\n",
       "      <td>0</td>\n",
       "      <td>0</td>\n",
       "      <td>0</td>\n",
       "      <td>1</td>\n",
       "      <td>0</td>\n",
       "      <td>0</td>\n",
       "      <td>2</td>\n",
       "      <td>1</td>\n",
       "      <td>4280</td>\n",
       "      <td>1</td>\n",
       "      <td>0.0099</td>\n",
       "      <td>0.0</td>\n",
       "    </tr>\n",
       "  </tbody>\n",
       "</table>\n",
       "</div>"
      ],
      "text/plain": [
       "   Hospital Number  Admit Age In Years  Gender Title  Race - Version 1  \\\n",
       "0             2037                   0             0                 2   \n",
       "1             2037                   0             1                 6   \n",
       "2             2037                   1             0                 6   \n",
       "4             2037                   0             1                 6   \n",
       "5             2037                   1             0                 6   \n",
       "\n",
       "  Length Of Stay  Total Ped Expected LOS  Discharge Mortality Flag  \\\n",
       "0              7                    8.19                         0   \n",
       "1             85                   94.13                         0   \n",
       "2              9                    3.20                         0   \n",
       "4             25                   25.32                         0   \n",
       "5              2                    4.85                         0   \n",
       "\n",
       "   Mechanical Vent Flag  ECMO Flag  Infection Flag  Medical Complication Flag  \\\n",
       "0                     1          0               0                          0   \n",
       "1                     1          0               0                          0   \n",
       "2                     0          0               1                          0   \n",
       "4                     1          0               1                          0   \n",
       "5                     0          0               1                          0   \n",
       "\n",
       "   Surgical Complication Flag Post Operative LOS  RACHS Score  \\\n",
       "0                           0                  6            1   \n",
       "1                           1                 65            6   \n",
       "2                           0                  9            1   \n",
       "4                           0                 25            1   \n",
       "5                           0                  2            1   \n",
       "\n",
       "  Principal Dx (ICD)  Risk Of Mortality Title  Total Ped Expected Mortalities  \\\n",
       "0               2762                        1                          0.0000   \n",
       "1              V3001                        3                          0.0794   \n",
       "2              49391                        1                          0.0007   \n",
       "4                769                        3                          0.3899   \n",
       "5               4280                        1                          0.0099   \n",
       "\n",
       "   Total Days In ICU  \n",
       "0                4.0  \n",
       "1               61.0  \n",
       "2                4.0  \n",
       "4                0.0  \n",
       "5                0.0  "
      ]
     },
     "execution_count": 7,
     "metadata": {},
     "output_type": "execute_result"
    }
   ],
   "source": [
    "thyroid_demographics =thyroid_demographics.drop(\"Principal Dx Code - Title (ICD)\",axis=1)\n",
    "thyroid_demographics.head()"
   ]
  },
  {
   "cell_type": "code",
   "execution_count": 8,
   "metadata": {},
   "outputs": [
    {
     "data": {
      "text/html": [
       "<div>\n",
       "<style scoped>\n",
       "    .dataframe tbody tr th:only-of-type {\n",
       "        vertical-align: middle;\n",
       "    }\n",
       "\n",
       "    .dataframe tbody tr th {\n",
       "        vertical-align: top;\n",
       "    }\n",
       "\n",
       "    .dataframe thead th {\n",
       "        text-align: right;\n",
       "    }\n",
       "</style>\n",
       "<table border=\"1\" class=\"dataframe\">\n",
       "  <thead>\n",
       "    <tr style=\"text-align: right;\">\n",
       "      <th></th>\n",
       "      <th>Hospital Number</th>\n",
       "      <th>Admit Age In Years</th>\n",
       "      <th>Gender Title</th>\n",
       "      <th>Race - Version 1</th>\n",
       "      <th>Length Of Stay</th>\n",
       "      <th>Total Ped Expected LOS</th>\n",
       "      <th>Discharge Mortality Flag</th>\n",
       "      <th>Mechanical Vent Flag</th>\n",
       "      <th>ECMO Flag</th>\n",
       "      <th>Infection Flag</th>\n",
       "      <th>Medical Complication Flag</th>\n",
       "      <th>Surgical Complication Flag</th>\n",
       "      <th>Post Operative LOS</th>\n",
       "      <th>RACHS Score</th>\n",
       "      <th>Risk Of Mortality Title</th>\n",
       "      <th>Total Ped Expected Mortalities</th>\n",
       "      <th>Total Days In ICU</th>\n",
       "    </tr>\n",
       "  </thead>\n",
       "  <tbody>\n",
       "    <tr>\n",
       "      <th>0</th>\n",
       "      <td>2037</td>\n",
       "      <td>0</td>\n",
       "      <td>0</td>\n",
       "      <td>2</td>\n",
       "      <td>7</td>\n",
       "      <td>8.19</td>\n",
       "      <td>0</td>\n",
       "      <td>1</td>\n",
       "      <td>0</td>\n",
       "      <td>0</td>\n",
       "      <td>0</td>\n",
       "      <td>0</td>\n",
       "      <td>6</td>\n",
       "      <td>1</td>\n",
       "      <td>1</td>\n",
       "      <td>0.0000</td>\n",
       "      <td>4.0</td>\n",
       "    </tr>\n",
       "    <tr>\n",
       "      <th>1</th>\n",
       "      <td>2037</td>\n",
       "      <td>0</td>\n",
       "      <td>1</td>\n",
       "      <td>6</td>\n",
       "      <td>85</td>\n",
       "      <td>94.13</td>\n",
       "      <td>0</td>\n",
       "      <td>1</td>\n",
       "      <td>0</td>\n",
       "      <td>0</td>\n",
       "      <td>0</td>\n",
       "      <td>1</td>\n",
       "      <td>65</td>\n",
       "      <td>6</td>\n",
       "      <td>3</td>\n",
       "      <td>0.0794</td>\n",
       "      <td>61.0</td>\n",
       "    </tr>\n",
       "    <tr>\n",
       "      <th>2</th>\n",
       "      <td>2037</td>\n",
       "      <td>1</td>\n",
       "      <td>0</td>\n",
       "      <td>6</td>\n",
       "      <td>9</td>\n",
       "      <td>3.20</td>\n",
       "      <td>0</td>\n",
       "      <td>0</td>\n",
       "      <td>0</td>\n",
       "      <td>1</td>\n",
       "      <td>0</td>\n",
       "      <td>0</td>\n",
       "      <td>9</td>\n",
       "      <td>1</td>\n",
       "      <td>1</td>\n",
       "      <td>0.0007</td>\n",
       "      <td>4.0</td>\n",
       "    </tr>\n",
       "    <tr>\n",
       "      <th>4</th>\n",
       "      <td>2037</td>\n",
       "      <td>0</td>\n",
       "      <td>1</td>\n",
       "      <td>6</td>\n",
       "      <td>25</td>\n",
       "      <td>25.32</td>\n",
       "      <td>0</td>\n",
       "      <td>1</td>\n",
       "      <td>0</td>\n",
       "      <td>1</td>\n",
       "      <td>0</td>\n",
       "      <td>0</td>\n",
       "      <td>25</td>\n",
       "      <td>1</td>\n",
       "      <td>3</td>\n",
       "      <td>0.3899</td>\n",
       "      <td>0.0</td>\n",
       "    </tr>\n",
       "    <tr>\n",
       "      <th>5</th>\n",
       "      <td>2037</td>\n",
       "      <td>1</td>\n",
       "      <td>0</td>\n",
       "      <td>6</td>\n",
       "      <td>2</td>\n",
       "      <td>4.85</td>\n",
       "      <td>0</td>\n",
       "      <td>0</td>\n",
       "      <td>0</td>\n",
       "      <td>1</td>\n",
       "      <td>0</td>\n",
       "      <td>0</td>\n",
       "      <td>2</td>\n",
       "      <td>1</td>\n",
       "      <td>1</td>\n",
       "      <td>0.0099</td>\n",
       "      <td>0.0</td>\n",
       "    </tr>\n",
       "  </tbody>\n",
       "</table>\n",
       "</div>"
      ],
      "text/plain": [
       "   Hospital Number  Admit Age In Years  Gender Title  Race - Version 1  \\\n",
       "0             2037                   0             0                 2   \n",
       "1             2037                   0             1                 6   \n",
       "2             2037                   1             0                 6   \n",
       "4             2037                   0             1                 6   \n",
       "5             2037                   1             0                 6   \n",
       "\n",
       "  Length Of Stay  Total Ped Expected LOS  Discharge Mortality Flag  \\\n",
       "0              7                    8.19                         0   \n",
       "1             85                   94.13                         0   \n",
       "2              9                    3.20                         0   \n",
       "4             25                   25.32                         0   \n",
       "5              2                    4.85                         0   \n",
       "\n",
       "   Mechanical Vent Flag  ECMO Flag  Infection Flag  Medical Complication Flag  \\\n",
       "0                     1          0               0                          0   \n",
       "1                     1          0               0                          0   \n",
       "2                     0          0               1                          0   \n",
       "4                     1          0               1                          0   \n",
       "5                     0          0               1                          0   \n",
       "\n",
       "   Surgical Complication Flag Post Operative LOS  RACHS Score  \\\n",
       "0                           0                  6            1   \n",
       "1                           1                 65            6   \n",
       "2                           0                  9            1   \n",
       "4                           0                 25            1   \n",
       "5                           0                  2            1   \n",
       "\n",
       "   Risk Of Mortality Title  Total Ped Expected Mortalities  Total Days In ICU  \n",
       "0                        1                          0.0000                4.0  \n",
       "1                        3                          0.0794               61.0  \n",
       "2                        1                          0.0007                4.0  \n",
       "4                        3                          0.3899                0.0  \n",
       "5                        1                          0.0099                0.0  "
      ]
     },
     "execution_count": 8,
     "metadata": {},
     "output_type": "execute_result"
    }
   ],
   "source": [
    "thyroid_demographics = thyroid_demographics.drop(\"Principal Dx (ICD)\",axis=1)\n",
    "thyroid_demographics.head()"
   ]
  },
  {
   "cell_type": "code",
   "execution_count": 9,
   "metadata": {},
   "outputs": [],
   "source": [
    "#target = thyroid_demographics[\"Discharge Mortality Flag\"]\n",
    "#target_names = [\"live\",\"die\"]"
   ]
  },
  {
   "cell_type": "code",
   "execution_count": 10,
   "metadata": {},
   "outputs": [],
   "source": [
    "data = thyroid_demographics.drop(\"Discharge Mortality Flag\", axis=1)\n",
    "feature_names = data.columns"
   ]
  },
  {
   "cell_type": "code",
   "execution_count": 11,
   "metadata": {
    "scrolled": true
   },
   "outputs": [
    {
     "data": {
      "text/plain": [
       "Hospital Number                     int64\n",
       "Admit Age In Years                  int64\n",
       "Gender Title                        int64\n",
       "Race - Version 1                    int64\n",
       "Length Of Stay                     object\n",
       "Total Ped Expected LOS            float64\n",
       "Mechanical Vent Flag                int64\n",
       "ECMO Flag                           int64\n",
       "Infection Flag                      int64\n",
       "Medical Complication Flag           int64\n",
       "Surgical Complication Flag          int64\n",
       "Post Operative LOS                 object\n",
       "RACHS Score                         int64\n",
       "Risk Of Mortality Title             int64\n",
       "Total Ped Expected Mortalities    float64\n",
       "Total Days In ICU                 float64\n",
       "dtype: object"
      ]
     },
     "execution_count": 11,
     "metadata": {},
     "output_type": "execute_result"
    }
   ],
   "source": [
    "data.dtypes"
   ]
  },
  {
   "cell_type": "code",
   "execution_count": 12,
   "metadata": {},
   "outputs": [
    {
     "data": {
      "text/plain": [
       "Hospital Number                     int64\n",
       "Admit Age In Years                  int64\n",
       "Gender Title                        int64\n",
       "Race - Version 1                    int64\n",
       "Length Of Stay                    float64\n",
       "Total Ped Expected LOS            float64\n",
       "Mechanical Vent Flag                int64\n",
       "ECMO Flag                           int64\n",
       "Infection Flag                      int64\n",
       "Medical Complication Flag           int64\n",
       "Surgical Complication Flag          int64\n",
       "Post Operative LOS                 object\n",
       "RACHS Score                         int64\n",
       "Risk Of Mortality Title             int64\n",
       "Total Ped Expected Mortalities    float64\n",
       "Total Days In ICU                 float64\n",
       "dtype: object"
      ]
     },
     "execution_count": 12,
     "metadata": {},
     "output_type": "execute_result"
    }
   ],
   "source": [
    "data['Length Of Stay'] = pd.to_numeric(data['Length Of Stay'],errors='coerce')\n",
    "data.dtypes"
   ]
  },
  {
   "cell_type": "code",
   "execution_count": 13,
   "metadata": {},
   "outputs": [
    {
     "data": {
      "text/plain": [
       "Hospital Number                     int64\n",
       "Admit Age In Years                  int64\n",
       "Gender Title                        int64\n",
       "Race - Version 1                    int64\n",
       "Length Of Stay                    float64\n",
       "Total Ped Expected LOS            float64\n",
       "Mechanical Vent Flag                int64\n",
       "ECMO Flag                           int64\n",
       "Infection Flag                      int64\n",
       "Medical Complication Flag           int64\n",
       "Surgical Complication Flag          int64\n",
       "Post Operative LOS                float64\n",
       "RACHS Score                         int64\n",
       "Risk Of Mortality Title             int64\n",
       "Total Ped Expected Mortalities    float64\n",
       "Total Days In ICU                 float64\n",
       "dtype: object"
      ]
     },
     "execution_count": 13,
     "metadata": {},
     "output_type": "execute_result"
    }
   ],
   "source": [
    "data['Post Operative LOS'] = pd.to_numeric(data['Post Operative LOS'],errors='coerce')\n",
    "data.dtypes"
   ]
  },
  {
   "cell_type": "code",
   "execution_count": 14,
   "metadata": {},
   "outputs": [
    {
     "data": {
      "text/html": [
       "<div>\n",
       "<style scoped>\n",
       "    .dataframe tbody tr th:only-of-type {\n",
       "        vertical-align: middle;\n",
       "    }\n",
       "\n",
       "    .dataframe tbody tr th {\n",
       "        vertical-align: top;\n",
       "    }\n",
       "\n",
       "    .dataframe thead th {\n",
       "        text-align: right;\n",
       "    }\n",
       "</style>\n",
       "<table border=\"1\" class=\"dataframe\">\n",
       "  <thead>\n",
       "    <tr style=\"text-align: right;\">\n",
       "      <th></th>\n",
       "      <th>Hospital Number</th>\n",
       "      <th>Admit Age In Years</th>\n",
       "      <th>Gender Title</th>\n",
       "      <th>Race - Version 1</th>\n",
       "      <th>Length Of Stay</th>\n",
       "      <th>Total Ped Expected LOS</th>\n",
       "      <th>Mechanical Vent Flag</th>\n",
       "      <th>ECMO Flag</th>\n",
       "      <th>Infection Flag</th>\n",
       "      <th>Medical Complication Flag</th>\n",
       "      <th>Surgical Complication Flag</th>\n",
       "      <th>Post Operative LOS</th>\n",
       "      <th>RACHS Score</th>\n",
       "      <th>Risk Of Mortality Title</th>\n",
       "      <th>Total Ped Expected Mortalities</th>\n",
       "      <th>Total Days In ICU</th>\n",
       "    </tr>\n",
       "  </thead>\n",
       "  <tbody>\n",
       "    <tr>\n",
       "      <th>0</th>\n",
       "      <td>2037</td>\n",
       "      <td>0</td>\n",
       "      <td>0</td>\n",
       "      <td>2</td>\n",
       "      <td>7.0</td>\n",
       "      <td>8.19</td>\n",
       "      <td>1</td>\n",
       "      <td>0</td>\n",
       "      <td>0</td>\n",
       "      <td>0</td>\n",
       "      <td>0</td>\n",
       "      <td>6.0</td>\n",
       "      <td>1</td>\n",
       "      <td>1</td>\n",
       "      <td>0.0000</td>\n",
       "      <td>4.0</td>\n",
       "    </tr>\n",
       "    <tr>\n",
       "      <th>1</th>\n",
       "      <td>2037</td>\n",
       "      <td>0</td>\n",
       "      <td>1</td>\n",
       "      <td>6</td>\n",
       "      <td>85.0</td>\n",
       "      <td>94.13</td>\n",
       "      <td>1</td>\n",
       "      <td>0</td>\n",
       "      <td>0</td>\n",
       "      <td>0</td>\n",
       "      <td>1</td>\n",
       "      <td>65.0</td>\n",
       "      <td>6</td>\n",
       "      <td>3</td>\n",
       "      <td>0.0794</td>\n",
       "      <td>61.0</td>\n",
       "    </tr>\n",
       "    <tr>\n",
       "      <th>2</th>\n",
       "      <td>2037</td>\n",
       "      <td>1</td>\n",
       "      <td>0</td>\n",
       "      <td>6</td>\n",
       "      <td>9.0</td>\n",
       "      <td>3.20</td>\n",
       "      <td>0</td>\n",
       "      <td>0</td>\n",
       "      <td>1</td>\n",
       "      <td>0</td>\n",
       "      <td>0</td>\n",
       "      <td>9.0</td>\n",
       "      <td>1</td>\n",
       "      <td>1</td>\n",
       "      <td>0.0007</td>\n",
       "      <td>4.0</td>\n",
       "    </tr>\n",
       "    <tr>\n",
       "      <th>4</th>\n",
       "      <td>2037</td>\n",
       "      <td>0</td>\n",
       "      <td>1</td>\n",
       "      <td>6</td>\n",
       "      <td>25.0</td>\n",
       "      <td>25.32</td>\n",
       "      <td>1</td>\n",
       "      <td>0</td>\n",
       "      <td>1</td>\n",
       "      <td>0</td>\n",
       "      <td>0</td>\n",
       "      <td>25.0</td>\n",
       "      <td>1</td>\n",
       "      <td>3</td>\n",
       "      <td>0.3899</td>\n",
       "      <td>0.0</td>\n",
       "    </tr>\n",
       "    <tr>\n",
       "      <th>5</th>\n",
       "      <td>2037</td>\n",
       "      <td>1</td>\n",
       "      <td>0</td>\n",
       "      <td>6</td>\n",
       "      <td>2.0</td>\n",
       "      <td>4.85</td>\n",
       "      <td>0</td>\n",
       "      <td>0</td>\n",
       "      <td>1</td>\n",
       "      <td>0</td>\n",
       "      <td>0</td>\n",
       "      <td>2.0</td>\n",
       "      <td>1</td>\n",
       "      <td>1</td>\n",
       "      <td>0.0099</td>\n",
       "      <td>0.0</td>\n",
       "    </tr>\n",
       "  </tbody>\n",
       "</table>\n",
       "</div>"
      ],
      "text/plain": [
       "   Hospital Number  Admit Age In Years  Gender Title  Race - Version 1  \\\n",
       "0             2037                   0             0                 2   \n",
       "1             2037                   0             1                 6   \n",
       "2             2037                   1             0                 6   \n",
       "4             2037                   0             1                 6   \n",
       "5             2037                   1             0                 6   \n",
       "\n",
       "   Length Of Stay  Total Ped Expected LOS  Mechanical Vent Flag  ECMO Flag  \\\n",
       "0             7.0                    8.19                     1          0   \n",
       "1            85.0                   94.13                     1          0   \n",
       "2             9.0                    3.20                     0          0   \n",
       "4            25.0                   25.32                     1          0   \n",
       "5             2.0                    4.85                     0          0   \n",
       "\n",
       "   Infection Flag  Medical Complication Flag  Surgical Complication Flag  \\\n",
       "0               0                          0                           0   \n",
       "1               0                          0                           1   \n",
       "2               1                          0                           0   \n",
       "4               1                          0                           0   \n",
       "5               1                          0                           0   \n",
       "\n",
       "   Post Operative LOS  RACHS Score  Risk Of Mortality Title  \\\n",
       "0                 6.0            1                        1   \n",
       "1                65.0            6                        3   \n",
       "2                 9.0            1                        1   \n",
       "4                25.0            1                        3   \n",
       "5                 2.0            1                        1   \n",
       "\n",
       "   Total Ped Expected Mortalities  Total Days In ICU  \n",
       "0                          0.0000                4.0  \n",
       "1                          0.0794               61.0  \n",
       "2                          0.0007                4.0  \n",
       "4                          0.3899                0.0  \n",
       "5                          0.0099                0.0  "
      ]
     },
     "execution_count": 14,
     "metadata": {},
     "output_type": "execute_result"
    }
   ],
   "source": [
    "# data =data.drop(\"Principal Dx Code - Title (ICD)\",axis=1)\n",
    "data.head()"
   ]
  },
  {
   "cell_type": "code",
   "execution_count": 15,
   "metadata": {},
   "outputs": [
    {
     "data": {
      "text/plain": [
       "(16564, 16)"
      ]
     },
     "execution_count": 15,
     "metadata": {},
     "output_type": "execute_result"
    }
   ],
   "source": [
    "data.shape"
   ]
  },
  {
   "cell_type": "code",
   "execution_count": 16,
   "metadata": {},
   "outputs": [
    {
     "data": {
      "text/html": [
       "<div>\n",
       "<style scoped>\n",
       "    .dataframe tbody tr th:only-of-type {\n",
       "        vertical-align: middle;\n",
       "    }\n",
       "\n",
       "    .dataframe tbody tr th {\n",
       "        vertical-align: top;\n",
       "    }\n",
       "\n",
       "    .dataframe thead th {\n",
       "        text-align: right;\n",
       "    }\n",
       "</style>\n",
       "<table border=\"1\" class=\"dataframe\">\n",
       "  <thead>\n",
       "    <tr style=\"text-align: right;\">\n",
       "      <th></th>\n",
       "      <th>Admit Age In Years</th>\n",
       "      <th>Gender Title</th>\n",
       "      <th>ECMO Flag</th>\n",
       "      <th>Mechanical Vent Flag</th>\n",
       "      <th>Infection Flag</th>\n",
       "      <th>Medical Complication Flag</th>\n",
       "      <th>Surgical Complication Flag</th>\n",
       "    </tr>\n",
       "  </thead>\n",
       "  <tbody>\n",
       "    <tr>\n",
       "      <th>0</th>\n",
       "      <td>0</td>\n",
       "      <td>0</td>\n",
       "      <td>0</td>\n",
       "      <td>1</td>\n",
       "      <td>0</td>\n",
       "      <td>0</td>\n",
       "      <td>0</td>\n",
       "    </tr>\n",
       "    <tr>\n",
       "      <th>1</th>\n",
       "      <td>0</td>\n",
       "      <td>1</td>\n",
       "      <td>0</td>\n",
       "      <td>1</td>\n",
       "      <td>0</td>\n",
       "      <td>0</td>\n",
       "      <td>1</td>\n",
       "    </tr>\n",
       "    <tr>\n",
       "      <th>2</th>\n",
       "      <td>1</td>\n",
       "      <td>0</td>\n",
       "      <td>0</td>\n",
       "      <td>0</td>\n",
       "      <td>1</td>\n",
       "      <td>0</td>\n",
       "      <td>0</td>\n",
       "    </tr>\n",
       "    <tr>\n",
       "      <th>4</th>\n",
       "      <td>0</td>\n",
       "      <td>1</td>\n",
       "      <td>0</td>\n",
       "      <td>1</td>\n",
       "      <td>1</td>\n",
       "      <td>0</td>\n",
       "      <td>0</td>\n",
       "    </tr>\n",
       "    <tr>\n",
       "      <th>5</th>\n",
       "      <td>1</td>\n",
       "      <td>0</td>\n",
       "      <td>0</td>\n",
       "      <td>0</td>\n",
       "      <td>1</td>\n",
       "      <td>0</td>\n",
       "      <td>0</td>\n",
       "    </tr>\n",
       "  </tbody>\n",
       "</table>\n",
       "</div>"
      ],
      "text/plain": [
       "   Admit Age In Years  Gender Title  ECMO Flag  Mechanical Vent Flag  \\\n",
       "0                   0             0          0                     1   \n",
       "1                   0             1          0                     1   \n",
       "2                   1             0          0                     0   \n",
       "4                   0             1          0                     1   \n",
       "5                   1             0          0                     0   \n",
       "\n",
       "   Infection Flag  Medical Complication Flag  Surgical Complication Flag  \n",
       "0               0                          0                           0  \n",
       "1               0                          0                           1  \n",
       "2               1                          0                           0  \n",
       "4               1                          0                           0  \n",
       "5               1                          0                           0  "
      ]
     },
     "execution_count": 16,
     "metadata": {},
     "output_type": "execute_result"
    }
   ],
   "source": [
    "data2  = data[['Admit Age In Years','Gender Title','ECMO Flag','Mechanical Vent Flag','Infection Flag','Medical Complication Flag','Surgical Complication Flag']]\n",
    "data2.head()"
   ]
  },
  {
   "cell_type": "code",
   "execution_count": 17,
   "metadata": {},
   "outputs": [
    {
     "data": {
      "text/html": [
       "<div>\n",
       "<style scoped>\n",
       "    .dataframe tbody tr th:only-of-type {\n",
       "        vertical-align: middle;\n",
       "    }\n",
       "\n",
       "    .dataframe tbody tr th {\n",
       "        vertical-align: top;\n",
       "    }\n",
       "\n",
       "    .dataframe thead th {\n",
       "        text-align: right;\n",
       "    }\n",
       "</style>\n",
       "<table border=\"1\" class=\"dataframe\">\n",
       "  <thead>\n",
       "    <tr style=\"text-align: right;\">\n",
       "      <th></th>\n",
       "      <th>Hospital Number</th>\n",
       "      <th>Admit Age In Years</th>\n",
       "      <th>Gender Title</th>\n",
       "      <th>Race - Version 1</th>\n",
       "      <th>Length Of Stay</th>\n",
       "      <th>Total Ped Expected LOS</th>\n",
       "      <th>Mechanical Vent Flag</th>\n",
       "      <th>ECMO Flag</th>\n",
       "      <th>Infection Flag</th>\n",
       "      <th>Medical Complication Flag</th>\n",
       "      <th>Surgical Complication Flag</th>\n",
       "      <th>Post Operative LOS</th>\n",
       "      <th>RACHS Score</th>\n",
       "      <th>Risk Of Mortality Title</th>\n",
       "      <th>Total Ped Expected Mortalities</th>\n",
       "      <th>Total Days In ICU</th>\n",
       "    </tr>\n",
       "  </thead>\n",
       "  <tbody>\n",
       "    <tr>\n",
       "      <th>0</th>\n",
       "      <td>2037</td>\n",
       "      <td>0</td>\n",
       "      <td>0</td>\n",
       "      <td>2</td>\n",
       "      <td>7.0</td>\n",
       "      <td>8.19</td>\n",
       "      <td>1</td>\n",
       "      <td>0</td>\n",
       "      <td>0</td>\n",
       "      <td>0</td>\n",
       "      <td>0</td>\n",
       "      <td>6.0</td>\n",
       "      <td>1</td>\n",
       "      <td>1</td>\n",
       "      <td>0.0000</td>\n",
       "      <td>4.0</td>\n",
       "    </tr>\n",
       "    <tr>\n",
       "      <th>1</th>\n",
       "      <td>2037</td>\n",
       "      <td>0</td>\n",
       "      <td>1</td>\n",
       "      <td>6</td>\n",
       "      <td>85.0</td>\n",
       "      <td>94.13</td>\n",
       "      <td>1</td>\n",
       "      <td>0</td>\n",
       "      <td>0</td>\n",
       "      <td>0</td>\n",
       "      <td>1</td>\n",
       "      <td>65.0</td>\n",
       "      <td>6</td>\n",
       "      <td>3</td>\n",
       "      <td>0.0794</td>\n",
       "      <td>61.0</td>\n",
       "    </tr>\n",
       "    <tr>\n",
       "      <th>2</th>\n",
       "      <td>2037</td>\n",
       "      <td>1</td>\n",
       "      <td>0</td>\n",
       "      <td>6</td>\n",
       "      <td>9.0</td>\n",
       "      <td>3.20</td>\n",
       "      <td>0</td>\n",
       "      <td>0</td>\n",
       "      <td>1</td>\n",
       "      <td>0</td>\n",
       "      <td>0</td>\n",
       "      <td>9.0</td>\n",
       "      <td>1</td>\n",
       "      <td>1</td>\n",
       "      <td>0.0007</td>\n",
       "      <td>4.0</td>\n",
       "    </tr>\n",
       "    <tr>\n",
       "      <th>4</th>\n",
       "      <td>2037</td>\n",
       "      <td>0</td>\n",
       "      <td>1</td>\n",
       "      <td>6</td>\n",
       "      <td>25.0</td>\n",
       "      <td>25.32</td>\n",
       "      <td>1</td>\n",
       "      <td>0</td>\n",
       "      <td>1</td>\n",
       "      <td>0</td>\n",
       "      <td>0</td>\n",
       "      <td>25.0</td>\n",
       "      <td>1</td>\n",
       "      <td>3</td>\n",
       "      <td>0.3899</td>\n",
       "      <td>0.0</td>\n",
       "    </tr>\n",
       "    <tr>\n",
       "      <th>5</th>\n",
       "      <td>2037</td>\n",
       "      <td>1</td>\n",
       "      <td>0</td>\n",
       "      <td>6</td>\n",
       "      <td>2.0</td>\n",
       "      <td>4.85</td>\n",
       "      <td>0</td>\n",
       "      <td>0</td>\n",
       "      <td>1</td>\n",
       "      <td>0</td>\n",
       "      <td>0</td>\n",
       "      <td>2.0</td>\n",
       "      <td>1</td>\n",
       "      <td>1</td>\n",
       "      <td>0.0099</td>\n",
       "      <td>0.0</td>\n",
       "    </tr>\n",
       "  </tbody>\n",
       "</table>\n",
       "</div>"
      ],
      "text/plain": [
       "   Hospital Number  Admit Age In Years  Gender Title  Race - Version 1  \\\n",
       "0             2037                   0             0                 2   \n",
       "1             2037                   0             1                 6   \n",
       "2             2037                   1             0                 6   \n",
       "4             2037                   0             1                 6   \n",
       "5             2037                   1             0                 6   \n",
       "\n",
       "   Length Of Stay  Total Ped Expected LOS  Mechanical Vent Flag  ECMO Flag  \\\n",
       "0             7.0                    8.19                     1          0   \n",
       "1            85.0                   94.13                     1          0   \n",
       "2             9.0                    3.20                     0          0   \n",
       "4            25.0                   25.32                     1          0   \n",
       "5             2.0                    4.85                     0          0   \n",
       "\n",
       "   Infection Flag  Medical Complication Flag  Surgical Complication Flag  \\\n",
       "0               0                          0                           0   \n",
       "1               0                          0                           1   \n",
       "2               1                          0                           0   \n",
       "4               1                          0                           0   \n",
       "5               1                          0                           0   \n",
       "\n",
       "   Post Operative LOS  RACHS Score  Risk Of Mortality Title  \\\n",
       "0                 6.0            1                        1   \n",
       "1                65.0            6                        3   \n",
       "2                 9.0            1                        1   \n",
       "4                25.0            1                        3   \n",
       "5                 2.0            1                        1   \n",
       "\n",
       "   Total Ped Expected Mortalities  Total Days In ICU  \n",
       "0                          0.0000                4.0  \n",
       "1                          0.0794               61.0  \n",
       "2                          0.0007                4.0  \n",
       "4                          0.3899                0.0  \n",
       "5                          0.0099                0.0  "
      ]
     },
     "execution_count": 17,
     "metadata": {},
     "output_type": "execute_result"
    }
   ],
   "source": [
    "#data = data.reset_index()\n",
    "data.head()"
   ]
  },
  {
   "cell_type": "code",
   "execution_count": 18,
   "metadata": {},
   "outputs": [
    {
     "data": {
      "text/plain": [
       "0    0\n",
       "1    0\n",
       "2    0\n",
       "4    0\n",
       "5    0\n",
       "Name: Discharge Mortality Flag, dtype: int64"
      ]
     },
     "execution_count": 18,
     "metadata": {},
     "output_type": "execute_result"
    }
   ],
   "source": [
    "target = thyroid_demographics[\"Discharge Mortality Flag\"]\n",
    "target_names = [\"you will live\",\"you will die\"]\n",
    "target.head()"
   ]
  },
  {
   "cell_type": "code",
   "execution_count": 19,
   "metadata": {},
   "outputs": [],
   "source": [
    "from sklearn.model_selection import train_test_split\n",
    "X_train, X_test, y_train, y_test = train_test_split(data2, target, random_state=42)"
   ]
  },
  {
   "cell_type": "code",
   "execution_count": 20,
   "metadata": {},
   "outputs": [
    {
     "data": {
      "text/plain": [
       "SVC(C=1.0, cache_size=200, class_weight=None, coef0=0.0,\n",
       "  decision_function_shape='ovr', degree=3, gamma='auto_deprecated',\n",
       "  kernel='linear', max_iter=-1, probability=False, random_state=None,\n",
       "  shrinking=True, tol=0.001, verbose=False)"
      ]
     },
     "execution_count": 20,
     "metadata": {},
     "output_type": "execute_result"
    }
   ],
   "source": [
    "from sklearn.svm import SVC \n",
    "model = SVC(kernel='linear')\n",
    "model.fit(X_train, y_train)"
   ]
  },
  {
   "cell_type": "code",
   "execution_count": 21,
   "metadata": {},
   "outputs": [
    {
     "data": {
      "text/plain": [
       "array([[ 5.19743344e-06, -1.22372087e-05,  1.99996145e+00,\n",
       "         0.00000000e+00,  8.68606776e-07, -1.81981208e-05,\n",
       "        -4.22369874e-06]])"
      ]
     },
     "execution_count": 21,
     "metadata": {},
     "output_type": "execute_result"
    }
   ],
   "source": [
    "#Find Scaler for coef_\n",
    "model.coef_"
   ]
  },
  {
   "cell_type": "code",
   "execution_count": 22,
   "metadata": {},
   "outputs": [],
   "source": [
    "feature_names = data2.columns"
   ]
  },
  {
   "cell_type": "code",
   "execution_count": 23,
   "metadata": {},
   "outputs": [
    {
     "data": {
      "text/plain": [
       "0.8821540690654431"
      ]
     },
     "execution_count": 23,
     "metadata": {},
     "output_type": "execute_result"
    }
   ],
   "source": [
    "train_svm_score= model.score(X_train,y_train)\n",
    "train_svm_score"
   ]
  },
  {
   "cell_type": "code",
   "execution_count": 24,
   "metadata": {},
   "outputs": [
    {
     "data": {
      "text/plain": [
       "0.8881912581502053"
      ]
     },
     "execution_count": 24,
     "metadata": {},
     "output_type": "execute_result"
    }
   ],
   "source": [
    "svm_score= model.score(X_test,y_test)\n",
    "svm_score"
   ]
  },
  {
   "cell_type": "code",
   "execution_count": 25,
   "metadata": {},
   "outputs": [
    {
     "name": "stdout",
     "output_type": "stream",
     "text": [
      "Test Acc: 0.888\n"
     ]
    }
   ],
   "source": [
    "print('Test Acc: %.3f' % model.score(X_test,y_test))"
   ]
  },
  {
   "cell_type": "code",
   "execution_count": 26,
   "metadata": {},
   "outputs": [],
   "source": [
    "#Support Vector Machines are based on the concept of decision planes that define decision boundaries.\n",
    "#A decision plane is one that separates between a set of objects having different class memberships.\n",
    "#In our model, we use Admit Age In Years,Gender Title,ECMO Flag,Mechanical Vent Flag,Infection Flag,Medical Complication Flag, and the Surgical Complication Flag as our input variables\n",
    "#to determine whether someone will live or die. "
   ]
  },
  {
   "cell_type": "code",
   "execution_count": 27,
   "metadata": {
    "scrolled": true
   },
   "outputs": [
    {
     "name": "stdout",
     "output_type": "stream",
     "text": [
      "               precision    recall  f1-score   support\n",
      "\n",
      "you will live       0.92      0.96      0.94      3652\n",
      " you will die       0.54      0.35      0.43       489\n",
      "\n",
      "    micro avg       0.89      0.89      0.89      4141\n",
      "    macro avg       0.73      0.66      0.68      4141\n",
      " weighted avg       0.87      0.89      0.88      4141\n",
      "\n"
     ]
    }
   ],
   "source": [
    "from sklearn.metrics import classification_report\n",
    "predictions= model.predict(X_test)\n",
    "print(classification_report(y_test, predictions, target_names=target_names))"
   ]
  },
  {
   "cell_type": "code",
   "execution_count": null,
   "metadata": {},
   "outputs": [],
   "source": []
  },
  {
   "cell_type": "code",
   "execution_count": 28,
   "metadata": {},
   "outputs": [
    {
     "data": {
      "text/html": [
       "<div>\n",
       "<style scoped>\n",
       "    .dataframe tbody tr th:only-of-type {\n",
       "        vertical-align: middle;\n",
       "    }\n",
       "\n",
       "    .dataframe tbody tr th {\n",
       "        vertical-align: top;\n",
       "    }\n",
       "\n",
       "    .dataframe thead th {\n",
       "        text-align: right;\n",
       "    }\n",
       "</style>\n",
       "<table border=\"1\" class=\"dataframe\">\n",
       "  <thead>\n",
       "    <tr style=\"text-align: right;\">\n",
       "      <th></th>\n",
       "      <th>Hospital Number</th>\n",
       "      <th>Admit Age In Years</th>\n",
       "      <th>Gender Title</th>\n",
       "      <th>Race - Version 1</th>\n",
       "      <th>Length Of Stay</th>\n",
       "      <th>Total Ped Expected LOS</th>\n",
       "      <th>Mechanical Vent Flag</th>\n",
       "      <th>ECMO Flag</th>\n",
       "      <th>Infection Flag</th>\n",
       "      <th>Medical Complication Flag</th>\n",
       "      <th>Surgical Complication Flag</th>\n",
       "      <th>Post Operative LOS</th>\n",
       "      <th>RACHS Score</th>\n",
       "      <th>Risk Of Mortality Title</th>\n",
       "      <th>Total Ped Expected Mortalities</th>\n",
       "      <th>Total Days In ICU</th>\n",
       "    </tr>\n",
       "  </thead>\n",
       "  <tbody>\n",
       "    <tr>\n",
       "      <th>0</th>\n",
       "      <td>2037</td>\n",
       "      <td>0</td>\n",
       "      <td>0</td>\n",
       "      <td>2</td>\n",
       "      <td>7.0</td>\n",
       "      <td>8.19</td>\n",
       "      <td>1</td>\n",
       "      <td>0</td>\n",
       "      <td>0</td>\n",
       "      <td>0</td>\n",
       "      <td>0</td>\n",
       "      <td>6.0</td>\n",
       "      <td>1</td>\n",
       "      <td>1</td>\n",
       "      <td>0.0000</td>\n",
       "      <td>4.0</td>\n",
       "    </tr>\n",
       "    <tr>\n",
       "      <th>1</th>\n",
       "      <td>2037</td>\n",
       "      <td>0</td>\n",
       "      <td>1</td>\n",
       "      <td>6</td>\n",
       "      <td>85.0</td>\n",
       "      <td>94.13</td>\n",
       "      <td>1</td>\n",
       "      <td>0</td>\n",
       "      <td>0</td>\n",
       "      <td>0</td>\n",
       "      <td>1</td>\n",
       "      <td>65.0</td>\n",
       "      <td>6</td>\n",
       "      <td>3</td>\n",
       "      <td>0.0794</td>\n",
       "      <td>61.0</td>\n",
       "    </tr>\n",
       "    <tr>\n",
       "      <th>2</th>\n",
       "      <td>2037</td>\n",
       "      <td>1</td>\n",
       "      <td>0</td>\n",
       "      <td>6</td>\n",
       "      <td>9.0</td>\n",
       "      <td>3.20</td>\n",
       "      <td>0</td>\n",
       "      <td>0</td>\n",
       "      <td>1</td>\n",
       "      <td>0</td>\n",
       "      <td>0</td>\n",
       "      <td>9.0</td>\n",
       "      <td>1</td>\n",
       "      <td>1</td>\n",
       "      <td>0.0007</td>\n",
       "      <td>4.0</td>\n",
       "    </tr>\n",
       "    <tr>\n",
       "      <th>4</th>\n",
       "      <td>2037</td>\n",
       "      <td>0</td>\n",
       "      <td>1</td>\n",
       "      <td>6</td>\n",
       "      <td>25.0</td>\n",
       "      <td>25.32</td>\n",
       "      <td>1</td>\n",
       "      <td>0</td>\n",
       "      <td>1</td>\n",
       "      <td>0</td>\n",
       "      <td>0</td>\n",
       "      <td>25.0</td>\n",
       "      <td>1</td>\n",
       "      <td>3</td>\n",
       "      <td>0.3899</td>\n",
       "      <td>0.0</td>\n",
       "    </tr>\n",
       "    <tr>\n",
       "      <th>5</th>\n",
       "      <td>2037</td>\n",
       "      <td>1</td>\n",
       "      <td>0</td>\n",
       "      <td>6</td>\n",
       "      <td>2.0</td>\n",
       "      <td>4.85</td>\n",
       "      <td>0</td>\n",
       "      <td>0</td>\n",
       "      <td>1</td>\n",
       "      <td>0</td>\n",
       "      <td>0</td>\n",
       "      <td>2.0</td>\n",
       "      <td>1</td>\n",
       "      <td>1</td>\n",
       "      <td>0.0099</td>\n",
       "      <td>0.0</td>\n",
       "    </tr>\n",
       "  </tbody>\n",
       "</table>\n",
       "</div>"
      ],
      "text/plain": [
       "   Hospital Number  Admit Age In Years  Gender Title  Race - Version 1  \\\n",
       "0             2037                   0             0                 2   \n",
       "1             2037                   0             1                 6   \n",
       "2             2037                   1             0                 6   \n",
       "4             2037                   0             1                 6   \n",
       "5             2037                   1             0                 6   \n",
       "\n",
       "   Length Of Stay  Total Ped Expected LOS  Mechanical Vent Flag  ECMO Flag  \\\n",
       "0             7.0                    8.19                     1          0   \n",
       "1            85.0                   94.13                     1          0   \n",
       "2             9.0                    3.20                     0          0   \n",
       "4            25.0                   25.32                     1          0   \n",
       "5             2.0                    4.85                     0          0   \n",
       "\n",
       "   Infection Flag  Medical Complication Flag  Surgical Complication Flag  \\\n",
       "0               0                          0                           0   \n",
       "1               0                          0                           1   \n",
       "2               1                          0                           0   \n",
       "4               1                          0                           0   \n",
       "5               1                          0                           0   \n",
       "\n",
       "   Post Operative LOS  RACHS Score  Risk Of Mortality Title  \\\n",
       "0                 6.0            1                        1   \n",
       "1                65.0            6                        3   \n",
       "2                 9.0            1                        1   \n",
       "4                25.0            1                        3   \n",
       "5                 2.0            1                        1   \n",
       "\n",
       "   Total Ped Expected Mortalities  Total Days In ICU  \n",
       "0                          0.0000                4.0  \n",
       "1                          0.0794               61.0  \n",
       "2                          0.0007                4.0  \n",
       "4                          0.3899                0.0  \n",
       "5                          0.0099                0.0  "
      ]
     },
     "execution_count": 28,
     "metadata": {},
     "output_type": "execute_result"
    }
   ],
   "source": [
    "data.head()"
   ]
  },
  {
   "cell_type": "code",
   "execution_count": 29,
   "metadata": {},
   "outputs": [
    {
     "data": {
      "text/html": [
       "<div>\n",
       "<style scoped>\n",
       "    .dataframe tbody tr th:only-of-type {\n",
       "        vertical-align: middle;\n",
       "    }\n",
       "\n",
       "    .dataframe tbody tr th {\n",
       "        vertical-align: top;\n",
       "    }\n",
       "\n",
       "    .dataframe thead th {\n",
       "        text-align: right;\n",
       "    }\n",
       "</style>\n",
       "<table border=\"1\" class=\"dataframe\">\n",
       "  <thead>\n",
       "    <tr style=\"text-align: right;\">\n",
       "      <th></th>\n",
       "      <th>Admit Age In Years</th>\n",
       "      <th>Gender Title</th>\n",
       "      <th>ECMO Flag</th>\n",
       "      <th>Mechanical Vent Flag</th>\n",
       "      <th>Infection Flag</th>\n",
       "      <th>Medical Complication Flag</th>\n",
       "    </tr>\n",
       "  </thead>\n",
       "  <tbody>\n",
       "    <tr>\n",
       "      <th>0</th>\n",
       "      <td>0</td>\n",
       "      <td>0</td>\n",
       "      <td>0</td>\n",
       "      <td>1</td>\n",
       "      <td>0</td>\n",
       "      <td>0</td>\n",
       "    </tr>\n",
       "    <tr>\n",
       "      <th>1</th>\n",
       "      <td>0</td>\n",
       "      <td>1</td>\n",
       "      <td>0</td>\n",
       "      <td>1</td>\n",
       "      <td>0</td>\n",
       "      <td>0</td>\n",
       "    </tr>\n",
       "    <tr>\n",
       "      <th>2</th>\n",
       "      <td>1</td>\n",
       "      <td>0</td>\n",
       "      <td>0</td>\n",
       "      <td>0</td>\n",
       "      <td>1</td>\n",
       "      <td>0</td>\n",
       "    </tr>\n",
       "    <tr>\n",
       "      <th>4</th>\n",
       "      <td>0</td>\n",
       "      <td>1</td>\n",
       "      <td>0</td>\n",
       "      <td>1</td>\n",
       "      <td>1</td>\n",
       "      <td>0</td>\n",
       "    </tr>\n",
       "    <tr>\n",
       "      <th>5</th>\n",
       "      <td>1</td>\n",
       "      <td>0</td>\n",
       "      <td>0</td>\n",
       "      <td>0</td>\n",
       "      <td>1</td>\n",
       "      <td>0</td>\n",
       "    </tr>\n",
       "  </tbody>\n",
       "</table>\n",
       "</div>"
      ],
      "text/plain": [
       "   Admit Age In Years  Gender Title  ECMO Flag  Mechanical Vent Flag  \\\n",
       "0                   0             0          0                     1   \n",
       "1                   0             1          0                     1   \n",
       "2                   1             0          0                     0   \n",
       "4                   0             1          0                     1   \n",
       "5                   1             0          0                     0   \n",
       "\n",
       "   Infection Flag  Medical Complication Flag  \n",
       "0               0                          0  \n",
       "1               0                          0  \n",
       "2               1                          0  \n",
       "4               1                          0  \n",
       "5               1                          0  "
      ]
     },
     "execution_count": 29,
     "metadata": {},
     "output_type": "execute_result"
    }
   ],
   "source": [
    "data3  = data[['Admit Age In Years','Gender Title','ECMO Flag','Mechanical Vent Flag','Infection Flag','Medical Complication Flag']]\n",
    "data3.head()"
   ]
  },
  {
   "cell_type": "code",
   "execution_count": 30,
   "metadata": {},
   "outputs": [],
   "source": [
    "from sklearn import tree\n",
    "import os"
   ]
  },
  {
   "cell_type": "code",
   "execution_count": 31,
   "metadata": {},
   "outputs": [],
   "source": [
    "\n",
    "X_train, X_test, y_train, y_test = train_test_split(data2, target, random_state=42)"
   ]
  },
  {
   "cell_type": "code",
   "execution_count": 32,
   "metadata": {},
   "outputs": [],
   "source": [
    "feature_names = data2.columns"
   ]
  },
  {
   "cell_type": "code",
   "execution_count": 33,
   "metadata": {},
   "outputs": [],
   "source": [
    "clf = tree.DecisionTreeClassifier(min_samples_leaf=50)\n",
    "clf = clf.fit(X_train, y_train)"
   ]
  },
  {
   "cell_type": "code",
   "execution_count": 34,
   "metadata": {},
   "outputs": [
    {
     "ename": "ModuleNotFoundError",
     "evalue": "No module named 'graphviz'",
     "output_type": "error",
     "traceback": [
      "\u001b[0;31m---------------------------------------------------------------------------\u001b[0m",
      "\u001b[0;31mModuleNotFoundError\u001b[0m                       Traceback (most recent call last)",
      "\u001b[0;32m<ipython-input-34-0f142bdd376a>\u001b[0m in \u001b[0;36m<module>\u001b[0;34m\u001b[0m\n\u001b[0;32m----> 1\u001b[0;31m \u001b[0;32mimport\u001b[0m \u001b[0mgraphviz\u001b[0m\u001b[0;34m\u001b[0m\u001b[0;34m\u001b[0m\u001b[0m\n\u001b[0m\u001b[1;32m      2\u001b[0m \u001b[0;34m\u001b[0m\u001b[0m\n\u001b[1;32m      3\u001b[0m dot_data=tree.export_graphviz(\n\u001b[1;32m      4\u001b[0m clf, out_file = None, feature_names =feature_names,class_names=target_names,filled=True, rounded=True)\n",
      "\u001b[0;31mModuleNotFoundError\u001b[0m: No module named 'graphviz'"
     ]
    }
   ],
   "source": [
    "import graphviz\n",
    "\n",
    "dot_data=tree.export_graphviz(\n",
    "clf, out_file = None, feature_names =feature_names,class_names=target_names,filled=True, rounded=True)"
   ]
  },
  {
   "cell_type": "code",
   "execution_count": null,
   "metadata": {},
   "outputs": [],
   "source": [
    "import pydotplus\n",
    "graph = pydotplus.graph_from_dot_data(dot_data)\n",
    "graph.write_png('test.png')\n",
    "graph= graphviz.Source(dot_data)\n",
    "graph"
   ]
  },
  {
   "cell_type": "code",
   "execution_count": 35,
   "metadata": {},
   "outputs": [
    {
     "data": {
      "text/plain": [
       "Index(['Admit Age In Years', 'Gender Title', 'ECMO Flag',\n",
       "       'Mechanical Vent Flag', 'Infection Flag', 'Medical Complication Flag',\n",
       "       'Surgical Complication Flag'],\n",
       "      dtype='object')"
      ]
     },
     "execution_count": 35,
     "metadata": {},
     "output_type": "execute_result"
    }
   ],
   "source": [
    "feature_names"
   ]
  },
  {
   "cell_type": "code",
   "execution_count": 36,
   "metadata": {},
   "outputs": [],
   "source": [
    "from sklearn.ensemble import RandomForestClassifier\n",
    "rf = RandomForestClassifier(n_estimators=20000)\n",
    "rf= rf.fit(X_train,y_train)\n",
    "rf_score=rf.score(X_test, y_test)"
   ]
  },
  {
   "cell_type": "code",
   "execution_count": 37,
   "metadata": {},
   "outputs": [
    {
     "data": {
      "text/plain": [
       "0.8886742332769862"
      ]
     },
     "execution_count": 37,
     "metadata": {},
     "output_type": "execute_result"
    }
   ],
   "source": [
    "from sklearn.ensemble import RandomForestClassifier\n",
    "rf = RandomForestClassifier(n_estimators=20)\n",
    "rf= rf.fit(X_train,y_train)\n",
    "rf.score(X_test, y_test)"
   ]
  },
  {
   "cell_type": "code",
   "execution_count": 38,
   "metadata": {},
   "outputs": [],
   "source": [
    "df = pd.DataFrame(sorted(zip(feature_names,rf.feature_importances_), reverse=True))"
   ]
  },
  {
   "cell_type": "code",
   "execution_count": 39,
   "metadata": {},
   "outputs": [
    {
     "data": {
      "text/html": [
       "<div>\n",
       "<style scoped>\n",
       "    .dataframe tbody tr th:only-of-type {\n",
       "        vertical-align: middle;\n",
       "    }\n",
       "\n",
       "    .dataframe tbody tr th {\n",
       "        vertical-align: top;\n",
       "    }\n",
       "\n",
       "    .dataframe thead th {\n",
       "        text-align: right;\n",
       "    }\n",
       "</style>\n",
       "<table border=\"1\" class=\"dataframe\">\n",
       "  <thead>\n",
       "    <tr style=\"text-align: right;\">\n",
       "      <th></th>\n",
       "      <th>0</th>\n",
       "      <th>1</th>\n",
       "    </tr>\n",
       "  </thead>\n",
       "  <tbody>\n",
       "    <tr>\n",
       "      <th>0</th>\n",
       "      <td>Surgical Complication Flag</td>\n",
       "      <td>0.044347</td>\n",
       "    </tr>\n",
       "    <tr>\n",
       "      <th>1</th>\n",
       "      <td>Medical Complication Flag</td>\n",
       "      <td>0.011081</td>\n",
       "    </tr>\n",
       "    <tr>\n",
       "      <th>2</th>\n",
       "      <td>Mechanical Vent Flag</td>\n",
       "      <td>0.179138</td>\n",
       "    </tr>\n",
       "    <tr>\n",
       "      <th>3</th>\n",
       "      <td>Infection Flag</td>\n",
       "      <td>0.073513</td>\n",
       "    </tr>\n",
       "    <tr>\n",
       "      <th>4</th>\n",
       "      <td>Gender Title</td>\n",
       "      <td>0.013578</td>\n",
       "    </tr>\n",
       "    <tr>\n",
       "      <th>5</th>\n",
       "      <td>ECMO Flag</td>\n",
       "      <td>0.483938</td>\n",
       "    </tr>\n",
       "    <tr>\n",
       "      <th>6</th>\n",
       "      <td>Admit Age In Years</td>\n",
       "      <td>0.194406</td>\n",
       "    </tr>\n",
       "  </tbody>\n",
       "</table>\n",
       "</div>"
      ],
      "text/plain": [
       "                            0         1\n",
       "0  Surgical Complication Flag  0.044347\n",
       "1   Medical Complication Flag  0.011081\n",
       "2        Mechanical Vent Flag  0.179138\n",
       "3              Infection Flag  0.073513\n",
       "4                Gender Title  0.013578\n",
       "5                   ECMO Flag  0.483938\n",
       "6          Admit Age In Years  0.194406"
      ]
     },
     "execution_count": 39,
     "metadata": {},
     "output_type": "execute_result"
    }
   ],
   "source": [
    "df"
   ]
  },
  {
   "cell_type": "code",
   "execution_count": 40,
   "metadata": {},
   "outputs": [],
   "source": [
    "feature_df = df.rename(columns={0: 'Feature Names', 1: 'Importance'})\n"
   ]
  },
  {
   "cell_type": "code",
   "execution_count": 41,
   "metadata": {},
   "outputs": [
    {
     "data": {
      "text/html": [
       "<div>\n",
       "<style scoped>\n",
       "    .dataframe tbody tr th:only-of-type {\n",
       "        vertical-align: middle;\n",
       "    }\n",
       "\n",
       "    .dataframe tbody tr th {\n",
       "        vertical-align: top;\n",
       "    }\n",
       "\n",
       "    .dataframe thead th {\n",
       "        text-align: right;\n",
       "    }\n",
       "</style>\n",
       "<table border=\"1\" class=\"dataframe\">\n",
       "  <thead>\n",
       "    <tr style=\"text-align: right;\">\n",
       "      <th></th>\n",
       "      <th>Feature Names</th>\n",
       "      <th>Importance</th>\n",
       "    </tr>\n",
       "  </thead>\n",
       "  <tbody>\n",
       "    <tr>\n",
       "      <th>0</th>\n",
       "      <td>Surgical Complication Flag</td>\n",
       "      <td>0.044347</td>\n",
       "    </tr>\n",
       "    <tr>\n",
       "      <th>1</th>\n",
       "      <td>Medical Complication Flag</td>\n",
       "      <td>0.011081</td>\n",
       "    </tr>\n",
       "    <tr>\n",
       "      <th>2</th>\n",
       "      <td>Mechanical Vent Flag</td>\n",
       "      <td>0.179138</td>\n",
       "    </tr>\n",
       "    <tr>\n",
       "      <th>3</th>\n",
       "      <td>Infection Flag</td>\n",
       "      <td>0.073513</td>\n",
       "    </tr>\n",
       "    <tr>\n",
       "      <th>4</th>\n",
       "      <td>Gender Title</td>\n",
       "      <td>0.013578</td>\n",
       "    </tr>\n",
       "    <tr>\n",
       "      <th>5</th>\n",
       "      <td>ECMO Flag</td>\n",
       "      <td>0.483938</td>\n",
       "    </tr>\n",
       "    <tr>\n",
       "      <th>6</th>\n",
       "      <td>Admit Age In Years</td>\n",
       "      <td>0.194406</td>\n",
       "    </tr>\n",
       "  </tbody>\n",
       "</table>\n",
       "</div>"
      ],
      "text/plain": [
       "                Feature Names  Importance\n",
       "0  Surgical Complication Flag    0.044347\n",
       "1   Medical Complication Flag    0.011081\n",
       "2        Mechanical Vent Flag    0.179138\n",
       "3              Infection Flag    0.073513\n",
       "4                Gender Title    0.013578\n",
       "5                   ECMO Flag    0.483938\n",
       "6          Admit Age In Years    0.194406"
      ]
     },
     "execution_count": 41,
     "metadata": {},
     "output_type": "execute_result"
    }
   ],
   "source": [
    "feature_df"
   ]
  },
  {
   "cell_type": "code",
   "execution_count": 42,
   "metadata": {},
   "outputs": [
    {
     "data": {
      "text/plain": [
       "[0.04434724158612182,\n",
       " 0.011080902127766648,\n",
       " 0.17913769064260485,\n",
       " 0.0735131216713733,\n",
       " 0.013577537550690036,\n",
       " 0.48393793563555765,\n",
       " 0.19440557078588572]"
      ]
     },
     "execution_count": 42,
     "metadata": {},
     "output_type": "execute_result"
    }
   ],
   "source": [
    "names = list(feature_df['Feature Names'])\n",
    "values = list(feature_df['Importance'])\n",
    "values"
   ]
  },
  {
   "cell_type": "code",
   "execution_count": 43,
   "metadata": {},
   "outputs": [
    {
     "data": {
      "image/png": "[encoded data removed]",
      "text/plain": [
       "<Figure size 432x288 with 1 Axes>"
      ]
     },
     "metadata": {
      "needs_background": "light"
     },
     "output_type": "display_data"
    },
    {
     "data": {
      "text/plain": [
       "<Figure size 504x576 with 0 Axes>"
      ]
     },
     "metadata": {},
     "output_type": "display_data"
    },
    {
     "data": {
      "text/plain": [
       "<Figure size 504x576 with 0 Axes>"
      ]
     },
     "execution_count": 43,
     "metadata": {},
     "output_type": "execute_result"
    }
   ],
   "source": [
    "y_pos = np.arange(len(names))\n",
    "plt.xticks(y_pos, names)\n",
    "plt.ylabel('Importance',fontsize=15)\n",
    "plt.title('Feature Importance',fontsize=20)\n",
    "plt.bar(names,values, color='green', alpha=0.5, align=\"center\") \n",
    "plt.setp(plt.gca().get_xticklabels(), rotation=45, horizontalalignment='right')\n",
    "plt.figure(figsize=(7,8))\n",
    "fig1 = plt.gcf()\n",
    "plt.show()\n",
    "# plt.draw()\n",
    "fig1.savefig(\"pics/features-barchart.png\", bbox_inches=None)\n",
    "# plt.tight_layout()\n",
    "\n",
    "fig1"
   ]
  },
  {
   "cell_type": "code",
   "execution_count": null,
   "metadata": {},
   "outputs": [],
   "source": []
  },
  {
   "cell_type": "code",
   "execution_count": 44,
   "metadata": {},
   "outputs": [
    {
     "data": {
      "text/plain": [
       "LogisticRegression(C=1.0, class_weight=None, dual=False, fit_intercept=True,\n",
       "          intercept_scaling=1, max_iter=100, multi_class='warn',\n",
       "          n_jobs=None, penalty='l2', random_state=None, solver='warn',\n",
       "          tol=0.0001, verbose=0, warm_start=False)"
      ]
     },
     "execution_count": 44,
     "metadata": {},
     "output_type": "execute_result"
    }
   ],
   "source": [
    "from sklearn.linear_model import LogisticRegression\n",
    "classifier = LogisticRegression()\n",
    "classifier"
   ]
  },
  {
   "cell_type": "code",
   "execution_count": 45,
   "metadata": {},
   "outputs": [
    {
     "name": "stderr",
     "output_type": "stream",
     "text": [
      "/Users/HeatherTrinh/anaconda3/lib/python3.7/site-packages/sklearn/linear_model/logistic.py:433: FutureWarning: Default solver will be changed to 'lbfgs' in 0.22. Specify a solver to silence this warning.\n",
      "  FutureWarning)\n"
     ]
    },
    {
     "data": {
      "text/plain": [
       "LogisticRegression(C=1.0, class_weight=None, dual=False, fit_intercept=True,\n",
       "          intercept_scaling=1, max_iter=100, multi_class='warn',\n",
       "          n_jobs=None, penalty='l2', random_state=None, solver='warn',\n",
       "          tol=0.0001, verbose=0, warm_start=False)"
      ]
     },
     "execution_count": 45,
     "metadata": {},
     "output_type": "execute_result"
    }
   ],
   "source": [
    "classifier.fit(X_train,y_train)"
   ]
  },
  {
   "cell_type": "code",
   "execution_count": 46,
   "metadata": {},
   "outputs": [],
   "source": [
    "lr_trainedscore=classifier.score(X_train, y_train)\n",
    "\n"
   ]
  },
  {
   "cell_type": "code",
   "execution_count": 47,
   "metadata": {},
   "outputs": [],
   "source": [
    "lr_testscore=classifier.score(X_test, y_test)"
   ]
  },
  {
   "cell_type": "code",
   "execution_count": 48,
   "metadata": {},
   "outputs": [],
   "source": [
    "predictions= classifier.predict(X_test)"
   ]
  },
  {
   "cell_type": "code",
   "execution_count": 49,
   "metadata": {},
   "outputs": [
    {
     "data": {
      "text/plain": [
       "array([0, 0, 0, 0, 0, 0, 0, 0, 0, 0])"
      ]
     },
     "execution_count": 49,
     "metadata": {},
     "output_type": "execute_result"
    }
   ],
   "source": [
    "predictions[:10]\n"
   ]
  },
  {
   "cell_type": "code",
   "execution_count": 50,
   "metadata": {},
   "outputs": [
    {
     "name": "stdout",
     "output_type": "stream",
     "text": [
      "[0 0 0 0 0 0 0 0 0 0]\n",
      "[0, 0, 0, 0, 0, 1, 0, 0, 0, 0]\n"
     ]
    }
   ],
   "source": [
    "print(predictions[:10])\n",
    "print(y_test[:10].tolist())"
   ]
  },
  {
   "cell_type": "code",
   "execution_count": 51,
   "metadata": {},
   "outputs": [
    {
     "data": {
      "text/html": [
       "<div>\n",
       "<style scoped>\n",
       "    .dataframe tbody tr th:only-of-type {\n",
       "        vertical-align: middle;\n",
       "    }\n",
       "\n",
       "    .dataframe tbody tr th {\n",
       "        vertical-align: top;\n",
       "    }\n",
       "\n",
       "    .dataframe thead th {\n",
       "        text-align: right;\n",
       "    }\n",
       "</style>\n",
       "<table border=\"1\" class=\"dataframe\">\n",
       "  <thead>\n",
       "    <tr style=\"text-align: right;\">\n",
       "      <th></th>\n",
       "      <th>Prediction</th>\n",
       "      <th>Actual</th>\n",
       "    </tr>\n",
       "  </thead>\n",
       "  <tbody>\n",
       "    <tr>\n",
       "      <th>0</th>\n",
       "      <td>0</td>\n",
       "      <td>0</td>\n",
       "    </tr>\n",
       "    <tr>\n",
       "      <th>1</th>\n",
       "      <td>0</td>\n",
       "      <td>0</td>\n",
       "    </tr>\n",
       "    <tr>\n",
       "      <th>2</th>\n",
       "      <td>0</td>\n",
       "      <td>0</td>\n",
       "    </tr>\n",
       "    <tr>\n",
       "      <th>3</th>\n",
       "      <td>0</td>\n",
       "      <td>0</td>\n",
       "    </tr>\n",
       "    <tr>\n",
       "      <th>4</th>\n",
       "      <td>0</td>\n",
       "      <td>0</td>\n",
       "    </tr>\n",
       "    <tr>\n",
       "      <th>5</th>\n",
       "      <td>0</td>\n",
       "      <td>1</td>\n",
       "    </tr>\n",
       "    <tr>\n",
       "      <th>6</th>\n",
       "      <td>0</td>\n",
       "      <td>0</td>\n",
       "    </tr>\n",
       "    <tr>\n",
       "      <th>7</th>\n",
       "      <td>0</td>\n",
       "      <td>0</td>\n",
       "    </tr>\n",
       "    <tr>\n",
       "      <th>8</th>\n",
       "      <td>0</td>\n",
       "      <td>0</td>\n",
       "    </tr>\n",
       "    <tr>\n",
       "      <th>9</th>\n",
       "      <td>0</td>\n",
       "      <td>0</td>\n",
       "    </tr>\n",
       "    <tr>\n",
       "      <th>10</th>\n",
       "      <td>0</td>\n",
       "      <td>0</td>\n",
       "    </tr>\n",
       "    <tr>\n",
       "      <th>11</th>\n",
       "      <td>0</td>\n",
       "      <td>0</td>\n",
       "    </tr>\n",
       "    <tr>\n",
       "      <th>12</th>\n",
       "      <td>0</td>\n",
       "      <td>0</td>\n",
       "    </tr>\n",
       "    <tr>\n",
       "      <th>13</th>\n",
       "      <td>0</td>\n",
       "      <td>0</td>\n",
       "    </tr>\n",
       "    <tr>\n",
       "      <th>14</th>\n",
       "      <td>0</td>\n",
       "      <td>0</td>\n",
       "    </tr>\n",
       "    <tr>\n",
       "      <th>15</th>\n",
       "      <td>0</td>\n",
       "      <td>0</td>\n",
       "    </tr>\n",
       "    <tr>\n",
       "      <th>16</th>\n",
       "      <td>0</td>\n",
       "      <td>0</td>\n",
       "    </tr>\n",
       "    <tr>\n",
       "      <th>17</th>\n",
       "      <td>0</td>\n",
       "      <td>0</td>\n",
       "    </tr>\n",
       "    <tr>\n",
       "      <th>18</th>\n",
       "      <td>0</td>\n",
       "      <td>1</td>\n",
       "    </tr>\n",
       "    <tr>\n",
       "      <th>19</th>\n",
       "      <td>0</td>\n",
       "      <td>0</td>\n",
       "    </tr>\n",
       "    <tr>\n",
       "      <th>20</th>\n",
       "      <td>0</td>\n",
       "      <td>0</td>\n",
       "    </tr>\n",
       "    <tr>\n",
       "      <th>21</th>\n",
       "      <td>0</td>\n",
       "      <td>0</td>\n",
       "    </tr>\n",
       "    <tr>\n",
       "      <th>22</th>\n",
       "      <td>0</td>\n",
       "      <td>0</td>\n",
       "    </tr>\n",
       "    <tr>\n",
       "      <th>23</th>\n",
       "      <td>0</td>\n",
       "      <td>1</td>\n",
       "    </tr>\n",
       "    <tr>\n",
       "      <th>24</th>\n",
       "      <td>0</td>\n",
       "      <td>0</td>\n",
       "    </tr>\n",
       "    <tr>\n",
       "      <th>25</th>\n",
       "      <td>0</td>\n",
       "      <td>0</td>\n",
       "    </tr>\n",
       "    <tr>\n",
       "      <th>26</th>\n",
       "      <td>0</td>\n",
       "      <td>0</td>\n",
       "    </tr>\n",
       "    <tr>\n",
       "      <th>27</th>\n",
       "      <td>0</td>\n",
       "      <td>0</td>\n",
       "    </tr>\n",
       "    <tr>\n",
       "      <th>28</th>\n",
       "      <td>0</td>\n",
       "      <td>0</td>\n",
       "    </tr>\n",
       "    <tr>\n",
       "      <th>29</th>\n",
       "      <td>0</td>\n",
       "      <td>0</td>\n",
       "    </tr>\n",
       "    <tr>\n",
       "      <th>...</th>\n",
       "      <td>...</td>\n",
       "      <td>...</td>\n",
       "    </tr>\n",
       "    <tr>\n",
       "      <th>4111</th>\n",
       "      <td>0</td>\n",
       "      <td>0</td>\n",
       "    </tr>\n",
       "    <tr>\n",
       "      <th>4112</th>\n",
       "      <td>0</td>\n",
       "      <td>0</td>\n",
       "    </tr>\n",
       "    <tr>\n",
       "      <th>4113</th>\n",
       "      <td>0</td>\n",
       "      <td>0</td>\n",
       "    </tr>\n",
       "    <tr>\n",
       "      <th>4114</th>\n",
       "      <td>1</td>\n",
       "      <td>1</td>\n",
       "    </tr>\n",
       "    <tr>\n",
       "      <th>4115</th>\n",
       "      <td>0</td>\n",
       "      <td>0</td>\n",
       "    </tr>\n",
       "    <tr>\n",
       "      <th>4116</th>\n",
       "      <td>0</td>\n",
       "      <td>1</td>\n",
       "    </tr>\n",
       "    <tr>\n",
       "      <th>4117</th>\n",
       "      <td>0</td>\n",
       "      <td>0</td>\n",
       "    </tr>\n",
       "    <tr>\n",
       "      <th>4118</th>\n",
       "      <td>0</td>\n",
       "      <td>1</td>\n",
       "    </tr>\n",
       "    <tr>\n",
       "      <th>4119</th>\n",
       "      <td>0</td>\n",
       "      <td>0</td>\n",
       "    </tr>\n",
       "    <tr>\n",
       "      <th>4120</th>\n",
       "      <td>0</td>\n",
       "      <td>0</td>\n",
       "    </tr>\n",
       "    <tr>\n",
       "      <th>4121</th>\n",
       "      <td>0</td>\n",
       "      <td>0</td>\n",
       "    </tr>\n",
       "    <tr>\n",
       "      <th>4122</th>\n",
       "      <td>0</td>\n",
       "      <td>1</td>\n",
       "    </tr>\n",
       "    <tr>\n",
       "      <th>4123</th>\n",
       "      <td>0</td>\n",
       "      <td>0</td>\n",
       "    </tr>\n",
       "    <tr>\n",
       "      <th>4124</th>\n",
       "      <td>0</td>\n",
       "      <td>0</td>\n",
       "    </tr>\n",
       "    <tr>\n",
       "      <th>4125</th>\n",
       "      <td>0</td>\n",
       "      <td>0</td>\n",
       "    </tr>\n",
       "    <tr>\n",
       "      <th>4126</th>\n",
       "      <td>0</td>\n",
       "      <td>0</td>\n",
       "    </tr>\n",
       "    <tr>\n",
       "      <th>4127</th>\n",
       "      <td>0</td>\n",
       "      <td>0</td>\n",
       "    </tr>\n",
       "    <tr>\n",
       "      <th>4128</th>\n",
       "      <td>0</td>\n",
       "      <td>0</td>\n",
       "    </tr>\n",
       "    <tr>\n",
       "      <th>4129</th>\n",
       "      <td>0</td>\n",
       "      <td>0</td>\n",
       "    </tr>\n",
       "    <tr>\n",
       "      <th>4130</th>\n",
       "      <td>0</td>\n",
       "      <td>0</td>\n",
       "    </tr>\n",
       "    <tr>\n",
       "      <th>4131</th>\n",
       "      <td>0</td>\n",
       "      <td>0</td>\n",
       "    </tr>\n",
       "    <tr>\n",
       "      <th>4132</th>\n",
       "      <td>0</td>\n",
       "      <td>0</td>\n",
       "    </tr>\n",
       "    <tr>\n",
       "      <th>4133</th>\n",
       "      <td>0</td>\n",
       "      <td>1</td>\n",
       "    </tr>\n",
       "    <tr>\n",
       "      <th>4134</th>\n",
       "      <td>0</td>\n",
       "      <td>0</td>\n",
       "    </tr>\n",
       "    <tr>\n",
       "      <th>4135</th>\n",
       "      <td>0</td>\n",
       "      <td>0</td>\n",
       "    </tr>\n",
       "    <tr>\n",
       "      <th>4136</th>\n",
       "      <td>0</td>\n",
       "      <td>0</td>\n",
       "    </tr>\n",
       "    <tr>\n",
       "      <th>4137</th>\n",
       "      <td>0</td>\n",
       "      <td>0</td>\n",
       "    </tr>\n",
       "    <tr>\n",
       "      <th>4138</th>\n",
       "      <td>0</td>\n",
       "      <td>0</td>\n",
       "    </tr>\n",
       "    <tr>\n",
       "      <th>4139</th>\n",
       "      <td>0</td>\n",
       "      <td>0</td>\n",
       "    </tr>\n",
       "    <tr>\n",
       "      <th>4140</th>\n",
       "      <td>0</td>\n",
       "      <td>0</td>\n",
       "    </tr>\n",
       "  </tbody>\n",
       "</table>\n",
       "<p>4141 rows × 2 columns</p>\n",
       "</div>"
      ],
      "text/plain": [
       "      Prediction  Actual\n",
       "0              0       0\n",
       "1              0       0\n",
       "2              0       0\n",
       "3              0       0\n",
       "4              0       0\n",
       "5              0       1\n",
       "6              0       0\n",
       "7              0       0\n",
       "8              0       0\n",
       "9              0       0\n",
       "10             0       0\n",
       "11             0       0\n",
       "12             0       0\n",
       "13             0       0\n",
       "14             0       0\n",
       "15             0       0\n",
       "16             0       0\n",
       "17             0       0\n",
       "18             0       1\n",
       "19             0       0\n",
       "20             0       0\n",
       "21             0       0\n",
       "22             0       0\n",
       "23             0       1\n",
       "24             0       0\n",
       "25             0       0\n",
       "26             0       0\n",
       "27             0       0\n",
       "28             0       0\n",
       "29             0       0\n",
       "...          ...     ...\n",
       "4111           0       0\n",
       "4112           0       0\n",
       "4113           0       0\n",
       "4114           1       1\n",
       "4115           0       0\n",
       "4116           0       1\n",
       "4117           0       0\n",
       "4118           0       1\n",
       "4119           0       0\n",
       "4120           0       0\n",
       "4121           0       0\n",
       "4122           0       1\n",
       "4123           0       0\n",
       "4124           0       0\n",
       "4125           0       0\n",
       "4126           0       0\n",
       "4127           0       0\n",
       "4128           0       0\n",
       "4129           0       0\n",
       "4130           0       0\n",
       "4131           0       0\n",
       "4132           0       0\n",
       "4133           0       1\n",
       "4134           0       0\n",
       "4135           0       0\n",
       "4136           0       0\n",
       "4137           0       0\n",
       "4138           0       0\n",
       "4139           0       0\n",
       "4140           0       0\n",
       "\n",
       "[4141 rows x 2 columns]"
      ]
     },
     "execution_count": 51,
     "metadata": {},
     "output_type": "execute_result"
    }
   ],
   "source": [
    "pd.DataFrame({'Prediction': predictions, \"Actual\": y_test}).reset_index(drop=True)"
   ]
  },
  {
   "cell_type": "code",
   "execution_count": 52,
   "metadata": {},
   "outputs": [
    {
     "data": {
      "text/plain": [
       "array([[3565,   87],\n",
       "       [ 376,  113]])"
      ]
     },
     "execution_count": 52,
     "metadata": {},
     "output_type": "execute_result"
    }
   ],
   "source": [
    "from sklearn.metrics import confusion_matrix,accuracy_score, precision_score, recall_score, f1_score\n",
    "confusion_matrix(y_test,predictions)"
   ]
  },
  {
   "cell_type": "code",
   "execution_count": 53,
   "metadata": {},
   "outputs": [
    {
     "data": {
      "text/html": [
       "<div>\n",
       "<style scoped>\n",
       "    .dataframe tbody tr th:only-of-type {\n",
       "        vertical-align: middle;\n",
       "    }\n",
       "\n",
       "    .dataframe tbody tr th {\n",
       "        vertical-align: top;\n",
       "    }\n",
       "\n",
       "    .dataframe thead th {\n",
       "        text-align: right;\n",
       "    }\n",
       "</style>\n",
       "<table border=\"1\" class=\"dataframe\">\n",
       "  <thead>\n",
       "    <tr style=\"text-align: right;\">\n",
       "      <th></th>\n",
       "      <th>Actually Alive</th>\n",
       "      <th>Actually Dead</th>\n",
       "    </tr>\n",
       "    <tr>\n",
       "      <th></th>\n",
       "      <th></th>\n",
       "      <th></th>\n",
       "    </tr>\n",
       "  </thead>\n",
       "  <tbody>\n",
       "    <tr>\n",
       "      <th>Predicted Alive</th>\n",
       "      <td>3565</td>\n",
       "      <td>376</td>\n",
       "    </tr>\n",
       "    <tr>\n",
       "      <th>Predicted Dead</th>\n",
       "      <td>87</td>\n",
       "      <td>113</td>\n",
       "    </tr>\n",
       "  </tbody>\n",
       "</table>\n",
       "</div>"
      ],
      "text/plain": [
       "                 Actually Alive  Actually Dead\n",
       "                                              \n",
       "Predicted Alive            3565            376\n",
       "Predicted Dead               87            113"
      ]
     },
     "execution_count": 53,
     "metadata": {},
     "output_type": "execute_result"
    }
   ],
   "source": [
    "x = pd.DataFrame({'Predictions':predictions, 'Actual':y_test }).reset_index(drop=True)\n",
    "crosstab = pd.crosstab(x['Predictions'],x['Actual'])\n",
    "crosstab.columns=['Actually Alive', 'Actually Dead']\n",
    "crosstab.index.names = ['']\n",
    "crosstab.rename(index={0:'Predicted Alive',1:'Predicted Dead'})"
   ]
  },
  {
   "cell_type": "code",
   "execution_count": 54,
   "metadata": {},
   "outputs": [
    {
     "data": {
      "text/plain": [
       "MultinomialNB(alpha=1.0, class_prior=None, fit_prior=True)"
      ]
     },
     "execution_count": 54,
     "metadata": {},
     "output_type": "execute_result"
    }
   ],
   "source": [
    "from sklearn.naive_bayes import MultinomialNB\n",
    "naive_bayes = MultinomialNB()\n",
    "naive_bayes.fit(data3, target)"
   ]
  },
  {
   "cell_type": "code",
   "execution_count": 55,
   "metadata": {},
   "outputs": [
    {
     "data": {
      "text/plain": [
       "array([0, 0, 0, ..., 0, 0, 0])"
      ]
     },
     "execution_count": 55,
     "metadata": {},
     "output_type": "execute_result"
    }
   ],
   "source": [
    "predictions_naive = naive_bayes.predict(data3)\n",
    "predictions_naive"
   ]
  },
  {
   "cell_type": "code",
   "execution_count": 56,
   "metadata": {},
   "outputs": [
    {
     "name": "stdout",
     "output_type": "stream",
     "text": [
      "Accuracy score: 0.8856556387346052\n",
      "Precision score: 0.5548561151079137\n",
      "Recall score: 0.3060515873015873\n",
      "F1 score: 0.3945012787723785\n"
     ]
    }
   ],
   "source": [
    "print( 'Accuracy score:', format(accuracy_score(target, predictions_naive)))\n",
    "print('Precision score:', format(precision_score(target, predictions_naive)))\n",
    "print('Recall score:', format(recall_score(target, predictions_naive)))\n",
    "print('F1 score:', format(f1_score(target, predictions_naive)))"
   ]
  },
  {
   "cell_type": "code",
   "execution_count": 57,
   "metadata": {},
   "outputs": [
    {
     "data": {
      "text/plain": [
       "0.8881912581502053"
      ]
     },
     "execution_count": 57,
     "metadata": {},
     "output_type": "execute_result"
    }
   ],
   "source": [
    "svm_score"
   ]
  },
  {
   "cell_type": "code",
   "execution_count": 58,
   "metadata": {},
   "outputs": [
    {
     "data": {
      "text/plain": [
       "0.8886742332769862"
      ]
     },
     "execution_count": 58,
     "metadata": {},
     "output_type": "execute_result"
    }
   ],
   "source": [
    "rf_score"
   ]
  },
  {
   "cell_type": "code",
   "execution_count": 59,
   "metadata": {},
   "outputs": [
    {
     "data": {
      "text/plain": [
       "0.8881912581502053"
      ]
     },
     "execution_count": 59,
     "metadata": {},
     "output_type": "execute_result"
    }
   ],
   "source": [
    "lr_testscore"
   ]
  },
  {
   "cell_type": "code",
   "execution_count": null,
   "metadata": {},
   "outputs": [],
   "source": []
  },
  {
   "cell_type": "code",
   "execution_count": 60,
   "metadata": {},
   "outputs": [],
   "source": [
    "import seaborn as sns"
   ]
  },
  {
   "cell_type": "code",
   "execution_count": 61,
   "metadata": {},
   "outputs": [],
   "source": [
    "age = pd.DataFrame(thyroid_demographics[['Admit Age In Years']])\n",
    "agecount= age['Admit Age In Years'].value_counts()\n",
    "age_df = pd.DataFrame(agecount)\n",
    "\n",
    "\n",
    "age_df= age_df.reset_index()\n",
    "age= age.reset_index()\n",
    "age = age[['index','Admit Age In Years']]\n",
    "\n",
    "#test = unique_hosp.rename(columns={'Hospital Number':'Counts'})\n",
    "#hosp_counts = test.reset_index().rename(columns={'index':'Hospital Number'})\n",
    "#hosp_counts.head()\n",
    "# merge_age= age.merge(Age_df, on='index')\n",
    "#merge_age\n",
    "#pd.merge(Age_df)\n",
    "#age_count"
   ]
  },
  {
   "cell_type": "code",
   "execution_count": 62,
   "metadata": {},
   "outputs": [],
   "source": [
    "age_df.head()\n",
    "age_df= age_df.rename(columns={'Admit Age In Years': 'Counts'})\n"
   ]
  },
  {
   "cell_type": "code",
   "execution_count": 63,
   "metadata": {},
   "outputs": [
    {
     "data": {
      "text/plain": [
       "array([ 0,  1,  2,  7, 15,  3,  8,  4])"
      ]
     },
     "execution_count": 63,
     "metadata": {},
     "output_type": "execute_result"
    }
   ],
   "source": [
    "merge_age= age.merge(age_df, on='index')\n",
    "\n",
    "merge_age=merge_age.drop('index', axis='columns')\n",
    "merge_age['Admit Age In Years'].unique()"
   ]
  },
  {
   "cell_type": "code",
   "execution_count": null,
   "metadata": {},
   "outputs": [],
   "source": []
  },
  {
   "cell_type": "code",
   "execution_count": 64,
   "metadata": {
    "scrolled": true
   },
   "outputs": [
    {
     "data": {
      "image/png": "[encoded data removed]",
      "text/plain": [
       "<Figure size 432x288 with 1 Axes>"
      ]
     },
     "metadata": {
      "needs_background": "light"
     },
     "output_type": "display_data"
    },
    {
     "data": {
      "text/plain": [
       "<Figure size 504x576 with 0 Axes>"
      ]
     },
     "metadata": {},
     "output_type": "display_data"
    }
   ],
   "source": [
    "#x = np.merge_age.normal(size=100)\n",
    "\n",
    "sns.distplot(merge_age['Admit Age In Years'],hist=True, bins=18,kde=False, rug=True);\n",
    "sns.set_style('whitegrid')\n",
    "plt.figure(figsize=(7,8))\n",
    "plt.tight_layout()\n",
    "fig2 = plt.gcf()\n",
    "fig2.savefig(\"pics/age-histogram.png\")\n",
    "\n"
   ]
  },
  {
   "cell_type": "code",
   "execution_count": 80,
   "metadata": {},
   "outputs": [
    {
     "data": {
      "image/png": "[encoded data removed]",
      "text/plain": [
       "<Figure size 432x288 with 1 Axes>"
      ]
     },
     "metadata": {},
     "output_type": "display_data"
    },
    {
     "data": {
      "text/plain": [
       "<Figure size 504x576 with 0 Axes>"
      ]
     },
     "metadata": {},
     "output_type": "display_data"
    },
    {
     "data": {
      "text/plain": [
       "<Figure size 432x288 with 0 Axes>"
      ]
     },
     "metadata": {},
     "output_type": "display_data"
    }
   ],
   "source": [
    "sns.kdeplot(merge_age['Admit Age In Years'], shade=True);\n",
    "plt.figure(figsize=(7,8))\n",
    "plt.tight_layout()\n",
    "plt.show()\n",
    "plt.savefig(\"pics/kdeplot.png\", bbox_inches=None)\n",
    "\n"
   ]
  },
  {
   "cell_type": "code",
   "execution_count": 66,
   "metadata": {},
   "outputs": [
    {
     "data": {
      "text/plain": [
       "<matplotlib.axes._subplots.AxesSubplot at 0x1a25758630>"
      ]
     },
     "execution_count": 66,
     "metadata": {},
     "output_type": "execute_result"
    },
    {
     "data": {
      "image/png": "[encoded data removed]",
      "text/plain": [
       "<Figure size 432x288 with 1 Axes>"
      ]
     },
     "metadata": {},
     "output_type": "display_data"
    }
   ],
   "source": [
    "sns.scatterplot(x=merge_age['Admit Age In Years'], y=merge_age['Counts'], sizes=(10,200),data=age)\n"
   ]
  },
  {
   "cell_type": "code",
   "execution_count": 67,
   "metadata": {},
   "outputs": [
    {
     "data": {
      "image/png": "[encoded data removed]",
      "text/plain": [
       "<Figure size 432x432 with 3 Axes>"
      ]
     },
     "metadata": {},
     "output_type": "display_data"
    },
    {
     "data": {
      "text/plain": [
       "<Figure size 504x576 with 0 Axes>"
      ]
     },
     "metadata": {},
     "output_type": "display_data"
    }
   ],
   "source": [
    "sns.jointplot(x=merge_age['Admit Age In Years'] , y=merge_age['Counts'],data= merge_age, kind ='kde');\n",
    "plt.figure(figsize=(7,8))\n",
    "plt.tight_layout()\n",
    "# plt.show()\n",
    "plt.savefig(\"pics/age-jointplot.png\")"
   ]
  },
  {
   "cell_type": "code",
   "execution_count": 68,
   "metadata": {},
   "outputs": [
    {
     "data": {
      "image/png": "[encoded data removed]",
      "text/plain": [
       "<Figure size 432x288 with 1 Axes>"
      ]
     },
     "metadata": {},
     "output_type": "display_data"
    }
   ],
   "source": [
    "sns.set(); np.random.seed(0)\n",
    "x=np.random.randn(100)\n",
    "ax=sns.distplot(x)"
   ]
  },
  {
   "cell_type": "code",
   "execution_count": 69,
   "metadata": {},
   "outputs": [
    {
     "data": {
      "image/png": "[encoded data removed]",
      "text/plain": [
       "<Figure size 432x288 with 1 Axes>"
      ]
     },
     "metadata": {},
     "output_type": "display_data"
    }
   ],
   "source": [
    "from scipy.stats import norm\n",
    "ax=sns.distplot(x,fit=norm,kde=False)"
   ]
  },
  {
   "cell_type": "code",
   "execution_count": 70,
   "metadata": {},
   "outputs": [
    {
     "data": {
      "text/html": [
       "<div>\n",
       "<style scoped>\n",
       "    .dataframe tbody tr th:only-of-type {\n",
       "        vertical-align: middle;\n",
       "    }\n",
       "\n",
       "    .dataframe tbody tr th {\n",
       "        vertical-align: top;\n",
       "    }\n",
       "\n",
       "    .dataframe thead th {\n",
       "        text-align: right;\n",
       "    }\n",
       "</style>\n",
       "<table border=\"1\" class=\"dataframe\">\n",
       "  <thead>\n",
       "    <tr style=\"text-align: right;\">\n",
       "      <th></th>\n",
       "      <th>Hospital Number</th>\n",
       "      <th>Admit Age In Years</th>\n",
       "      <th>Gender Title</th>\n",
       "      <th>Race - Version 1</th>\n",
       "      <th>Length Of Stay</th>\n",
       "      <th>Total Ped Expected LOS</th>\n",
       "      <th>Discharge Mortality Flag</th>\n",
       "      <th>Mechanical Vent Flag</th>\n",
       "      <th>ECMO Flag</th>\n",
       "      <th>Infection Flag</th>\n",
       "      <th>Medical Complication Flag</th>\n",
       "      <th>Surgical Complication Flag</th>\n",
       "      <th>Post Operative LOS</th>\n",
       "      <th>RACHS Score</th>\n",
       "      <th>Risk Of Mortality Title</th>\n",
       "      <th>Total Ped Expected Mortalities</th>\n",
       "      <th>Total Days In ICU</th>\n",
       "    </tr>\n",
       "  </thead>\n",
       "  <tbody>\n",
       "    <tr>\n",
       "      <th>0</th>\n",
       "      <td>2037</td>\n",
       "      <td>0</td>\n",
       "      <td>0</td>\n",
       "      <td>2</td>\n",
       "      <td>7</td>\n",
       "      <td>8.19</td>\n",
       "      <td>0</td>\n",
       "      <td>1</td>\n",
       "      <td>0</td>\n",
       "      <td>0</td>\n",
       "      <td>0</td>\n",
       "      <td>0</td>\n",
       "      <td>6</td>\n",
       "      <td>1</td>\n",
       "      <td>1</td>\n",
       "      <td>0.0000</td>\n",
       "      <td>4.0</td>\n",
       "    </tr>\n",
       "    <tr>\n",
       "      <th>1</th>\n",
       "      <td>2037</td>\n",
       "      <td>0</td>\n",
       "      <td>1</td>\n",
       "      <td>6</td>\n",
       "      <td>85</td>\n",
       "      <td>94.13</td>\n",
       "      <td>0</td>\n",
       "      <td>1</td>\n",
       "      <td>0</td>\n",
       "      <td>0</td>\n",
       "      <td>0</td>\n",
       "      <td>1</td>\n",
       "      <td>65</td>\n",
       "      <td>6</td>\n",
       "      <td>3</td>\n",
       "      <td>0.0794</td>\n",
       "      <td>61.0</td>\n",
       "    </tr>\n",
       "    <tr>\n",
       "      <th>2</th>\n",
       "      <td>2037</td>\n",
       "      <td>1</td>\n",
       "      <td>0</td>\n",
       "      <td>6</td>\n",
       "      <td>9</td>\n",
       "      <td>3.20</td>\n",
       "      <td>0</td>\n",
       "      <td>0</td>\n",
       "      <td>0</td>\n",
       "      <td>1</td>\n",
       "      <td>0</td>\n",
       "      <td>0</td>\n",
       "      <td>9</td>\n",
       "      <td>1</td>\n",
       "      <td>1</td>\n",
       "      <td>0.0007</td>\n",
       "      <td>4.0</td>\n",
       "    </tr>\n",
       "    <tr>\n",
       "      <th>4</th>\n",
       "      <td>2037</td>\n",
       "      <td>0</td>\n",
       "      <td>1</td>\n",
       "      <td>6</td>\n",
       "      <td>25</td>\n",
       "      <td>25.32</td>\n",
       "      <td>0</td>\n",
       "      <td>1</td>\n",
       "      <td>0</td>\n",
       "      <td>1</td>\n",
       "      <td>0</td>\n",
       "      <td>0</td>\n",
       "      <td>25</td>\n",
       "      <td>1</td>\n",
       "      <td>3</td>\n",
       "      <td>0.3899</td>\n",
       "      <td>0.0</td>\n",
       "    </tr>\n",
       "    <tr>\n",
       "      <th>5</th>\n",
       "      <td>2037</td>\n",
       "      <td>1</td>\n",
       "      <td>0</td>\n",
       "      <td>6</td>\n",
       "      <td>2</td>\n",
       "      <td>4.85</td>\n",
       "      <td>0</td>\n",
       "      <td>0</td>\n",
       "      <td>0</td>\n",
       "      <td>1</td>\n",
       "      <td>0</td>\n",
       "      <td>0</td>\n",
       "      <td>2</td>\n",
       "      <td>1</td>\n",
       "      <td>1</td>\n",
       "      <td>0.0099</td>\n",
       "      <td>0.0</td>\n",
       "    </tr>\n",
       "  </tbody>\n",
       "</table>\n",
       "</div>"
      ],
      "text/plain": [
       "   Hospital Number  Admit Age In Years  Gender Title  Race - Version 1  \\\n",
       "0             2037                   0             0                 2   \n",
       "1             2037                   0             1                 6   \n",
       "2             2037                   1             0                 6   \n",
       "4             2037                   0             1                 6   \n",
       "5             2037                   1             0                 6   \n",
       "\n",
       "  Length Of Stay  Total Ped Expected LOS  Discharge Mortality Flag  \\\n",
       "0              7                    8.19                         0   \n",
       "1             85                   94.13                         0   \n",
       "2              9                    3.20                         0   \n",
       "4             25                   25.32                         0   \n",
       "5              2                    4.85                         0   \n",
       "\n",
       "   Mechanical Vent Flag  ECMO Flag  Infection Flag  Medical Complication Flag  \\\n",
       "0                     1          0               0                          0   \n",
       "1                     1          0               0                          0   \n",
       "2                     0          0               1                          0   \n",
       "4                     1          0               1                          0   \n",
       "5                     0          0               1                          0   \n",
       "\n",
       "   Surgical Complication Flag Post Operative LOS  RACHS Score  \\\n",
       "0                           0                  6            1   \n",
       "1                           1                 65            6   \n",
       "2                           0                  9            1   \n",
       "4                           0                 25            1   \n",
       "5                           0                  2            1   \n",
       "\n",
       "   Risk Of Mortality Title  Total Ped Expected Mortalities  Total Days In ICU  \n",
       "0                        1                          0.0000                4.0  \n",
       "1                        3                          0.0794               61.0  \n",
       "2                        1                          0.0007                4.0  \n",
       "4                        3                          0.3899                0.0  \n",
       "5                        1                          0.0099                0.0  "
      ]
     },
     "execution_count": 70,
     "metadata": {},
     "output_type": "execute_result"
    }
   ],
   "source": [
    "thyroid_demographics['Hospital Number'].shape\n",
    "thyroid_demographics.head()\n"
   ]
  },
  {
   "cell_type": "code",
   "execution_count": 71,
   "metadata": {},
   "outputs": [
    {
     "data": {
      "image/png": "[encoded data removed]",
      "text/plain": [
       "<Figure size 504x1080 with 1 Axes>"
      ]
     },
     "metadata": {},
     "output_type": "display_data"
    }
   ],
   "source": [
    "male_count = np.sum(thyroid_demographics['Gender Title'] == 1)\n",
    "female_count = np.sum(thyroid_demographics['Gender Title'] == 0)\n",
    "gender = [male_count, female_count]\n",
    "gender_names=  ['Male', \"Female\"]\n",
    "explode = (0, 0.05)\n",
    "colors = ['skyblue', 'pink']\n",
    "plt.figure(figsize=(7,15))\n",
    "plt.pie(gender, labels=gender_names, explode=explode, textprops={'fontsize':20}, colors=colors, \n",
    "        startangle=90, autopct='%.1f%%', shadow=True)\n",
    "plt.title(\"Gender\", fontsize=20)\n",
    "plt.show()\n",
    "#uni.savefig(\"Gender_Pie.png\")"
   ]
  },
  {
   "cell_type": "code",
   "execution_count": 72,
   "metadata": {},
   "outputs": [
    {
     "data": {
      "text/plain": [
       "2020    1065\n",
       "2022     881\n",
       "2030     875\n",
       "1005     721\n",
       "2027     711\n",
       "2015     700\n",
       "2023     572\n",
       "1011     564\n",
       "2017     545\n",
       "2004     504\n",
       "2025     494\n",
       "1001     482\n",
       "2016     471\n",
       "2013     449\n",
       "2029     438\n",
       "2008     429\n",
       "2026     423\n",
       "2018     412\n",
       "1010     404\n",
       "2021     396\n",
       "1003     387\n",
       "1007     360\n",
       "2037     349\n",
       "2036     312\n",
       "2007     298\n",
       "3001     268\n",
       "1008     252\n",
       "2012     249\n",
       "2009     245\n",
       "2011     231\n",
       "2006     209\n",
       "2001     193\n",
       "1012     189\n",
       "2002     187\n",
       "2005     186\n",
       "2003     183\n",
       "3006     141\n",
       "3005     136\n",
       "3010     108\n",
       "2028      96\n",
       "3011      70\n",
       "3007      69\n",
       "2033      64\n",
       "3004      55\n",
       "2031      52\n",
       "2039      52\n",
       "3002      37\n",
       "3008      23\n",
       "3013      15\n",
       "3012      12\n",
       "Name: Hospital Number, dtype: int64"
      ]
     },
     "execution_count": 72,
     "metadata": {},
     "output_type": "execute_result"
    }
   ],
   "source": [
    "unique_hosp = thyroid_demographics['Hospital Number'].value_counts()\n",
    "unique_hosp"
   ]
  },
  {
   "cell_type": "code",
   "execution_count": 73,
   "metadata": {},
   "outputs": [
    {
     "name": "stderr",
     "output_type": "stream",
     "text": [
      "/Users/HeatherTrinh/anaconda3/lib/python3.7/site-packages/IPython/core/interactiveshell.py:3020: DtypeWarning: Columns (2,21,25,31,32,33,34,47) have mixed types. Specify dtype option on import or set low_memory=False.\n",
      "  interactivity=interactivity, compiler=compiler, result=result)\n"
     ]
    },
    {
     "data": {
      "text/plain": [
       "Discharge ID                         float64\n",
       "Billing Number                        object\n",
       "Medical Record Number                 object\n",
       "Hospital Number                      float64\n",
       "Hospital City                         object\n",
       "Hospital - Campus                     object\n",
       "Patient Type                         float64\n",
       "Patient Type Title                    object\n",
       "Admit Age In Years                   float64\n",
       "DOB                                   object\n",
       "Gender                               float64\n",
       "Gender Title                          object\n",
       "Ethnicity                            float64\n",
       "Ethnicity Title                       object\n",
       "Race - American Indian                object\n",
       "Race - Asian                          object\n",
       "Race - Black                          object\n",
       "Race - Other                          object\n",
       "Race - Pacific Islander               object\n",
       "Race - Version 1                     float64\n",
       "Race Title - Version 1                object\n",
       "Length Of Stay                        object\n",
       "Total Ped Expected LOS               float64\n",
       "Total Ped LOS Weight                 float64\n",
       "Disposition                          float64\n",
       "Disposition Title                     object\n",
       "Disposition - Version  1             float64\n",
       "Disposition Title  - Version 1        object\n",
       "Discharge Mortality Flag              object\n",
       "Admit Date                            object\n",
       "                                      ...   \n",
       "APR-DRG                              float64\n",
       "APR-DRG Code - Title                  object\n",
       "Severity Level                       float64\n",
       "Severity Level Title                  object\n",
       "Risk Of Mortality                    float64\n",
       "Risk Of Mortality Title               object\n",
       "Total Ped Expected Mortalities       float64\n",
       "Malignancy Flag                       object\n",
       "Renal and Urologic Flag               object\n",
       "Primary Source Of Payment            float64\n",
       "Primary Source Of Payment Title       object\n",
       "Principal Payer - Version 1          float64\n",
       "Principal Payer Title - Version 1     object\n",
       "Total Days In ICU                    float64\n",
       "Total Ped Expected Charges            object\n",
       "Total Ped Charge Weight              float64\n",
       "Adj Billed Charges                    object\n",
       "Adj Clinical Charges                  object\n",
       "Adj Imaging Charges                   object\n",
       "Adj Lab Charges                       object\n",
       "Adj Other Charges                     object\n",
       "Adj Pharmacy Charges                  object\n",
       "Adj Supply Charges                    object\n",
       "Billed Charges                        object\n",
       "Clinical Charges                      object\n",
       "Imaging Charges                       object\n",
       "Lab Charges                           object\n",
       "Other Charges                         object\n",
       "Pharmacy Charges                      object\n",
       "Supply Charges                        object\n",
       "Length: 93, dtype: object"
      ]
     },
     "execution_count": 73,
     "metadata": {},
     "output_type": "execute_result"
    }
   ],
   "source": [
    "thyroid = pd.read_csv('data/thyroid.csv')\n",
    "thyroid = thyroid.dropna(how=\"any\")\n",
    "thyroid.tail()\n",
    "thyroid['Hospital Number'].shape\n",
    "thyroid.dtypes"
   ]
  },
  {
   "cell_type": "code",
   "execution_count": 74,
   "metadata": {},
   "outputs": [
    {
     "data": {
      "text/html": [
       "<div>\n",
       "<style scoped>\n",
       "    .dataframe tbody tr th:only-of-type {\n",
       "        vertical-align: middle;\n",
       "    }\n",
       "\n",
       "    .dataframe tbody tr th {\n",
       "        vertical-align: top;\n",
       "    }\n",
       "\n",
       "    .dataframe thead th {\n",
       "        text-align: right;\n",
       "    }\n",
       "</style>\n",
       "<table border=\"1\" class=\"dataframe\">\n",
       "  <thead>\n",
       "    <tr style=\"text-align: right;\">\n",
       "      <th></th>\n",
       "      <th>Admit Age In Years</th>\n",
       "      <th>Gender Title</th>\n",
       "      <th>ECMO Flag</th>\n",
       "      <th>Mechanical Vent Flag</th>\n",
       "      <th>Infection Flag</th>\n",
       "      <th>Medical Complication Flag</th>\n",
       "    </tr>\n",
       "  </thead>\n",
       "  <tbody>\n",
       "    <tr>\n",
       "      <th>0</th>\n",
       "      <td>0</td>\n",
       "      <td>0</td>\n",
       "      <td>0</td>\n",
       "      <td>1</td>\n",
       "      <td>0</td>\n",
       "      <td>0</td>\n",
       "    </tr>\n",
       "    <tr>\n",
       "      <th>1</th>\n",
       "      <td>0</td>\n",
       "      <td>1</td>\n",
       "      <td>0</td>\n",
       "      <td>1</td>\n",
       "      <td>0</td>\n",
       "      <td>0</td>\n",
       "    </tr>\n",
       "    <tr>\n",
       "      <th>2</th>\n",
       "      <td>1</td>\n",
       "      <td>0</td>\n",
       "      <td>0</td>\n",
       "      <td>0</td>\n",
       "      <td>1</td>\n",
       "      <td>0</td>\n",
       "    </tr>\n",
       "    <tr>\n",
       "      <th>4</th>\n",
       "      <td>0</td>\n",
       "      <td>1</td>\n",
       "      <td>0</td>\n",
       "      <td>1</td>\n",
       "      <td>1</td>\n",
       "      <td>0</td>\n",
       "    </tr>\n",
       "    <tr>\n",
       "      <th>5</th>\n",
       "      <td>1</td>\n",
       "      <td>0</td>\n",
       "      <td>0</td>\n",
       "      <td>0</td>\n",
       "      <td>1</td>\n",
       "      <td>0</td>\n",
       "    </tr>\n",
       "  </tbody>\n",
       "</table>\n",
       "</div>"
      ],
      "text/plain": [
       "   Admit Age In Years  Gender Title  ECMO Flag  Mechanical Vent Flag  \\\n",
       "0                   0             0          0                     1   \n",
       "1                   0             1          0                     1   \n",
       "2                   1             0          0                     0   \n",
       "4                   0             1          0                     1   \n",
       "5                   1             0          0                     0   \n",
       "\n",
       "   Infection Flag  Medical Complication Flag  \n",
       "0               0                          0  \n",
       "1               0                          0  \n",
       "2               1                          0  \n",
       "4               1                          0  \n",
       "5               1                          0  "
      ]
     },
     "execution_count": 74,
     "metadata": {},
     "output_type": "execute_result"
    }
   ],
   "source": [
    "data3.head()"
   ]
  },
  {
   "cell_type": "code",
   "execution_count": 75,
   "metadata": {},
   "outputs": [],
   "source": [
    "#target_los = thyroid_demographics['Length Of Stay']\n",
    "#target_los.head()"
   ]
  },
  {
   "cell_type": "code",
   "execution_count": 76,
   "metadata": {},
   "outputs": [],
   "source": [
    "#from sklearn.model_selection import train_test_split\n",
    "#X_train, X_test, y_train, y_test = train_test_split(data3, target, random_state=42)"
   ]
  },
  {
   "cell_type": "code",
   "execution_count": null,
   "metadata": {},
   "outputs": [],
   "source": [
    "#from sklearn import linear_model\n",
    "#regr = linear_model.LinearRegression()\n",
    "#regr.fit(X_train, y_train)"
   ]
  },
  {
   "cell_type": "code",
   "execution_count": null,
   "metadata": {},
   "outputs": [],
   "source": [
    "#print(regr.coef_)"
   ]
  },
  {
   "cell_type": "code",
   "execution_count": null,
   "metadata": {},
   "outputs": [],
   "source": [
    "# The mean square error\n",
    "#np.mean((regr.predict(X_test) - y_test)**2)"
   ]
  },
  {
   "cell_type": "code",
   "execution_count": null,
   "metadata": {},
   "outputs": [],
   "source": [
    "#regr.score(X_test, y_test) "
   ]
  },
  {
   "cell_type": "code",
   "execution_count": null,
   "metadata": {},
   "outputs": [],
   "source": [
    "\n"
   ]
  },
  {
   "cell_type": "code",
   "execution_count": null,
   "metadata": {},
   "outputs": [],
   "source": []
  }
 ],
 "metadata": {
  "kernelspec": {
   "display_name": "Python 3",
   "language": "python",
   "name": "python3"
  },
  "language_info": {
   "codemirror_mode": {
    "name": "ipython",
    "version": 3
   },
   "file_extension": ".py",
   "mimetype": "text/x-python",
   "name": "python",
   "nbconvert_exporter": "python",
   "pygments_lexer": "ipython3",
   "version": "3.7.1"
  },
  "toc": {
   "base_numbering": 1,
   "nav_menu": {},
   "number_sections": false,
   "sideBar": false,
   "skip_h1_title": false,
   "title_cell": "Table of Contents",
   "title_sidebar": "Contents",
   "toc_cell": false,
   "toc_position": {},
   "toc_section_display": false,
   "toc_window_display": false
  }
 },
 "nbformat": 4,
 "nbformat_minor": 2
}
